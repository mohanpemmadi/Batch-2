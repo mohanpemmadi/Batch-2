{
 "cells": [
  {
   "cell_type": "markdown",
   "id": "f8ba70cf",
   "metadata": {},
   "source": [
    "# set is a collection of unordered ,unchangeable items and do not allow duplicates.set is a mutable object"
   ]
  },
  {
   "cell_type": "code",
   "execution_count": 1,
   "id": "a82e6a50",
   "metadata": {},
   "outputs": [],
   "source": [
    "st = set()"
   ]
  },
  {
   "cell_type": "code",
   "execution_count": 2,
   "id": "8b4f66d3",
   "metadata": {},
   "outputs": [
    {
     "data": {
      "text/plain": [
       "set"
      ]
     },
     "execution_count": 2,
     "metadata": {},
     "output_type": "execute_result"
    }
   ],
   "source": [
    "type(st)"
   ]
  },
  {
   "cell_type": "code",
   "execution_count": 5,
   "id": "a03eb655",
   "metadata": {},
   "outputs": [],
   "source": [
    "names = {'mohan','varma','srinu'}"
   ]
  },
  {
   "cell_type": "code",
   "execution_count": 6,
   "id": "6d9d8ff7",
   "metadata": {},
   "outputs": [
    {
     "data": {
      "text/plain": [
       "set"
      ]
     },
     "execution_count": 6,
     "metadata": {},
     "output_type": "execute_result"
    }
   ],
   "source": [
    "type(names)"
   ]
  },
  {
   "cell_type": "code",
   "execution_count": 7,
   "id": "5298a5ee",
   "metadata": {},
   "outputs": [
    {
     "data": {
      "text/plain": [
       "{'mohan', 'srinu', 'varma'}"
      ]
     },
     "execution_count": 7,
     "metadata": {},
     "output_type": "execute_result"
    }
   ],
   "source": [
    "names"
   ]
  },
  {
   "cell_type": "code",
   "execution_count": 9,
   "id": "13394241",
   "metadata": {},
   "outputs": [],
   "source": [
    "name_set = {'mohan','varma','srinu','mohan','srinu'}"
   ]
  },
  {
   "cell_type": "code",
   "execution_count": 10,
   "id": "6312138a",
   "metadata": {},
   "outputs": [
    {
     "data": {
      "text/plain": [
       "{'mohan', 'srinu', 'varma'}"
      ]
     },
     "execution_count": 10,
     "metadata": {},
     "output_type": "execute_result"
    }
   ],
   "source": [
    "name_set"
   ]
  },
  {
   "cell_type": "code",
   "execution_count": 11,
   "id": "cbcedbc4",
   "metadata": {},
   "outputs": [],
   "source": [
    "lst = ['mohan','varma','srinu']"
   ]
  },
  {
   "cell_type": "code",
   "execution_count": 12,
   "id": "0858bd7b",
   "metadata": {},
   "outputs": [
    {
     "data": {
      "text/plain": [
       "['mohan', 'varma', 'srinu']"
      ]
     },
     "execution_count": 12,
     "metadata": {},
     "output_type": "execute_result"
    }
   ],
   "source": [
    "lst"
   ]
  },
  {
   "cell_type": "code",
   "execution_count": 14,
   "id": "64b620b7",
   "metadata": {},
   "outputs": [],
   "source": [
    "lst[0] = 'sai'"
   ]
  },
  {
   "cell_type": "code",
   "execution_count": 15,
   "id": "693cf991",
   "metadata": {},
   "outputs": [
    {
     "data": {
      "text/plain": [
       "['sai', 'varma', 'srinu']"
      ]
     },
     "execution_count": 15,
     "metadata": {},
     "output_type": "execute_result"
    }
   ],
   "source": [
    "lst"
   ]
  },
  {
   "cell_type": "code",
   "execution_count": 16,
   "id": "e9cc2e95",
   "metadata": {},
   "outputs": [
    {
     "data": {
      "text/plain": [
       "{'mohan', 'srinu', 'varma'}"
      ]
     },
     "execution_count": 16,
     "metadata": {},
     "output_type": "execute_result"
    }
   ],
   "source": [
    "names"
   ]
  },
  {
   "cell_type": "code",
   "execution_count": 17,
   "id": "609fe329",
   "metadata": {},
   "outputs": [
    {
     "ename": "TypeError",
     "evalue": "'set' object is not subscriptable",
     "output_type": "error",
     "traceback": [
      "\u001b[1;31m---------------------------------------------------------------------------\u001b[0m",
      "\u001b[1;31mTypeError\u001b[0m                                 Traceback (most recent call last)",
      "Input \u001b[1;32mIn [17]\u001b[0m, in \u001b[0;36m<module>\u001b[1;34m\u001b[0m\n\u001b[1;32m----> 1\u001b[0m \u001b[43mnames\u001b[49m\u001b[43m[\u001b[49m\u001b[38;5;241;43m0\u001b[39;49m\u001b[43m]\u001b[49m\n",
      "\u001b[1;31mTypeError\u001b[0m: 'set' object is not subscriptable"
     ]
    }
   ],
   "source": [
    "names[0]"
   ]
  },
  {
   "cell_type": "code",
   "execution_count": 19,
   "id": "932ab720",
   "metadata": {},
   "outputs": [
    {
     "name": "stdout",
     "output_type": "stream",
     "text": [
      "varma\n",
      "srinu\n",
      "mohan\n"
     ]
    }
   ],
   "source": [
    "for i in names:\n",
    "    print(i)"
   ]
  },
  {
   "cell_type": "code",
   "execution_count": 20,
   "id": "2bf32b4e",
   "metadata": {},
   "outputs": [],
   "source": [
    "# 'add',\n",
    "# 'clear',\n",
    "# 'copy',\n",
    "# 'difference',\n",
    "# 'difference_update',\n",
    "# 'discard',\n",
    "# 'intersection',\n",
    "# 'intersection_update',\n",
    "# 'isdisjoint',\n",
    "# 'issubset',\n",
    "# 'issuperset',\n",
    "# 'pop',\n",
    "# 'remove',\n",
    "# 'symmetric_difference',\n",
    "# 'symmetric_difference_update',\n",
    "# 'union',\n",
    "# 'update'"
   ]
  },
  {
   "cell_type": "code",
   "execution_count": 21,
   "id": "df47df95",
   "metadata": {},
   "outputs": [
    {
     "data": {
      "text/plain": [
       "{'mohan', 'srinu', 'varma'}"
      ]
     },
     "execution_count": 21,
     "metadata": {},
     "output_type": "execute_result"
    }
   ],
   "source": [
    "names"
   ]
  },
  {
   "cell_type": "code",
   "execution_count": null,
   "id": "87a84b24",
   "metadata": {},
   "outputs": [],
   "source": [
    "#add"
   ]
  },
  {
   "cell_type": "code",
   "execution_count": 22,
   "id": "0820a91d",
   "metadata": {},
   "outputs": [],
   "source": [
    "names.add('sree')"
   ]
  },
  {
   "cell_type": "code",
   "execution_count": 23,
   "id": "2c41bd8f",
   "metadata": {},
   "outputs": [
    {
     "data": {
      "text/plain": [
       "{'mohan', 'sree', 'srinu', 'varma'}"
      ]
     },
     "execution_count": 23,
     "metadata": {},
     "output_type": "execute_result"
    }
   ],
   "source": [
    "names"
   ]
  },
  {
   "cell_type": "code",
   "execution_count": 24,
   "id": "0e6d9eaf",
   "metadata": {},
   "outputs": [],
   "source": [
    "# update"
   ]
  },
  {
   "cell_type": "code",
   "execution_count": 25,
   "id": "dcd01245",
   "metadata": {},
   "outputs": [],
   "source": [
    "names.update({'ravi','vasu'})"
   ]
  },
  {
   "cell_type": "code",
   "execution_count": 26,
   "id": "05c6e969",
   "metadata": {},
   "outputs": [
    {
     "data": {
      "text/plain": [
       "{'mohan', 'ravi', 'sree', 'srinu', 'varma', 'vasu'}"
      ]
     },
     "execution_count": 26,
     "metadata": {},
     "output_type": "execute_result"
    }
   ],
   "source": [
    "names"
   ]
  },
  {
   "cell_type": "code",
   "execution_count": 27,
   "id": "30e2183a",
   "metadata": {},
   "outputs": [],
   "source": [
    "# remove"
   ]
  },
  {
   "cell_type": "code",
   "execution_count": 28,
   "id": "76036466",
   "metadata": {},
   "outputs": [],
   "source": [
    "names.remove('sree')"
   ]
  },
  {
   "cell_type": "code",
   "execution_count": 29,
   "id": "7ffd567e",
   "metadata": {},
   "outputs": [
    {
     "data": {
      "text/plain": [
       "{'mohan', 'ravi', 'srinu', 'varma', 'vasu'}"
      ]
     },
     "execution_count": 29,
     "metadata": {},
     "output_type": "execute_result"
    }
   ],
   "source": [
    "names"
   ]
  },
  {
   "cell_type": "code",
   "execution_count": 33,
   "id": "e4aa4230",
   "metadata": {},
   "outputs": [
    {
     "ename": "KeyError",
     "evalue": "'abc'",
     "output_type": "error",
     "traceback": [
      "\u001b[1;31m---------------------------------------------------------------------------\u001b[0m",
      "\u001b[1;31mKeyError\u001b[0m                                  Traceback (most recent call last)",
      "Input \u001b[1;32mIn [33]\u001b[0m, in \u001b[0;36m<module>\u001b[1;34m\u001b[0m\n\u001b[1;32m----> 1\u001b[0m \u001b[43mnames\u001b[49m\u001b[38;5;241;43m.\u001b[39;49m\u001b[43mremove\u001b[49m\u001b[43m(\u001b[49m\u001b[38;5;124;43m'\u001b[39;49m\u001b[38;5;124;43mabc\u001b[39;49m\u001b[38;5;124;43m'\u001b[39;49m\u001b[43m)\u001b[49m\n",
      "\u001b[1;31mKeyError\u001b[0m: 'abc'"
     ]
    }
   ],
   "source": [
    "names.remove('abc')"
   ]
  },
  {
   "cell_type": "code",
   "execution_count": 30,
   "id": "b80be265",
   "metadata": {},
   "outputs": [],
   "source": [
    "# discard"
   ]
  },
  {
   "cell_type": "code",
   "execution_count": 31,
   "id": "de37a822",
   "metadata": {},
   "outputs": [],
   "source": [
    "names.discard('ravi')"
   ]
  },
  {
   "cell_type": "code",
   "execution_count": 32,
   "id": "71cf065b",
   "metadata": {},
   "outputs": [
    {
     "data": {
      "text/plain": [
       "{'mohan', 'srinu', 'varma', 'vasu'}"
      ]
     },
     "execution_count": 32,
     "metadata": {},
     "output_type": "execute_result"
    }
   ],
   "source": [
    "names"
   ]
  },
  {
   "cell_type": "code",
   "execution_count": 34,
   "id": "101ff217",
   "metadata": {},
   "outputs": [],
   "source": [
    "names.discard('sai')"
   ]
  },
  {
   "cell_type": "code",
   "execution_count": 35,
   "id": "ad3f82b1",
   "metadata": {},
   "outputs": [
    {
     "data": {
      "text/plain": [
       "{'mohan', 'srinu', 'varma', 'vasu'}"
      ]
     },
     "execution_count": 35,
     "metadata": {},
     "output_type": "execute_result"
    }
   ],
   "source": [
    "names"
   ]
  },
  {
   "cell_type": "code",
   "execution_count": 36,
   "id": "7c0df4c2",
   "metadata": {},
   "outputs": [],
   "source": [
    "# pop"
   ]
  },
  {
   "cell_type": "code",
   "execution_count": 37,
   "id": "2548a24d",
   "metadata": {},
   "outputs": [
    {
     "data": {
      "text/plain": [
       "{'mohan', 'srinu', 'varma', 'vasu'}"
      ]
     },
     "execution_count": 37,
     "metadata": {},
     "output_type": "execute_result"
    }
   ],
   "source": [
    "names"
   ]
  },
  {
   "cell_type": "code",
   "execution_count": 38,
   "id": "f192b536",
   "metadata": {},
   "outputs": [
    {
     "data": {
      "text/plain": [
       "'vasu'"
      ]
     },
     "execution_count": 38,
     "metadata": {},
     "output_type": "execute_result"
    }
   ],
   "source": [
    "names.pop()"
   ]
  },
  {
   "cell_type": "code",
   "execution_count": 39,
   "id": "0ffe0d14",
   "metadata": {},
   "outputs": [
    {
     "data": {
      "text/plain": [
       "{'mohan', 'srinu', 'varma'}"
      ]
     },
     "execution_count": 39,
     "metadata": {},
     "output_type": "execute_result"
    }
   ],
   "source": [
    "names"
   ]
  },
  {
   "cell_type": "code",
   "execution_count": 40,
   "id": "33e5bde5",
   "metadata": {},
   "outputs": [
    {
     "data": {
      "text/plain": [
       "'srinu'"
      ]
     },
     "execution_count": 40,
     "metadata": {},
     "output_type": "execute_result"
    }
   ],
   "source": [
    "names.pop()"
   ]
  },
  {
   "cell_type": "code",
   "execution_count": 41,
   "id": "a40a58d2",
   "metadata": {},
   "outputs": [
    {
     "data": {
      "text/plain": [
       "{'mohan', 'varma'}"
      ]
     },
     "execution_count": 41,
     "metadata": {},
     "output_type": "execute_result"
    }
   ],
   "source": [
    "names"
   ]
  },
  {
   "cell_type": "code",
   "execution_count": 42,
   "id": "69e5abfc",
   "metadata": {},
   "outputs": [
    {
     "data": {
      "text/plain": [
       "'mohan'"
      ]
     },
     "execution_count": 42,
     "metadata": {},
     "output_type": "execute_result"
    }
   ],
   "source": [
    "names.pop()"
   ]
  },
  {
   "cell_type": "code",
   "execution_count": 43,
   "id": "c84b5a67",
   "metadata": {},
   "outputs": [],
   "source": [
    "# union"
   ]
  },
  {
   "cell_type": "code",
   "execution_count": 44,
   "id": "8ee179dd",
   "metadata": {},
   "outputs": [],
   "source": [
    "set1 = {\"a\",\"b\",\"c\"}\n",
    "set2 = {\"d\",1,True}"
   ]
  },
  {
   "cell_type": "code",
   "execution_count": 48,
   "id": "913a83bf",
   "metadata": {},
   "outputs": [],
   "source": [
    "set3 = set1.union(set2)"
   ]
  },
  {
   "cell_type": "code",
   "execution_count": 49,
   "id": "bdd9cc4e",
   "metadata": {},
   "outputs": [
    {
     "data": {
      "text/plain": [
       "{'a', 'b', 'c'}"
      ]
     },
     "execution_count": 49,
     "metadata": {},
     "output_type": "execute_result"
    }
   ],
   "source": [
    "set1\n"
   ]
  },
  {
   "cell_type": "code",
   "execution_count": 50,
   "id": "3a657e0b",
   "metadata": {},
   "outputs": [
    {
     "data": {
      "text/plain": [
       "{1, 'd'}"
      ]
     },
     "execution_count": 50,
     "metadata": {},
     "output_type": "execute_result"
    }
   ],
   "source": [
    "set2"
   ]
  },
  {
   "cell_type": "code",
   "execution_count": 51,
   "id": "c1d9dc78",
   "metadata": {},
   "outputs": [
    {
     "data": {
      "text/plain": [
       "{1, 'a', 'b', 'c', 'd'}"
      ]
     },
     "execution_count": 51,
     "metadata": {},
     "output_type": "execute_result"
    }
   ],
   "source": [
    "set3"
   ]
  },
  {
   "cell_type": "code",
   "execution_count": 52,
   "id": "1c414df8",
   "metadata": {},
   "outputs": [],
   "source": [
    "# intersection"
   ]
  },
  {
   "cell_type": "code",
   "execution_count": 56,
   "id": "def47998",
   "metadata": {},
   "outputs": [],
   "source": [
    "set1 = {\"a\",\"b\",\"c\"}\n",
    "set2 = {\"d\",\"a\",\"z\",\"c\"}"
   ]
  },
  {
   "cell_type": "code",
   "execution_count": 57,
   "id": "486fb176",
   "metadata": {},
   "outputs": [
    {
     "data": {
      "text/plain": [
       "{'a', 'c'}"
      ]
     },
     "execution_count": 57,
     "metadata": {},
     "output_type": "execute_result"
    }
   ],
   "source": [
    "set1.intersection(set2)"
   ]
  },
  {
   "cell_type": "code",
   "execution_count": 58,
   "id": "1ff53b05",
   "metadata": {},
   "outputs": [
    {
     "data": {
      "text/plain": [
       "{'a', 'b', 'c'}"
      ]
     },
     "execution_count": 58,
     "metadata": {},
     "output_type": "execute_result"
    }
   ],
   "source": [
    "set1"
   ]
  },
  {
   "cell_type": "code",
   "execution_count": 59,
   "id": "a0e61c7a",
   "metadata": {},
   "outputs": [
    {
     "data": {
      "text/plain": [
       "{'a', 'c', 'd', 'z'}"
      ]
     },
     "execution_count": 59,
     "metadata": {},
     "output_type": "execute_result"
    }
   ],
   "source": [
    "set2"
   ]
  },
  {
   "cell_type": "code",
   "execution_count": 60,
   "id": "fa0bf089",
   "metadata": {},
   "outputs": [],
   "source": [
    "# issubset"
   ]
  },
  {
   "cell_type": "code",
   "execution_count": 61,
   "id": "dffabbda",
   "metadata": {},
   "outputs": [],
   "source": [
    "set1 = {\"a\",\"b\",\"c\"}\n",
    "set2 = {\"a\",\"c\"}\n",
    "set3 = {\"a\",\"z\"}\n"
   ]
  },
  {
   "cell_type": "code",
   "execution_count": 63,
   "id": "c6425644",
   "metadata": {},
   "outputs": [
    {
     "data": {
      "text/plain": [
       "True"
      ]
     },
     "execution_count": 63,
     "metadata": {},
     "output_type": "execute_result"
    }
   ],
   "source": [
    "set2.issubset(set1)"
   ]
  },
  {
   "cell_type": "code",
   "execution_count": 64,
   "id": "393e8a3f",
   "metadata": {},
   "outputs": [
    {
     "data": {
      "text/plain": [
       "False"
      ]
     },
     "execution_count": 64,
     "metadata": {},
     "output_type": "execute_result"
    }
   ],
   "source": [
    "set3.issubset(set1)"
   ]
  },
  {
   "cell_type": "code",
   "execution_count": 65,
   "id": "d421590e",
   "metadata": {},
   "outputs": [],
   "source": [
    "# issuperset"
   ]
  },
  {
   "cell_type": "code",
   "execution_count": 66,
   "id": "545f3bbd",
   "metadata": {},
   "outputs": [
    {
     "data": {
      "text/plain": [
       "True"
      ]
     },
     "execution_count": 66,
     "metadata": {},
     "output_type": "execute_result"
    }
   ],
   "source": [
    "set1.issuperset(set2)"
   ]
  },
  {
   "cell_type": "code",
   "execution_count": 67,
   "id": "2a06a586",
   "metadata": {},
   "outputs": [
    {
     "data": {
      "text/plain": [
       "False"
      ]
     },
     "execution_count": 67,
     "metadata": {},
     "output_type": "execute_result"
    }
   ],
   "source": [
    "set1.issuperset(set3)"
   ]
  },
  {
   "cell_type": "code",
   "execution_count": null,
   "id": "ba2b8c8d",
   "metadata": {},
   "outputs": [],
   "source": [
    "# "
   ]
  }
 ],
 "metadata": {
  "kernelspec": {
   "display_name": "Python 3 (ipykernel)",
   "language": "python",
   "name": "python3"
  },
  "language_info": {
   "codemirror_mode": {
    "name": "ipython",
    "version": 3
   },
   "file_extension": ".py",
   "mimetype": "text/x-python",
   "name": "python",
   "nbconvert_exporter": "python",
   "pygments_lexer": "ipython3",
   "version": "3.8.3"
  }
 },
 "nbformat": 4,
 "nbformat_minor": 5
}
