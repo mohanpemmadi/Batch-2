{
 "cells": [
  {
   "cell_type": "code",
   "execution_count": 1,
   "id": "15721876",
   "metadata": {},
   "outputs": [],
   "source": [
    "import os"
   ]
  },
  {
   "cell_type": "code",
   "execution_count": 2,
   "id": "31fa1c78",
   "metadata": {},
   "outputs": [],
   "source": [
    "# get current working directory - getcwd"
   ]
  },
  {
   "cell_type": "code",
   "execution_count": 3,
   "id": "f05e8dd2",
   "metadata": {},
   "outputs": [
    {
     "data": {
      "text/plain": [
       "'D:\\\\Python\\\\Batch-2'"
      ]
     },
     "execution_count": 3,
     "metadata": {},
     "output_type": "execute_result"
    }
   ],
   "source": [
    "os.getcwd()"
   ]
  },
  {
   "cell_type": "code",
   "execution_count": 4,
   "id": "7b02d140",
   "metadata": {},
   "outputs": [],
   "source": [
    "with open('test.txt') as f:\n",
    "    data = f.read()"
   ]
  },
  {
   "cell_type": "code",
   "execution_count": 5,
   "id": "0da7755d",
   "metadata": {},
   "outputs": [
    {
     "data": {
      "text/plain": [
       "'line number is one\\nline number two\\nline number three\\nline number four\\nline number five\\nline number six'"
      ]
     },
     "execution_count": 5,
     "metadata": {},
     "output_type": "execute_result"
    }
   ],
   "source": [
    "data"
   ]
  },
  {
   "cell_type": "code",
   "execution_count": 7,
   "id": "5073ce0a",
   "metadata": {},
   "outputs": [],
   "source": [
    "with open('D:/Python/Batch-2/test.txt') as f:\n",
    "    data2 = f.read()"
   ]
  },
  {
   "cell_type": "code",
   "execution_count": 8,
   "id": "a0a594a0",
   "metadata": {},
   "outputs": [
    {
     "data": {
      "text/plain": [
       "'line number is one\\nline number two\\nline number three\\nline number four\\nline number five\\nline number six'"
      ]
     },
     "execution_count": 8,
     "metadata": {},
     "output_type": "execute_result"
    }
   ],
   "source": [
    "data2"
   ]
  },
  {
   "cell_type": "code",
   "execution_count": 12,
   "id": "d4a8d5a0",
   "metadata": {},
   "outputs": [],
   "source": [
    "path = os.getcwd().replace(\"\\\\\",\"/\") +'/'+'test.txt'"
   ]
  },
  {
   "cell_type": "code",
   "execution_count": 13,
   "id": "ea860028",
   "metadata": {},
   "outputs": [
    {
     "data": {
      "text/plain": [
       "'D:/Python/Batch-2/test.txt'"
      ]
     },
     "execution_count": 13,
     "metadata": {},
     "output_type": "execute_result"
    }
   ],
   "source": [
    "path"
   ]
  },
  {
   "cell_type": "code",
   "execution_count": 14,
   "id": "e02027d0",
   "metadata": {},
   "outputs": [
    {
     "data": {
      "text/plain": [
       "'line number is one\\nline number two\\nline number three\\nline number four\\nline number five\\nline number six'"
      ]
     },
     "execution_count": 14,
     "metadata": {},
     "output_type": "execute_result"
    }
   ],
   "source": [
    "fp = open(path,'r')\n",
    "fp.read()"
   ]
  },
  {
   "cell_type": "code",
   "execution_count": 15,
   "id": "f215f40a",
   "metadata": {},
   "outputs": [],
   "source": [
    "# path.join"
   ]
  },
  {
   "cell_type": "code",
   "execution_count": 17,
   "id": "a6cfcab6",
   "metadata": {},
   "outputs": [
    {
     "data": {
      "text/plain": [
       "'abc\\\\xyz'"
      ]
     },
     "execution_count": 17,
     "metadata": {},
     "output_type": "execute_result"
    }
   ],
   "source": [
    "os.path.join('abc','xyz')"
   ]
  },
  {
   "cell_type": "code",
   "execution_count": 19,
   "id": "830d7182",
   "metadata": {},
   "outputs": [
    {
     "data": {
      "text/plain": [
       "'D:\\\\Python\\\\Batch-2\\\\abc\\\\test.txt'"
      ]
     },
     "execution_count": 19,
     "metadata": {},
     "output_type": "execute_result"
    }
   ],
   "source": [
    "os.path.join(os.getcwd(),'test.txt')"
   ]
  },
  {
   "cell_type": "code",
   "execution_count": 20,
   "id": "77420dae",
   "metadata": {},
   "outputs": [],
   "source": [
    "with open(os.path.join(os.getcwd(),'test.txt')) as fp:\n",
    "    data4 = fp.read()"
   ]
  },
  {
   "cell_type": "code",
   "execution_count": 21,
   "id": "b7c669bf",
   "metadata": {},
   "outputs": [
    {
     "data": {
      "text/plain": [
       "'line number is one\\nline number two\\nline number three\\nline number four\\nline number five\\nline number six'"
      ]
     },
     "execution_count": 21,
     "metadata": {},
     "output_type": "execute_result"
    }
   ],
   "source": [
    "data4"
   ]
  },
  {
   "cell_type": "code",
   "execution_count": 23,
   "id": "e24c4460",
   "metadata": {},
   "outputs": [
    {
     "data": {
      "text/plain": [
       "'D:\\\\Python\\\\Batch-2'"
      ]
     },
     "execution_count": 23,
     "metadata": {},
     "output_type": "execute_result"
    }
   ],
   "source": [
    "os.getcwd()"
   ]
  },
  {
   "cell_type": "code",
   "execution_count": null,
   "id": "07fa8c7c",
   "metadata": {},
   "outputs": [],
   "source": [
    "# mkdir"
   ]
  },
  {
   "cell_type": "code",
   "execution_count": 24,
   "id": "d79fceed",
   "metadata": {},
   "outputs": [],
   "source": [
    "os.mkdir('D:\\\\Python\\\\Batch-2\\\\ABC')"
   ]
  },
  {
   "cell_type": "code",
   "execution_count": 25,
   "id": "b1bcb354",
   "metadata": {},
   "outputs": [
    {
     "ename": "FileExistsError",
     "evalue": "[WinError 183] Cannot create a file when that file already exists: 'D:\\\\Python\\\\Batch-2\\\\ABC'",
     "output_type": "error",
     "traceback": [
      "\u001b[1;31m---------------------------------------------------------------------------\u001b[0m",
      "\u001b[1;31mFileExistsError\u001b[0m                           Traceback (most recent call last)",
      "Input \u001b[1;32mIn [25]\u001b[0m, in \u001b[0;36m<module>\u001b[1;34m\u001b[0m\n\u001b[1;32m----> 1\u001b[0m \u001b[43mos\u001b[49m\u001b[38;5;241;43m.\u001b[39;49m\u001b[43mmkdir\u001b[49m\u001b[43m(\u001b[49m\u001b[38;5;124;43m'\u001b[39;49m\u001b[38;5;124;43mD:\u001b[39;49m\u001b[38;5;130;43;01m\\\\\u001b[39;49;00m\u001b[38;5;124;43mPython\u001b[39;49m\u001b[38;5;130;43;01m\\\\\u001b[39;49;00m\u001b[38;5;124;43mBatch-2\u001b[39;49m\u001b[38;5;130;43;01m\\\\\u001b[39;49;00m\u001b[38;5;124;43mABC\u001b[39;49m\u001b[38;5;124;43m'\u001b[39;49m\u001b[43m)\u001b[49m\n",
      "\u001b[1;31mFileExistsError\u001b[0m: [WinError 183] Cannot create a file when that file already exists: 'D:\\\\Python\\\\Batch-2\\\\ABC'"
     ]
    }
   ],
   "source": [
    "os.mkdir('D:\\\\Python\\\\Batch-2\\\\ABC')"
   ]
  },
  {
   "cell_type": "code",
   "execution_count": 26,
   "id": "f9f2000c",
   "metadata": {},
   "outputs": [],
   "source": [
    "os.mkdir('xyz')"
   ]
  },
  {
   "cell_type": "code",
   "execution_count": 27,
   "id": "836e7161",
   "metadata": {},
   "outputs": [],
   "source": [
    "# rename"
   ]
  },
  {
   "cell_type": "code",
   "execution_count": 28,
   "id": "703873b9",
   "metadata": {},
   "outputs": [],
   "source": [
    "os.rename('test2.txt','test222.txt')"
   ]
  },
  {
   "cell_type": "code",
   "execution_count": 29,
   "id": "603ec387",
   "metadata": {},
   "outputs": [],
   "source": [
    "# path.exists"
   ]
  },
  {
   "cell_type": "code",
   "execution_count": 30,
   "id": "10d3835a",
   "metadata": {},
   "outputs": [
    {
     "data": {
      "text/plain": [
       "True"
      ]
     },
     "execution_count": 30,
     "metadata": {},
     "output_type": "execute_result"
    }
   ],
   "source": [
    "os.path.exists('test222.txt')"
   ]
  },
  {
   "cell_type": "code",
   "execution_count": 31,
   "id": "ad9982ae",
   "metadata": {},
   "outputs": [
    {
     "data": {
      "text/plain": [
       "False"
      ]
     },
     "execution_count": 31,
     "metadata": {},
     "output_type": "execute_result"
    }
   ],
   "source": [
    "os.path.exists('one.txt')"
   ]
  },
  {
   "cell_type": "code",
   "execution_count": 32,
   "id": "3fea4f66",
   "metadata": {},
   "outputs": [
    {
     "data": {
      "text/plain": [
       "True"
      ]
     },
     "execution_count": 32,
     "metadata": {},
     "output_type": "execute_result"
    }
   ],
   "source": [
    "os.path.exists('xyz')"
   ]
  },
  {
   "cell_type": "code",
   "execution_count": 33,
   "id": "944e3f93",
   "metadata": {},
   "outputs": [
    {
     "data": {
      "text/plain": [
       "False"
      ]
     },
     "execution_count": 33,
     "metadata": {},
     "output_type": "execute_result"
    }
   ],
   "source": [
    "os.path.exists('abcd')"
   ]
  },
  {
   "cell_type": "code",
   "execution_count": 36,
   "id": "5f9691d6",
   "metadata": {},
   "outputs": [
    {
     "name": "stdout",
     "output_type": "stream",
     "text": [
      "called\n"
     ]
    }
   ],
   "source": [
    "if not os.path.exists('abcd'):\n",
    "    os.mkdir('abcd')\n",
    "    print('called')\n",
    "    "
   ]
  },
  {
   "cell_type": "code",
   "execution_count": 37,
   "id": "d1908c49",
   "metadata": {},
   "outputs": [
    {
     "name": "stdout",
     "output_type": "stream",
     "text": [
      "file created\n"
     ]
    }
   ],
   "source": [
    "if not os.path.exists('abcd.txt'):\n",
    "    wp = open('abcd.txt','w')\n",
    "    print('file created')"
   ]
  },
  {
   "cell_type": "code",
   "execution_count": 38,
   "id": "f0df67f4",
   "metadata": {},
   "outputs": [],
   "source": [
    "# listdir"
   ]
  },
  {
   "cell_type": "code",
   "execution_count": 40,
   "id": "5c1ed6cd",
   "metadata": {},
   "outputs": [],
   "source": [
    "# os.listdir()"
   ]
  },
  {
   "cell_type": "code",
   "execution_count": 43,
   "id": "0a08bf46",
   "metadata": {},
   "outputs": [
    {
     "data": {
      "text/plain": [
       "['.ipynb_checkpoints', 'xyz.txt']"
      ]
     },
     "execution_count": 43,
     "metadata": {},
     "output_type": "execute_result"
    }
   ],
   "source": [
    "os.listdir(os.path.join(os.getcwd(),'xyz'))"
   ]
  },
  {
   "cell_type": "code",
   "execution_count": 44,
   "id": "7632d37d",
   "metadata": {},
   "outputs": [],
   "source": [
    "# list out all python files(.py ext)"
   ]
  },
  {
   "cell_type": "code",
   "execution_count": 50,
   "id": "64b9ce8b",
   "metadata": {},
   "outputs": [
    {
     "name": "stdout",
     "output_type": "stream",
     "text": [
      "abcd.txt\n",
      "postgresql.txt\n",
      "test.txt\n",
      "test222.txt\n"
     ]
    }
   ],
   "source": [
    "for file in os.listdir():\n",
    "    if file.endswith('.txt'):\n",
    "        print(file)"
   ]
  },
  {
   "cell_type": "code",
   "execution_count": 52,
   "id": "630449d8",
   "metadata": {},
   "outputs": [
    {
     "name": "stdout",
     "output_type": "stream",
     "text": [
      "10_dictionaries.ipynb\n"
     ]
    }
   ],
   "source": [
    "for file in os.listdir():\n",
    "    if file.startswith('10'):\n",
    "        print(file)"
   ]
  },
  {
   "cell_type": "code",
   "execution_count": null,
   "id": "8b95c0f6",
   "metadata": {},
   "outputs": [],
   "source": []
  }
 ],
 "metadata": {
  "kernelspec": {
   "display_name": "Python 3 (ipykernel)",
   "language": "python",
   "name": "python3"
  },
  "language_info": {
   "codemirror_mode": {
    "name": "ipython",
    "version": 3
   },
   "file_extension": ".py",
   "mimetype": "text/x-python",
   "name": "python",
   "nbconvert_exporter": "python",
   "pygments_lexer": "ipython3",
   "version": "3.8.3"
  }
 },
 "nbformat": 4,
 "nbformat_minor": 5
}
