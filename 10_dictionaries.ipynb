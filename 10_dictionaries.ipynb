{
 "cells": [
  {
   "cell_type": "code",
   "execution_count": null,
   "id": "4bc6faae",
   "metadata": {},
   "outputs": [],
   "source": [
    "'''Dictionary - Dictionaries are collection of unordered key-value pairs \n",
    "\n",
    "* Dictionaries are mutable objects.\n",
    "* keys must be unique \n",
    "* keys must be immutables '''\n",
    "\n",
    "\n",
    "# mutables - list,dictionary and set\n",
    "\n",
    "# immutables - numbers,boolean,string and tuple"
   ]
  },
  {
   "cell_type": "code",
   "execution_count": 1,
   "id": "6a4c6eab",
   "metadata": {},
   "outputs": [],
   "source": [
    "dt = {'name':'siva','age':30,'salary':10000,'active':True}"
   ]
  },
  {
   "cell_type": "code",
   "execution_count": 5,
   "id": "1e09ffa5",
   "metadata": {},
   "outputs": [
    {
     "data": {
      "text/plain": [
       "{'name': 'siva', 'age': 30, 'salary': 10000, 'active': True}"
      ]
     },
     "execution_count": 5,
     "metadata": {},
     "output_type": "execute_result"
    }
   ],
   "source": [
    "dt"
   ]
  },
  {
   "cell_type": "code",
   "execution_count": null,
   "id": "e7697a6b",
   "metadata": {},
   "outputs": [],
   "source": [
    "variable_name[key]"
   ]
  },
  {
   "cell_type": "code",
   "execution_count": 3,
   "id": "42b4c2e7",
   "metadata": {},
   "outputs": [
    {
     "data": {
      "text/plain": [
       "'siva'"
      ]
     },
     "execution_count": 3,
     "metadata": {},
     "output_type": "execute_result"
    }
   ],
   "source": [
    "dt['name']"
   ]
  },
  {
   "cell_type": "code",
   "execution_count": 4,
   "id": "c1c3f2a9",
   "metadata": {},
   "outputs": [
    {
     "data": {
      "text/plain": [
       "10000"
      ]
     },
     "execution_count": 4,
     "metadata": {},
     "output_type": "execute_result"
    }
   ],
   "source": [
    "dt['salary']"
   ]
  },
  {
   "cell_type": "code",
   "execution_count": 6,
   "id": "75b66fa4",
   "metadata": {},
   "outputs": [
    {
     "data": {
      "text/plain": [
       "{'name': 'siva', 'age': 30, 'salary': 10000, 'active': True}"
      ]
     },
     "execution_count": 6,
     "metadata": {},
     "output_type": "execute_result"
    }
   ],
   "source": [
    "dt"
   ]
  },
  {
   "cell_type": "code",
   "execution_count": 7,
   "id": "c5581969",
   "metadata": {},
   "outputs": [
    {
     "data": {
      "text/plain": [
       "'siva'"
      ]
     },
     "execution_count": 7,
     "metadata": {},
     "output_type": "execute_result"
    }
   ],
   "source": [
    "dt['name']"
   ]
  },
  {
   "cell_type": "code",
   "execution_count": 8,
   "id": "2f5bba4f",
   "metadata": {},
   "outputs": [],
   "source": [
    "dt['name'] = 'mohan'"
   ]
  },
  {
   "cell_type": "code",
   "execution_count": 9,
   "id": "9839656f",
   "metadata": {},
   "outputs": [
    {
     "data": {
      "text/plain": [
       "{'name': 'mohan', 'age': 30, 'salary': 10000, 'active': True}"
      ]
     },
     "execution_count": 9,
     "metadata": {},
     "output_type": "execute_result"
    }
   ],
   "source": [
    "dt"
   ]
  },
  {
   "cell_type": "code",
   "execution_count": 10,
   "id": "a406c8a0",
   "metadata": {},
   "outputs": [],
   "source": [
    "dt['id'] = 111"
   ]
  },
  {
   "cell_type": "code",
   "execution_count": 11,
   "id": "5b40a0ef",
   "metadata": {},
   "outputs": [
    {
     "data": {
      "text/plain": [
       "{'name': 'mohan', 'age': 30, 'salary': 10000, 'active': True, 'id': 111}"
      ]
     },
     "execution_count": 11,
     "metadata": {},
     "output_type": "execute_result"
    }
   ],
   "source": [
    "dt"
   ]
  },
  {
   "cell_type": "code",
   "execution_count": 12,
   "id": "fcc8f880",
   "metadata": {},
   "outputs": [],
   "source": [
    "d = {'name':'mohan','age':31,'age':44,'id':111}"
   ]
  },
  {
   "cell_type": "code",
   "execution_count": 13,
   "id": "3c0d9ac4",
   "metadata": {},
   "outputs": [
    {
     "data": {
      "text/plain": [
       "{'name': 'mohan', 'age': 44, 'id': 111}"
      ]
     },
     "execution_count": 13,
     "metadata": {},
     "output_type": "execute_result"
    }
   ],
   "source": [
    "d"
   ]
  },
  {
   "cell_type": "code",
   "execution_count": 14,
   "id": "603a90d1",
   "metadata": {},
   "outputs": [],
   "source": [
    "dd = {'name':'mohan',1:1000,12.35:2000,(1,2,3):3000}"
   ]
  },
  {
   "cell_type": "code",
   "execution_count": 17,
   "id": "9c92c29a",
   "metadata": {},
   "outputs": [
    {
     "data": {
      "text/plain": [
       "{'name': 'mohan', 1: 1000, 12.35: 2000, (1, 2, 3): 3000}"
      ]
     },
     "execution_count": 17,
     "metadata": {},
     "output_type": "execute_result"
    }
   ],
   "source": [
    "dd"
   ]
  },
  {
   "cell_type": "code",
   "execution_count": 16,
   "id": "b8613462",
   "metadata": {},
   "outputs": [
    {
     "data": {
      "text/plain": [
       "'mohan'"
      ]
     },
     "execution_count": 16,
     "metadata": {},
     "output_type": "execute_result"
    }
   ],
   "source": [
    "dd['name']"
   ]
  },
  {
   "cell_type": "code",
   "execution_count": 18,
   "id": "42a66652",
   "metadata": {},
   "outputs": [
    {
     "data": {
      "text/plain": [
       "1000"
      ]
     },
     "execution_count": 18,
     "metadata": {},
     "output_type": "execute_result"
    }
   ],
   "source": [
    "dd[1]"
   ]
  },
  {
   "cell_type": "code",
   "execution_count": 19,
   "id": "50ac7607",
   "metadata": {},
   "outputs": [
    {
     "data": {
      "text/plain": [
       "2000"
      ]
     },
     "execution_count": 19,
     "metadata": {},
     "output_type": "execute_result"
    }
   ],
   "source": [
    "dd[12.35]"
   ]
  },
  {
   "cell_type": "code",
   "execution_count": 20,
   "id": "4979948b",
   "metadata": {},
   "outputs": [
    {
     "data": {
      "text/plain": [
       "3000"
      ]
     },
     "execution_count": 20,
     "metadata": {},
     "output_type": "execute_result"
    }
   ],
   "source": [
    "dd[(1,2,3)]"
   ]
  },
  {
   "cell_type": "code",
   "execution_count": 21,
   "id": "2520b9ba",
   "metadata": {},
   "outputs": [
    {
     "ename": "TypeError",
     "evalue": "unhashable type: 'list'",
     "output_type": "error",
     "traceback": [
      "\u001b[1;31m---------------------------------------------------------------------------\u001b[0m",
      "\u001b[1;31mTypeError\u001b[0m                                 Traceback (most recent call last)",
      "Input \u001b[1;32mIn [21]\u001b[0m, in \u001b[0;36m<module>\u001b[1;34m\u001b[0m\n\u001b[1;32m----> 1\u001b[0m dd \u001b[38;5;241m=\u001b[39m {\u001b[38;5;124m'\u001b[39m\u001b[38;5;124mname\u001b[39m\u001b[38;5;124m'\u001b[39m:\u001b[38;5;124m'\u001b[39m\u001b[38;5;124mmohan\u001b[39m\u001b[38;5;124m'\u001b[39m,\u001b[38;5;241m1\u001b[39m:\u001b[38;5;241m1000\u001b[39m,\u001b[38;5;241m12.35\u001b[39m:\u001b[38;5;241m2000\u001b[39m,[\u001b[38;5;241m1\u001b[39m,\u001b[38;5;241m2\u001b[39m,\u001b[38;5;241m3\u001b[39m]:\u001b[38;5;241m3000\u001b[39m}\n",
      "\u001b[1;31mTypeError\u001b[0m: unhashable type: 'list'"
     ]
    }
   ],
   "source": [
    "dd = {'name':'mohan',1:1000,12.35:2000,[1,2,3]:3000}"
   ]
  },
  {
   "cell_type": "code",
   "execution_count": 22,
   "id": "0e6d917f",
   "metadata": {},
   "outputs": [
    {
     "ename": "TypeError",
     "evalue": "unhashable type: 'dict'",
     "output_type": "error",
     "traceback": [
      "\u001b[1;31m---------------------------------------------------------------------------\u001b[0m",
      "\u001b[1;31mTypeError\u001b[0m                                 Traceback (most recent call last)",
      "Input \u001b[1;32mIn [22]\u001b[0m, in \u001b[0;36m<module>\u001b[1;34m\u001b[0m\n\u001b[1;32m----> 1\u001b[0m dd \u001b[38;5;241m=\u001b[39m {\u001b[38;5;124m'\u001b[39m\u001b[38;5;124mname\u001b[39m\u001b[38;5;124m'\u001b[39m:\u001b[38;5;124m'\u001b[39m\u001b[38;5;124mmohan\u001b[39m\u001b[38;5;124m'\u001b[39m,\u001b[38;5;241m1\u001b[39m:\u001b[38;5;241m1000\u001b[39m,\u001b[38;5;241m12.35\u001b[39m:\u001b[38;5;241m2000\u001b[39m,{\u001b[38;5;124m'\u001b[39m\u001b[38;5;124mpassword\u001b[39m\u001b[38;5;124m'\u001b[39m:\u001b[38;5;124m'\u001b[39m\u001b[38;5;124mabc\u001b[39m\u001b[38;5;124m'\u001b[39m}:\u001b[38;5;241m3000\u001b[39m}\n",
      "\u001b[1;31mTypeError\u001b[0m: unhashable type: 'dict'"
     ]
    }
   ],
   "source": [
    "dd = {'name':'mohan',1:1000,12.35:2000,{'password':'abc'}:3000}"
   ]
  },
  {
   "cell_type": "code",
   "execution_count": 23,
   "id": "525a3412",
   "metadata": {},
   "outputs": [],
   "source": [
    "dd = {'name':'mohan',1:1000,12.35:2000,'user':{'password':'abc'}}"
   ]
  },
  {
   "cell_type": "code",
   "execution_count": 24,
   "id": "6c205433",
   "metadata": {},
   "outputs": [
    {
     "data": {
      "text/plain": [
       "{'name': 'mohan', 1: 1000, 12.35: 2000, 'user': {'password': 'abc'}}"
      ]
     },
     "execution_count": 24,
     "metadata": {},
     "output_type": "execute_result"
    }
   ],
   "source": [
    "dd"
   ]
  },
  {
   "cell_type": "code",
   "execution_count": 25,
   "id": "b6b859b9",
   "metadata": {},
   "outputs": [],
   "source": [
    "dt = {'name':'siva','age':30,'salary':10000,'active':True}"
   ]
  },
  {
   "cell_type": "code",
   "execution_count": 26,
   "id": "90299a4f",
   "metadata": {},
   "outputs": [
    {
     "data": {
      "text/plain": [
       "dict"
      ]
     },
     "execution_count": 26,
     "metadata": {},
     "output_type": "execute_result"
    }
   ],
   "source": [
    "type(dt)"
   ]
  },
  {
   "cell_type": "code",
   "execution_count": 28,
   "id": "0866fc34",
   "metadata": {},
   "outputs": [],
   "source": [
    "# dir(dt)"
   ]
  },
  {
   "cell_type": "code",
   "execution_count": 29,
   "id": "d1762c34",
   "metadata": {},
   "outputs": [],
   "source": [
    "# 'clear',\n",
    "#  'copy',\n",
    "#  'fromkeys',\n",
    "#  'get',\n",
    "#  'items',\n",
    "#  'keys',\n",
    "#  'pop',\n",
    "#  'popitem',\n",
    "#  'setdefault',\n",
    "#  'update',\n",
    "#  'values'"
   ]
  },
  {
   "cell_type": "code",
   "execution_count": 30,
   "id": "18ba30dc",
   "metadata": {},
   "outputs": [],
   "source": [
    "# get"
   ]
  },
  {
   "cell_type": "code",
   "execution_count": 32,
   "id": "e360b73f",
   "metadata": {},
   "outputs": [
    {
     "data": {
      "text/plain": [
       "'siva'"
      ]
     },
     "execution_count": 32,
     "metadata": {},
     "output_type": "execute_result"
    }
   ],
   "source": [
    "dt['name']"
   ]
  },
  {
   "cell_type": "code",
   "execution_count": 33,
   "id": "253ae629",
   "metadata": {},
   "outputs": [
    {
     "data": {
      "text/plain": [
       "'siva'"
      ]
     },
     "execution_count": 33,
     "metadata": {},
     "output_type": "execute_result"
    }
   ],
   "source": [
    "dt.get('name')"
   ]
  },
  {
   "cell_type": "code",
   "execution_count": 34,
   "id": "c6fb770d",
   "metadata": {},
   "outputs": [
    {
     "data": {
      "text/plain": [
       "10000"
      ]
     },
     "execution_count": 34,
     "metadata": {},
     "output_type": "execute_result"
    }
   ],
   "source": [
    "dt.get('salary')"
   ]
  },
  {
   "cell_type": "code",
   "execution_count": 35,
   "id": "e1b19cc3",
   "metadata": {},
   "outputs": [],
   "source": [
    "dt.get('id')"
   ]
  },
  {
   "cell_type": "code",
   "execution_count": 36,
   "id": "34dc4bab",
   "metadata": {},
   "outputs": [
    {
     "ename": "KeyError",
     "evalue": "'id'",
     "output_type": "error",
     "traceback": [
      "\u001b[1;31m---------------------------------------------------------------------------\u001b[0m",
      "\u001b[1;31mKeyError\u001b[0m                                  Traceback (most recent call last)",
      "Input \u001b[1;32mIn [36]\u001b[0m, in \u001b[0;36m<module>\u001b[1;34m\u001b[0m\n\u001b[1;32m----> 1\u001b[0m \u001b[43mdt\u001b[49m\u001b[43m[\u001b[49m\u001b[38;5;124;43m'\u001b[39;49m\u001b[38;5;124;43mid\u001b[39;49m\u001b[38;5;124;43m'\u001b[39;49m\u001b[43m]\u001b[49m\n",
      "\u001b[1;31mKeyError\u001b[0m: 'id'"
     ]
    }
   ],
   "source": [
    "dt['id']"
   ]
  },
  {
   "cell_type": "code",
   "execution_count": 37,
   "id": "dc53e0de",
   "metadata": {},
   "outputs": [],
   "source": [
    "# keys"
   ]
  },
  {
   "cell_type": "code",
   "execution_count": 38,
   "id": "1b511562",
   "metadata": {},
   "outputs": [
    {
     "data": {
      "text/plain": [
       "dict_keys(['name', 'age', 'salary', 'active'])"
      ]
     },
     "execution_count": 38,
     "metadata": {},
     "output_type": "execute_result"
    }
   ],
   "source": [
    "dt.keys()"
   ]
  },
  {
   "cell_type": "code",
   "execution_count": 39,
   "id": "25e09c55",
   "metadata": {},
   "outputs": [],
   "source": [
    "# values"
   ]
  },
  {
   "cell_type": "code",
   "execution_count": 40,
   "id": "4e1c32c3",
   "metadata": {},
   "outputs": [
    {
     "data": {
      "text/plain": [
       "dict_values(['siva', 30, 10000, True])"
      ]
     },
     "execution_count": 40,
     "metadata": {},
     "output_type": "execute_result"
    }
   ],
   "source": [
    "dt.values()"
   ]
  },
  {
   "cell_type": "code",
   "execution_count": 41,
   "id": "386c315d",
   "metadata": {},
   "outputs": [],
   "source": [
    "# items"
   ]
  },
  {
   "cell_type": "code",
   "execution_count": 42,
   "id": "e7376a07",
   "metadata": {},
   "outputs": [
    {
     "data": {
      "text/plain": [
       "dict_items([('name', 'siva'), ('age', 30), ('salary', 10000), ('active', True)])"
      ]
     },
     "execution_count": 42,
     "metadata": {},
     "output_type": "execute_result"
    }
   ],
   "source": [
    "dt.items()"
   ]
  },
  {
   "cell_type": "code",
   "execution_count": 43,
   "id": "f1d2561c",
   "metadata": {},
   "outputs": [],
   "source": [
    "# setdefault"
   ]
  },
  {
   "cell_type": "code",
   "execution_count": 45,
   "id": "923323d6",
   "metadata": {},
   "outputs": [
    {
     "data": {
      "text/plain": [
       "{'name': 'siva', 'age': 30, 'salary': 10000, 'active': True}"
      ]
     },
     "execution_count": 45,
     "metadata": {},
     "output_type": "execute_result"
    }
   ],
   "source": [
    "dt"
   ]
  },
  {
   "cell_type": "code",
   "execution_count": 44,
   "id": "14748e06",
   "metadata": {},
   "outputs": [
    {
     "data": {
      "text/plain": [
       "'siva'"
      ]
     },
     "execution_count": 44,
     "metadata": {},
     "output_type": "execute_result"
    }
   ],
   "source": [
    "dt.setdefault('name')"
   ]
  },
  {
   "cell_type": "code",
   "execution_count": 46,
   "id": "58d8f1ec",
   "metadata": {},
   "outputs": [],
   "source": [
    "dt.setdefault('id')"
   ]
  },
  {
   "cell_type": "code",
   "execution_count": 47,
   "id": "f584948b",
   "metadata": {},
   "outputs": [
    {
     "data": {
      "text/plain": [
       "{'name': 'siva', 'age': 30, 'salary': 10000, 'active': True, 'id': None}"
      ]
     },
     "execution_count": 47,
     "metadata": {},
     "output_type": "execute_result"
    }
   ],
   "source": [
    "dt"
   ]
  },
  {
   "cell_type": "code",
   "execution_count": 50,
   "id": "20bcf7b8",
   "metadata": {},
   "outputs": [
    {
     "data": {
      "text/plain": [
       "222"
      ]
     },
     "execution_count": 50,
     "metadata": {},
     "output_type": "execute_result"
    }
   ],
   "source": [
    "dt.setdefault(123,222)"
   ]
  },
  {
   "cell_type": "code",
   "execution_count": 51,
   "id": "0d51366d",
   "metadata": {},
   "outputs": [
    {
     "data": {
      "text/plain": [
       "{'name': 'siva',\n",
       " 'age': 30,\n",
       " 'salary': 10000,\n",
       " 'active': True,\n",
       " 'id': None,\n",
       " 123: 222}"
      ]
     },
     "execution_count": 51,
     "metadata": {},
     "output_type": "execute_result"
    }
   ],
   "source": [
    "dt"
   ]
  },
  {
   "cell_type": "code",
   "execution_count": 52,
   "id": "93fcba6d",
   "metadata": {},
   "outputs": [],
   "source": [
    "# update"
   ]
  },
  {
   "cell_type": "code",
   "execution_count": 54,
   "id": "5296b671",
   "metadata": {},
   "outputs": [],
   "source": [
    "dt = {'name':'siva','age':30,'salary':10000,'active':True}"
   ]
  },
  {
   "cell_type": "code",
   "execution_count": 55,
   "id": "626e7b2b",
   "metadata": {},
   "outputs": [
    {
     "data": {
      "text/plain": [
       "{'name': 'siva', 'age': 30, 'salary': 10000, 'active': True}"
      ]
     },
     "execution_count": 55,
     "metadata": {},
     "output_type": "execute_result"
    }
   ],
   "source": [
    "dt"
   ]
  },
  {
   "cell_type": "code",
   "execution_count": 56,
   "id": "7e05c566",
   "metadata": {},
   "outputs": [],
   "source": [
    "dt1 = {'designation':'tech lead'}"
   ]
  },
  {
   "cell_type": "code",
   "execution_count": 57,
   "id": "4a9f3d56",
   "metadata": {},
   "outputs": [
    {
     "data": {
      "text/plain": [
       "{'designation': 'tech lead'}"
      ]
     },
     "execution_count": 57,
     "metadata": {},
     "output_type": "execute_result"
    }
   ],
   "source": [
    "dt1"
   ]
  },
  {
   "cell_type": "code",
   "execution_count": 58,
   "id": "ea72f6c7",
   "metadata": {},
   "outputs": [],
   "source": [
    "dt.update(dt1)"
   ]
  },
  {
   "cell_type": "code",
   "execution_count": 59,
   "id": "be6c105b",
   "metadata": {},
   "outputs": [
    {
     "data": {
      "text/plain": [
       "{'name': 'siva',\n",
       " 'age': 30,\n",
       " 'salary': 10000,\n",
       " 'active': True,\n",
       " 'designation': 'tech lead'}"
      ]
     },
     "execution_count": 59,
     "metadata": {},
     "output_type": "execute_result"
    }
   ],
   "source": [
    "dt"
   ]
  },
  {
   "cell_type": "code",
   "execution_count": 60,
   "id": "4b17763c",
   "metadata": {},
   "outputs": [
    {
     "data": {
      "text/plain": [
       "{'designation': 'tech lead'}"
      ]
     },
     "execution_count": 60,
     "metadata": {},
     "output_type": "execute_result"
    }
   ],
   "source": [
    "dt1"
   ]
  },
  {
   "cell_type": "code",
   "execution_count": 61,
   "id": "9ca7d0b9",
   "metadata": {},
   "outputs": [],
   "source": [
    "# pop"
   ]
  },
  {
   "cell_type": "code",
   "execution_count": 62,
   "id": "03652083",
   "metadata": {},
   "outputs": [
    {
     "data": {
      "text/plain": [
       "{'name': 'siva',\n",
       " 'age': 30,\n",
       " 'salary': 10000,\n",
       " 'active': True,\n",
       " 'designation': 'tech lead'}"
      ]
     },
     "execution_count": 62,
     "metadata": {},
     "output_type": "execute_result"
    }
   ],
   "source": [
    "dt"
   ]
  },
  {
   "cell_type": "code",
   "execution_count": 64,
   "id": "9ecb46a2",
   "metadata": {},
   "outputs": [
    {
     "data": {
      "text/plain": [
       "True"
      ]
     },
     "execution_count": 64,
     "metadata": {},
     "output_type": "execute_result"
    }
   ],
   "source": [
    "dt.pop('active')"
   ]
  },
  {
   "cell_type": "code",
   "execution_count": 65,
   "id": "b9f40263",
   "metadata": {},
   "outputs": [
    {
     "data": {
      "text/plain": [
       "{'name': 'siva', 'age': 30, 'salary': 10000, 'designation': 'tech lead'}"
      ]
     },
     "execution_count": 65,
     "metadata": {},
     "output_type": "execute_result"
    }
   ],
   "source": [
    "dt"
   ]
  },
  {
   "cell_type": "code",
   "execution_count": 66,
   "id": "aeeef0f0",
   "metadata": {},
   "outputs": [
    {
     "data": {
      "text/plain": [
       "'tech lead'"
      ]
     },
     "execution_count": 66,
     "metadata": {},
     "output_type": "execute_result"
    }
   ],
   "source": [
    "dt.pop('designation')"
   ]
  },
  {
   "cell_type": "code",
   "execution_count": 67,
   "id": "9ee121be",
   "metadata": {},
   "outputs": [
    {
     "data": {
      "text/plain": [
       "{'name': 'siva', 'age': 30, 'salary': 10000}"
      ]
     },
     "execution_count": 67,
     "metadata": {},
     "output_type": "execute_result"
    }
   ],
   "source": [
    "dt"
   ]
  },
  {
   "cell_type": "code",
   "execution_count": 68,
   "id": "86c26b3f",
   "metadata": {},
   "outputs": [],
   "source": [
    "# popitems"
   ]
  },
  {
   "cell_type": "code",
   "execution_count": 69,
   "id": "370a4136",
   "metadata": {},
   "outputs": [
    {
     "data": {
      "text/plain": [
       "{'name': 'siva', 'age': 30, 'salary': 10000}"
      ]
     },
     "execution_count": 69,
     "metadata": {},
     "output_type": "execute_result"
    }
   ],
   "source": [
    "dt"
   ]
  },
  {
   "cell_type": "code",
   "execution_count": 70,
   "id": "c5eb860d",
   "metadata": {},
   "outputs": [
    {
     "data": {
      "text/plain": [
       "('salary', 10000)"
      ]
     },
     "execution_count": 70,
     "metadata": {},
     "output_type": "execute_result"
    }
   ],
   "source": [
    "dt.popitem()"
   ]
  },
  {
   "cell_type": "code",
   "execution_count": 71,
   "id": "0dbf750f",
   "metadata": {},
   "outputs": [
    {
     "data": {
      "text/plain": [
       "{'name': 'siva', 'age': 30}"
      ]
     },
     "execution_count": 71,
     "metadata": {},
     "output_type": "execute_result"
    }
   ],
   "source": [
    "dt"
   ]
  },
  {
   "cell_type": "code",
   "execution_count": 72,
   "id": "0e08f0cd",
   "metadata": {},
   "outputs": [
    {
     "data": {
      "text/plain": [
       "('age', 30)"
      ]
     },
     "execution_count": 72,
     "metadata": {},
     "output_type": "execute_result"
    }
   ],
   "source": [
    "dt.popitem()"
   ]
  },
  {
   "cell_type": "code",
   "execution_count": 74,
   "id": "e9596ff5",
   "metadata": {},
   "outputs": [],
   "source": [
    "lst = ['a','b','c','a','a','b']"
   ]
  },
  {
   "cell_type": "code",
   "execution_count": 75,
   "id": "c8d60e40",
   "metadata": {},
   "outputs": [
    {
     "data": {
      "text/plain": [
       "['a', 'b', 'c', 'a', 'a', 'b']"
      ]
     },
     "execution_count": 75,
     "metadata": {},
     "output_type": "execute_result"
    }
   ],
   "source": [
    "lst"
   ]
  },
  {
   "cell_type": "code",
   "execution_count": 76,
   "id": "0c138e48",
   "metadata": {},
   "outputs": [],
   "source": [
    "# fromkeys"
   ]
  },
  {
   "cell_type": "code",
   "execution_count": 77,
   "id": "28152518",
   "metadata": {},
   "outputs": [],
   "source": [
    "dt2 = dict.fromkeys(lst) "
   ]
  },
  {
   "cell_type": "code",
   "execution_count": 78,
   "id": "c45e46fa",
   "metadata": {},
   "outputs": [
    {
     "data": {
      "text/plain": [
       "{'a': None, 'b': None, 'c': None}"
      ]
     },
     "execution_count": 78,
     "metadata": {},
     "output_type": "execute_result"
    }
   ],
   "source": [
    "dt2"
   ]
  },
  {
   "cell_type": "code",
   "execution_count": 79,
   "id": "01d3a201",
   "metadata": {},
   "outputs": [],
   "source": [
    "dt2 = dict.fromkeys(lst,100) "
   ]
  },
  {
   "cell_type": "code",
   "execution_count": 80,
   "id": "1010b5ed",
   "metadata": {},
   "outputs": [
    {
     "data": {
      "text/plain": [
       "{'a': 100, 'b': 100, 'c': 100}"
      ]
     },
     "execution_count": 80,
     "metadata": {},
     "output_type": "execute_result"
    }
   ],
   "source": [
    "dt2"
   ]
  },
  {
   "cell_type": "code",
   "execution_count": null,
   "id": "3b674350",
   "metadata": {},
   "outputs": [],
   "source": [
    "st = 'python'"
   ]
  },
  {
   "cell_type": "code",
   "execution_count": 81,
   "id": "a7452bcb",
   "metadata": {},
   "outputs": [],
   "source": [
    "dt3 = dict.fromkeys('python','hello')"
   ]
  },
  {
   "cell_type": "code",
   "execution_count": 82,
   "id": "f5ea6618",
   "metadata": {},
   "outputs": [
    {
     "data": {
      "text/plain": [
       "{'p': 'hello',\n",
       " 'y': 'hello',\n",
       " 't': 'hello',\n",
       " 'h': 'hello',\n",
       " 'o': 'hello',\n",
       " 'n': 'hello'}"
      ]
     },
     "execution_count": 82,
     "metadata": {},
     "output_type": "execute_result"
    }
   ],
   "source": [
    "dt3"
   ]
  },
  {
   "cell_type": "code",
   "execution_count": 84,
   "id": "c94bb6b6",
   "metadata": {},
   "outputs": [],
   "source": [
    "st = 'python is a great lang and its easy to learn'"
   ]
  },
  {
   "cell_type": "code",
   "execution_count": 85,
   "id": "b6714f6f",
   "metadata": {},
   "outputs": [],
   "source": [
    "dt4 = dict.fromkeys(st,0)"
   ]
  },
  {
   "cell_type": "code",
   "execution_count": 86,
   "id": "222417c1",
   "metadata": {},
   "outputs": [
    {
     "data": {
      "text/plain": [
       "{'p': 0,\n",
       " 'y': 0,\n",
       " 't': 0,\n",
       " 'h': 0,\n",
       " 'o': 0,\n",
       " 'n': 0,\n",
       " ' ': 0,\n",
       " 'i': 0,\n",
       " 's': 0,\n",
       " 'a': 0,\n",
       " 'g': 0,\n",
       " 'r': 0,\n",
       " 'e': 0,\n",
       " 'l': 0,\n",
       " 'd': 0}"
      ]
     },
     "execution_count": 86,
     "metadata": {},
     "output_type": "execute_result"
    }
   ],
   "source": [
    "dt4"
   ]
  },
  {
   "cell_type": "code",
   "execution_count": 87,
   "id": "e2782f3d",
   "metadata": {},
   "outputs": [],
   "source": [
    "for key in st:\n",
    "    if key in dt4:\n",
    "        dt4[key] +=1"
   ]
  },
  {
   "cell_type": "code",
   "execution_count": 88,
   "id": "ea5216b5",
   "metadata": {},
   "outputs": [
    {
     "data": {
      "text/plain": [
       "{'p': 1,\n",
       " 'y': 2,\n",
       " 't': 4,\n",
       " 'h': 1,\n",
       " 'o': 2,\n",
       " 'n': 4,\n",
       " ' ': 9,\n",
       " 'i': 2,\n",
       " 's': 3,\n",
       " 'a': 6,\n",
       " 'g': 2,\n",
       " 'r': 2,\n",
       " 'e': 3,\n",
       " 'l': 2,\n",
       " 'd': 1}"
      ]
     },
     "execution_count": 88,
     "metadata": {},
     "output_type": "execute_result"
    }
   ],
   "source": [
    "dt4"
   ]
  },
  {
   "cell_type": "code",
   "execution_count": 89,
   "id": "bf3a6820",
   "metadata": {},
   "outputs": [],
   "source": [
    "# copy"
   ]
  },
  {
   "cell_type": "code",
   "execution_count": 90,
   "id": "41d7a88d",
   "metadata": {},
   "outputs": [
    {
     "data": {
      "text/plain": [
       "{'name': 'siva'}"
      ]
     },
     "execution_count": 90,
     "metadata": {},
     "output_type": "execute_result"
    }
   ],
   "source": [
    "dt"
   ]
  },
  {
   "cell_type": "code",
   "execution_count": 91,
   "id": "07f9d50f",
   "metadata": {},
   "outputs": [],
   "source": [
    "dt5 = dt.copy()"
   ]
  },
  {
   "cell_type": "code",
   "execution_count": 92,
   "id": "dfeadcd1",
   "metadata": {},
   "outputs": [
    {
     "data": {
      "text/plain": [
       "{'name': 'siva'}"
      ]
     },
     "execution_count": 92,
     "metadata": {},
     "output_type": "execute_result"
    }
   ],
   "source": [
    "dt5"
   ]
  },
  {
   "cell_type": "code",
   "execution_count": 93,
   "id": "aa062cea",
   "metadata": {},
   "outputs": [],
   "source": [
    "# clear"
   ]
  },
  {
   "cell_type": "code",
   "execution_count": 94,
   "id": "23967d84",
   "metadata": {},
   "outputs": [],
   "source": [
    "dt5.clear()"
   ]
  },
  {
   "cell_type": "code",
   "execution_count": 95,
   "id": "54e0faaf",
   "metadata": {},
   "outputs": [
    {
     "data": {
      "text/plain": [
       "{}"
      ]
     },
     "execution_count": 95,
     "metadata": {},
     "output_type": "execute_result"
    }
   ],
   "source": [
    "dt5"
   ]
  },
  {
   "cell_type": "code",
   "execution_count": null,
   "id": "d1db90e9",
   "metadata": {},
   "outputs": [],
   "source": []
  }
 ],
 "metadata": {
  "kernelspec": {
   "display_name": "Python 3 (ipykernel)",
   "language": "python",
   "name": "python3"
  },
  "language_info": {
   "codemirror_mode": {
    "name": "ipython",
    "version": 3
   },
   "file_extension": ".py",
   "mimetype": "text/x-python",
   "name": "python",
   "nbconvert_exporter": "python",
   "pygments_lexer": "ipython3",
   "version": "3.8.3"
  }
 },
 "nbformat": 4,
 "nbformat_minor": 5
}
