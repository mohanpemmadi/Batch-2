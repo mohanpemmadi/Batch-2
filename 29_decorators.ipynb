{
 "cells": [
  {
   "cell_type": "markdown",
   "id": "d186474a",
   "metadata": {},
   "source": [
    "# Decorators are functions that adds functionality to an existing function without changing the original structure of the function."
   ]
  },
  {
   "cell_type": "code",
   "execution_count": 6,
   "id": "b77599a3",
   "metadata": {},
   "outputs": [],
   "source": [
    "def home():\n",
    "    if log_in('mohan'):\n",
    "        return 'Welcome to Home page'\n",
    "    else:\n",
    "        return 'Unable to find the user'"
   ]
  },
  {
   "cell_type": "code",
   "execution_count": 7,
   "id": "f591182d",
   "metadata": {},
   "outputs": [],
   "source": [
    "def about():\n",
    "    if log_in('srinu'):\n",
    "        return 'Welcome to about page'\n",
    "    else:\n",
    "        return 'Unable to find the user'"
   ]
  },
  {
   "cell_type": "code",
   "execution_count": 8,
   "id": "0b5b1aa9",
   "metadata": {},
   "outputs": [
    {
     "data": {
      "text/plain": [
       "'Welcome to Home page'"
      ]
     },
     "execution_count": 8,
     "metadata": {},
     "output_type": "execute_result"
    }
   ],
   "source": [
    "home()"
   ]
  },
  {
   "cell_type": "code",
   "execution_count": 9,
   "id": "5a571bd8",
   "metadata": {},
   "outputs": [
    {
     "data": {
      "text/plain": [
       "'Unable to find the user'"
      ]
     },
     "execution_count": 9,
     "metadata": {},
     "output_type": "execute_result"
    }
   ],
   "source": [
    "about()"
   ]
  },
  {
   "cell_type": "code",
   "execution_count": 5,
   "id": "d00db099",
   "metadata": {},
   "outputs": [],
   "source": [
    "db_user = 'mohan'\n",
    "def log_in(user):\n",
    "    if user == db_user:\n",
    "        return True\n",
    "    else:\n",
    "        return False"
   ]
  },
  {
   "cell_type": "code",
   "execution_count": null,
   "id": "41f7af92",
   "metadata": {},
   "outputs": [],
   "source": []
  },
  {
   "cell_type": "code",
   "execution_count": 20,
   "id": "6fa9c6a4",
   "metadata": {},
   "outputs": [
    {
     "name": "stdout",
     "output_type": "stream",
     "text": [
      "1 - fun: <function home_page at 0x000001AA50D12CA0>\n"
     ]
    }
   ],
   "source": [
    "def sample_decorator(fun):\n",
    "    print('1 - fun:', fun)\n",
    "    def inner():\n",
    "        print('2 - inner')\n",
    "        return fun()    \n",
    "    return inner\n",
    "\n",
    "@sample_decorator\n",
    "def home_page():\n",
    "    print('3 - home page')\n",
    "    return 'Welcome to Home page'"
   ]
  },
  {
   "cell_type": "code",
   "execution_count": null,
   "id": "db085355",
   "metadata": {},
   "outputs": [],
   "source": [
    "\n",
    "def about_page():\n",
    "    return 'Welcome to About page'"
   ]
  },
  {
   "cell_type": "code",
   "execution_count": 21,
   "id": "09cd46c2",
   "metadata": {},
   "outputs": [
    {
     "name": "stdout",
     "output_type": "stream",
     "text": [
      "2 - inner\n",
      "3 - home page\n"
     ]
    },
    {
     "data": {
      "text/plain": [
       "'Welcome to Home page'"
      ]
     },
     "execution_count": 21,
     "metadata": {},
     "output_type": "execute_result"
    }
   ],
   "source": [
    "home_page()"
   ]
  },
  {
   "cell_type": "code",
   "execution_count": null,
   "id": "c1295705",
   "metadata": {},
   "outputs": [],
   "source": []
  }
 ],
 "metadata": {
  "kernelspec": {
   "display_name": "Python 3 (ipykernel)",
   "language": "python",
   "name": "python3"
  },
  "language_info": {
   "codemirror_mode": {
    "name": "ipython",
    "version": 3
   },
   "file_extension": ".py",
   "mimetype": "text/x-python",
   "name": "python",
   "nbconvert_exporter": "python",
   "pygments_lexer": "ipython3",
   "version": "3.8.3"
  }
 },
 "nbformat": 4,
 "nbformat_minor": 5
}
