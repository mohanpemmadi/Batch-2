{
 "cells": [
  {
   "cell_type": "markdown",
   "id": "cd6ce6b7",
   "metadata": {},
   "source": [
    "# Thread is a block of code\n"
   ]
  },
  {
   "cell_type": "markdown",
   "id": "8ce11e3d",
   "metadata": {},
   "source": [
    "# Multiple Threading -  Executing multiple threads simultaneously"
   ]
  },
  {
   "cell_type": "code",
   "execution_count": 1,
   "id": "33efa868",
   "metadata": {},
   "outputs": [],
   "source": [
    "import time"
   ]
  },
  {
   "cell_type": "code",
   "execution_count": 2,
   "id": "35f1b87a",
   "metadata": {},
   "outputs": [],
   "source": [
    "def table(n):\n",
    "    for i in range(1,11):\n",
    "        print('{} * {} = {}'.format(i,n,i*n))\n",
    "        time.sleep(3)"
   ]
  },
  {
   "cell_type": "code",
   "execution_count": 3,
   "id": "d4fd7820",
   "metadata": {},
   "outputs": [
    {
     "name": "stdout",
     "output_type": "stream",
     "text": [
      "1 * 10 = 10\n",
      "2 * 10 = 20\n",
      "3 * 10 = 30\n",
      "4 * 10 = 40\n",
      "5 * 10 = 50\n",
      "6 * 10 = 60\n",
      "7 * 10 = 70\n",
      "8 * 10 = 80\n",
      "9 * 10 = 90\n",
      "10 * 10 = 100\n",
      "1 * 20 = 20\n",
      "2 * 20 = 40\n",
      "3 * 20 = 60\n",
      "4 * 20 = 80\n",
      "5 * 20 = 100\n",
      "6 * 20 = 120\n",
      "7 * 20 = 140\n",
      "8 * 20 = 160\n",
      "9 * 20 = 180\n",
      "10 * 20 = 200\n",
      "1 * 30 = 30\n",
      "2 * 30 = 60\n",
      "3 * 30 = 90\n",
      "4 * 30 = 120\n",
      "5 * 30 = 150\n",
      "6 * 30 = 180\n",
      "7 * 30 = 210\n",
      "8 * 30 = 240\n",
      "9 * 30 = 270\n",
      "10 * 30 = 300\n",
      "total time : 90.22665691375732\n"
     ]
    }
   ],
   "source": [
    "start = time.time()\n",
    "table(10)\n",
    "table(20)\n",
    "table(30)\n",
    "print('total time :',time.time()-start)"
   ]
  },
  {
   "cell_type": "code",
   "execution_count": 8,
   "id": "23cdf5bc",
   "metadata": {},
   "outputs": [],
   "source": [
    "import threading\n",
    "\n",
    "t1 = threading.Thread(target=table,args=(10,))\n",
    "t2 = threading.Thread(target=table,args=(20,))\n",
    "t3 = threading.Thread(target=table,args=(30,))\n"
   ]
  },
  {
   "cell_type": "code",
   "execution_count": 9,
   "id": "40c26e29",
   "metadata": {},
   "outputs": [
    {
     "name": "stdout",
     "output_type": "stream",
     "text": [
      "1 * 10 = 10\n",
      "1 * 20 = 20\n",
      "1 * 30 = 30total time : 0.011133193969726562\n",
      "\n",
      "2 * 10 = 202 * 20 = 40\n",
      "\n",
      "2 * 30 = 60\n",
      "3 * 30 = 903 * 10 = 303 * 20 = 60\n",
      "\n",
      "\n",
      "4 * 30 = 1204 * 10 = 404 * 20 = 80\n",
      "\n",
      "\n",
      "5 * 30 = 1505 * 20 = 1005 * 10 = 50\n",
      "\n",
      "\n",
      "6 * 30 = 1806 * 10 = 606 * 20 = 120\n",
      "\n",
      "\n",
      "7 * 10 = 70\n",
      "7 * 20 = 140\n",
      "7 * 30 = 210\n",
      "8 * 30 = 2408 * 20 = 1608 * 10 = 80\n",
      "\n",
      "\n",
      "9 * 30 = 2709 * 10 = 90\n",
      "\n",
      "9 * 20 = 180\n",
      "10 * 10 = 10010 * 30 = 30010 * 20 = 200\n",
      "\n",
      "\n"
     ]
    }
   ],
   "source": [
    "start_time = time.time()\n",
    "\n",
    "t1.start()\n",
    "t2.start()\n",
    "t3.start()\n",
    "t1.join()\n",
    "t2.join()\n",
    "t3.join()\n",
    "print('total time :',time.time()-start_time)"
   ]
  },
  {
   "cell_type": "code",
   "execution_count": null,
   "id": "c306ec60",
   "metadata": {},
   "outputs": [],
   "source": []
  }
 ],
 "metadata": {
  "kernelspec": {
   "display_name": "Python 3 (ipykernel)",
   "language": "python",
   "name": "python3"
  },
  "language_info": {
   "codemirror_mode": {
    "name": "ipython",
    "version": 3
   },
   "file_extension": ".py",
   "mimetype": "text/x-python",
   "name": "python",
   "nbconvert_exporter": "python",
   "pygments_lexer": "ipython3",
   "version": "3.8.3"
  }
 },
 "nbformat": 4,
 "nbformat_minor": 5
}
