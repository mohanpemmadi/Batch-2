{
 "cells": [
  {
   "cell_type": "code",
   "execution_count": 7,
   "id": "971bd4d9",
   "metadata": {},
   "outputs": [],
   "source": [
    "lst1 = ['a','b','c','d']\n",
    "lst2 = [100,200,300,400]"
   ]
  },
  {
   "cell_type": "code",
   "execution_count": 8,
   "id": "dd598ca4",
   "metadata": {},
   "outputs": [
    {
     "data": {
      "text/plain": [
       "4"
      ]
     },
     "execution_count": 8,
     "metadata": {},
     "output_type": "execute_result"
    }
   ],
   "source": [
    "len(lst1)"
   ]
  },
  {
   "cell_type": "code",
   "execution_count": 9,
   "id": "e182adef",
   "metadata": {},
   "outputs": [
    {
     "data": {
      "text/plain": [
       "[0, 1, 2, 3]"
      ]
     },
     "execution_count": 9,
     "metadata": {},
     "output_type": "execute_result"
    }
   ],
   "source": [
    "[i for i in range(len(lst1))]"
   ]
  },
  {
   "cell_type": "code",
   "execution_count": 10,
   "id": "6947450f",
   "metadata": {},
   "outputs": [
    {
     "data": {
      "text/plain": [
       "['a', 'b', 'c', 'd']"
      ]
     },
     "execution_count": 10,
     "metadata": {},
     "output_type": "execute_result"
    }
   ],
   "source": [
    "[lst1[i] for i in range(len(lst1))]"
   ]
  },
  {
   "cell_type": "code",
   "execution_count": 11,
   "id": "1b4d827b",
   "metadata": {},
   "outputs": [
    {
     "data": {
      "text/plain": [
       "{'a': 100, 'b': 200, 'c': 300, 'd': 400}"
      ]
     },
     "execution_count": 11,
     "metadata": {},
     "output_type": "execute_result"
    }
   ],
   "source": [
    "{lst1[i]:lst2[i] for i in range(len(lst1))}"
   ]
  },
  {
   "cell_type": "code",
   "execution_count": 14,
   "id": "f10a05bf",
   "metadata": {},
   "outputs": [
    {
     "data": {
      "text/plain": [
       "{100: 'a', 200: 'b', 300: 'c', 400: 'd'}"
      ]
     },
     "execution_count": 14,
     "metadata": {},
     "output_type": "execute_result"
    }
   ],
   "source": [
    "{key:value for key,value in zip(lst2,lst1)}"
   ]
  },
  {
   "cell_type": "code",
   "execution_count": 15,
   "id": "d9cde834",
   "metadata": {},
   "outputs": [
    {
     "data": {
      "text/plain": [
       "{'a': 100, 'b': 200, 'c': 300, 'd': 400}"
      ]
     },
     "execution_count": 15,
     "metadata": {},
     "output_type": "execute_result"
    }
   ],
   "source": [
    "{key:value for key,value in zip(lst1,lst2)}"
   ]
  },
  {
   "cell_type": "code",
   "execution_count": 16,
   "id": "09d98712",
   "metadata": {},
   "outputs": [
    {
     "data": {
      "text/plain": [
       "{100: 'a', 200: 'b', 300: 'c', 400: 'd'}"
      ]
     },
     "execution_count": 16,
     "metadata": {},
     "output_type": "execute_result"
    }
   ],
   "source": [
    "{value:key for key,value in zip(lst1,lst2)}"
   ]
  },
  {
   "cell_type": "code",
   "execution_count": null,
   "id": "3155d41e",
   "metadata": {},
   "outputs": [],
   "source": []
  }
 ],
 "metadata": {
  "kernelspec": {
   "display_name": "Python 3 (ipykernel)",
   "language": "python",
   "name": "python3"
  },
  "language_info": {
   "codemirror_mode": {
    "name": "ipython",
    "version": 3
   },
   "file_extension": ".py",
   "mimetype": "text/x-python",
   "name": "python",
   "nbconvert_exporter": "python",
   "pygments_lexer": "ipython3",
   "version": "3.8.3"
  }
 },
 "nbformat": 4,
 "nbformat_minor": 5
}
