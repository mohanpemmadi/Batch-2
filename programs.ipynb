{
 "cells": [
  {
   "cell_type": "markdown",
   "id": "bcfc7231",
   "metadata": {},
   "source": [
    "# Reverse of a String"
   ]
  },
  {
   "cell_type": "code",
   "execution_count": 3,
   "id": "32fa14da",
   "metadata": {},
   "outputs": [],
   "source": [
    "st = 'python'"
   ]
  },
  {
   "cell_type": "code",
   "execution_count": 4,
   "id": "70041a25",
   "metadata": {},
   "outputs": [
    {
     "data": {
      "text/plain": [
       "'nohtyp'"
      ]
     },
     "execution_count": 4,
     "metadata": {},
     "output_type": "execute_result"
    }
   ],
   "source": [
    "# slicing\n",
    "\n",
    "st[::-1]"
   ]
  },
  {
   "cell_type": "code",
   "execution_count": 7,
   "id": "d53702d0",
   "metadata": {},
   "outputs": [
    {
     "data": {
      "text/plain": [
       "'nohtyp'"
      ]
     },
     "execution_count": 7,
     "metadata": {},
     "output_type": "execute_result"
    }
   ],
   "source": [
    "res = ''\n",
    "\n",
    "for char in st:\n",
    "    res = char + res # 'p'+''->p ..> 'y' + 'p' ->yp\n",
    "res"
   ]
  },
  {
   "cell_type": "markdown",
   "id": "fa9a52c8",
   "metadata": {},
   "source": [
    "# Count no of occuranaces of a String/List/Tuple"
   ]
  },
  {
   "cell_type": "code",
   "execution_count": 13,
   "id": "59eab962",
   "metadata": {},
   "outputs": [],
   "source": [
    "lst = ['a','b','a','a','c','d','d','c']"
   ]
  },
  {
   "cell_type": "code",
   "execution_count": 19,
   "id": "a12b6e25",
   "metadata": {},
   "outputs": [
    {
     "data": {
      "text/plain": [
       "{'a': 100,\n",
       " 'N': 100,\n",
       " 'V': 100,\n",
       " 'j': 100,\n",
       " 'v': 100,\n",
       " 'd': 100,\n",
       " 's': 100,\n",
       " 'z': 100}"
      ]
     },
     "execution_count": 19,
     "metadata": {},
     "output_type": "execute_result"
    }
   ],
   "source": [
    "# dict.fromkeys('aNVjvdjvdjdvsdvsdvsz',100)"
   ]
  },
  {
   "cell_type": "code",
   "execution_count": 25,
   "id": "0fccf0f6",
   "metadata": {},
   "outputs": [],
   "source": [
    "dt = dict.fromkeys(lst,0)"
   ]
  },
  {
   "cell_type": "code",
   "execution_count": 26,
   "id": "fd484bab",
   "metadata": {},
   "outputs": [
    {
     "data": {
      "text/plain": [
       "{'a': 0, 'b': 0, 'c': 0, 'd': 0}"
      ]
     },
     "execution_count": 26,
     "metadata": {},
     "output_type": "execute_result"
    }
   ],
   "source": [
    "dt"
   ]
  },
  {
   "cell_type": "code",
   "execution_count": 27,
   "id": "61fec703",
   "metadata": {},
   "outputs": [
    {
     "data": {
      "text/plain": [
       "['a', 'b', 'a', 'a', 'c', 'd', 'd', 'c']"
      ]
     },
     "execution_count": 27,
     "metadata": {},
     "output_type": "execute_result"
    }
   ],
   "source": [
    "lst"
   ]
  },
  {
   "cell_type": "code",
   "execution_count": 28,
   "id": "650b5cbb",
   "metadata": {},
   "outputs": [
    {
     "data": {
      "text/plain": [
       "True"
      ]
     },
     "execution_count": 28,
     "metadata": {},
     "output_type": "execute_result"
    }
   ],
   "source": [
    "'a' in dt"
   ]
  },
  {
   "cell_type": "code",
   "execution_count": 31,
   "id": "a5933942",
   "metadata": {},
   "outputs": [
    {
     "data": {
      "text/plain": [
       "3"
      ]
     },
     "execution_count": 31,
     "metadata": {},
     "output_type": "execute_result"
    }
   ],
   "source": [
    "dt['a']"
   ]
  },
  {
   "cell_type": "code",
   "execution_count": 30,
   "id": "5017f99d",
   "metadata": {},
   "outputs": [
    {
     "name": "stdout",
     "output_type": "stream",
     "text": [
      "{'a': 3, 'b': 1, 'c': 2, 'd': 2}\n"
     ]
    }
   ],
   "source": [
    "for ele in lst:\n",
    "    if ele in dt:  # 'a' in dt\n",
    "        dt[ele] +=1  # dt['a'] = dt['a'] + 1\n",
    "        \n",
    "print(dt)"
   ]
  },
  {
   "cell_type": "markdown",
   "id": "38c34abd",
   "metadata": {},
   "source": [
    "# count of a given element"
   ]
  },
  {
   "cell_type": "code",
   "execution_count": 9,
   "id": "b5c02dfb",
   "metadata": {},
   "outputs": [
    {
     "data": {
      "text/plain": [
       "3"
      ]
     },
     "execution_count": 9,
     "metadata": {},
     "output_type": "execute_result"
    }
   ],
   "source": [
    "lst.count('a')"
   ]
  },
  {
   "cell_type": "code",
   "execution_count": 37,
   "id": "ba48216c",
   "metadata": {},
   "outputs": [],
   "source": [
    "def count_fun(element,target):\n",
    "    count = 0\n",
    "    for value in target:\n",
    "        if value == element:\n",
    "            count +=1\n",
    "    return count\n"
   ]
  },
  {
   "cell_type": "code",
   "execution_count": 12,
   "id": "5051d985",
   "metadata": {},
   "outputs": [
    {
     "data": {
      "text/plain": [
       "3"
      ]
     },
     "execution_count": 12,
     "metadata": {},
     "output_type": "execute_result"
    }
   ],
   "source": [
    "count_fun('a')"
   ]
  },
  {
   "cell_type": "code",
   "execution_count": 34,
   "id": "e5686161",
   "metadata": {},
   "outputs": [],
   "source": [
    "s = 'python is a great lang and it is easy to learn'"
   ]
  },
  {
   "cell_type": "code",
   "execution_count": 40,
   "id": "1a29d9e6",
   "metadata": {},
   "outputs": [
    {
     "name": "stdout",
     "output_type": "stream",
     "text": [
      "p - 1\n",
      "y - 2\n",
      "t - 4\n",
      "h - 1\n",
      "o - 2\n",
      "n - 4\n",
      "  - 10\n",
      "i - 3\n",
      "s - 3\n",
      "  - 10\n",
      "a - 6\n",
      "  - 10\n",
      "g - 2\n",
      "r - 2\n",
      "e - 3\n",
      "a - 6\n",
      "t - 4\n",
      "  - 10\n",
      "l - 2\n",
      "a - 6\n",
      "n - 4\n",
      "g - 2\n",
      "  - 10\n",
      "a - 6\n",
      "n - 4\n",
      "d - 1\n",
      "  - 10\n",
      "i - 3\n",
      "t - 4\n",
      "  - 10\n",
      "i - 3\n",
      "s - 3\n",
      "  - 10\n",
      "e - 3\n",
      "a - 6\n",
      "s - 3\n",
      "y - 2\n",
      "  - 10\n",
      "t - 4\n",
      "o - 2\n",
      "  - 10\n",
      "l - 2\n",
      "e - 3\n",
      "a - 6\n",
      "r - 2\n",
      "n - 4\n"
     ]
    }
   ],
   "source": [
    "for char in s:\n",
    "    print('{} - {}'.format(char, count_fun(char,s)))\n",
    "\n",
    "    "
   ]
  },
  {
   "cell_type": "markdown",
   "id": "c8dcf7ba",
   "metadata": {},
   "source": [
    "# Count no of lines,words and characters in a file"
   ]
  },
  {
   "cell_type": "code",
   "execution_count": 30,
   "id": "b3708ace",
   "metadata": {},
   "outputs": [
    {
     "name": "stdout",
     "output_type": "stream",
     "text": [
      "line number is one\n",
      "\n",
      "lines - 1\n",
      "words - 4\n",
      "chars - 19\n",
      "***********************\n",
      "line number two\n",
      "\n",
      "lines - 2\n",
      "words - 7\n",
      "chars - 35\n",
      "***********************\n",
      "line number three\n",
      "\n",
      "lines - 3\n",
      "words - 10\n",
      "chars - 53\n",
      "***********************\n",
      "line number four\n",
      "\n",
      "lines - 4\n",
      "words - 13\n",
      "chars - 70\n",
      "***********************\n",
      "line number five\n",
      "\n",
      "lines - 5\n",
      "words - 16\n",
      "chars - 87\n",
      "***********************\n",
      "line number six\n",
      "lines - 6\n",
      "words - 19\n",
      "chars - 102\n",
      "***********************\n"
     ]
    }
   ],
   "source": [
    "lines = 0\n",
    "words = 0\n",
    "chars = 0\n",
    "\n",
    "f = open('test.txt','r')\n",
    "\n",
    "lst = f.readlines()\n",
    "\n",
    "for line in lst:\n",
    "    print(line)\n",
    "    lines = lines+1\n",
    "    words = words + len(line.split(' '))\n",
    "    chars = chars + len(line)\n",
    "    \n",
    "    print('lines -',lines)\n",
    "    print('words -',words)\n",
    "    print('chars -',chars)\n",
    "    print('***********************')"
   ]
  },
  {
   "cell_type": "code",
   "execution_count": 9,
   "id": "f8bf4865",
   "metadata": {},
   "outputs": [
    {
     "data": {
      "text/plain": [
       "['line number one\\n',\n",
       " 'line number two\\n',\n",
       " 'line number three\\n',\n",
       " 'line number four\\n',\n",
       " 'line number five\\n',\n",
       " 'line number six']"
      ]
     },
     "execution_count": 9,
     "metadata": {},
     "output_type": "execute_result"
    }
   ],
   "source": [
    "f.readlines()"
   ]
  },
  {
   "cell_type": "code",
   "execution_count": 20,
   "id": "64b6ee20",
   "metadata": {},
   "outputs": [],
   "source": [
    "w = 'line number is one'.split(' ')"
   ]
  },
  {
   "cell_type": "code",
   "execution_count": 21,
   "id": "58bca9ab",
   "metadata": {},
   "outputs": [
    {
     "data": {
      "text/plain": [
       "['line', 'number', 'is', 'one']"
      ]
     },
     "execution_count": 21,
     "metadata": {},
     "output_type": "execute_result"
    }
   ],
   "source": [
    "w"
   ]
  },
  {
   "cell_type": "code",
   "execution_count": 22,
   "id": "51e85eec",
   "metadata": {},
   "outputs": [
    {
     "data": {
      "text/plain": [
       "4"
      ]
     },
     "execution_count": 22,
     "metadata": {},
     "output_type": "execute_result"
    }
   ],
   "source": [
    "len(w)"
   ]
  },
  {
   "cell_type": "code",
   "execution_count": 27,
   "id": "540c079a",
   "metadata": {},
   "outputs": [
    {
     "data": {
      "text/plain": [
       "6"
      ]
     },
     "execution_count": 27,
     "metadata": {},
     "output_type": "execute_result"
    }
   ],
   "source": [
    "name = 'abcdef'\n",
    "len(name)"
   ]
  },
  {
   "cell_type": "markdown",
   "id": "b1e078dd",
   "metadata": {},
   "source": [
    "# Max/Min value from a list without using in-built funcations"
   ]
  },
  {
   "cell_type": "code",
   "execution_count": 7,
   "id": "766b9d6a",
   "metadata": {},
   "outputs": [],
   "source": [
    "lst = [4,5,2,3,1,23]"
   ]
  },
  {
   "cell_type": "code",
   "execution_count": 8,
   "id": "2bcd1ffe",
   "metadata": {},
   "outputs": [
    {
     "data": {
      "text/plain": [
       "1"
      ]
     },
     "execution_count": 8,
     "metadata": {},
     "output_type": "execute_result"
    }
   ],
   "source": [
    "min(lst)"
   ]
  },
  {
   "cell_type": "code",
   "execution_count": 9,
   "id": "dc329794",
   "metadata": {},
   "outputs": [
    {
     "data": {
      "text/plain": [
       "23"
      ]
     },
     "execution_count": 9,
     "metadata": {},
     "output_type": "execute_result"
    }
   ],
   "source": [
    "max(lst)"
   ]
  },
  {
   "cell_type": "code",
   "execution_count": 10,
   "id": "c4720e2f",
   "metadata": {},
   "outputs": [
    {
     "data": {
      "text/plain": [
       "4"
      ]
     },
     "execution_count": 10,
     "metadata": {},
     "output_type": "execute_result"
    }
   ],
   "source": [
    "lst[0]"
   ]
  },
  {
   "cell_type": "code",
   "execution_count": 12,
   "id": "7625e376",
   "metadata": {},
   "outputs": [
    {
     "data": {
      "text/plain": [
       "[5, 2, 3, 1, 23]"
      ]
     },
     "execution_count": 12,
     "metadata": {},
     "output_type": "execute_result"
    }
   ],
   "source": [
    "lst[1:]"
   ]
  },
  {
   "cell_type": "code",
   "execution_count": 11,
   "id": "99a0b337",
   "metadata": {},
   "outputs": [
    {
     "data": {
      "text/plain": [
       "23"
      ]
     },
     "execution_count": 11,
     "metadata": {},
     "output_type": "execute_result"
    }
   ],
   "source": [
    "maxi = lst[0]\n",
    "\n",
    "for value in lst[1:]:\n",
    "    if value > maxi:\n",
    "        maxi = value\n",
    "        \n",
    "maxi  "
   ]
  },
  {
   "cell_type": "code",
   "execution_count": null,
   "id": "3d040a9b",
   "metadata": {},
   "outputs": [],
   "source": []
  },
  {
   "cell_type": "markdown",
   "id": "976ace1d",
   "metadata": {},
   "source": [
    "# Sort vs Sorted"
   ]
  },
  {
   "cell_type": "code",
   "execution_count": 14,
   "id": "41238980",
   "metadata": {},
   "outputs": [],
   "source": [
    "# Sort"
   ]
  },
  {
   "cell_type": "code",
   "execution_count": null,
   "id": "b93c89f2",
   "metadata": {},
   "outputs": [],
   "source": [
    "l = [5,2,1,3,4]"
   ]
  },
  {
   "cell_type": "code",
   "execution_count": 15,
   "id": "8003553b",
   "metadata": {},
   "outputs": [],
   "source": [
    "l.sort()"
   ]
  },
  {
   "cell_type": "code",
   "execution_count": 16,
   "id": "633672af",
   "metadata": {},
   "outputs": [
    {
     "data": {
      "text/plain": [
       "[1, 2, 3, 4, 5]"
      ]
     },
     "execution_count": 16,
     "metadata": {},
     "output_type": "execute_result"
    }
   ],
   "source": [
    "l"
   ]
  },
  {
   "cell_type": "code",
   "execution_count": null,
   "id": "c29ece25",
   "metadata": {},
   "outputs": [],
   "source": [
    "# Sorted"
   ]
  },
  {
   "cell_type": "code",
   "execution_count": 17,
   "id": "7effd174",
   "metadata": {},
   "outputs": [],
   "source": [
    "ll = [5,2,1,3,4]"
   ]
  },
  {
   "cell_type": "code",
   "execution_count": 18,
   "id": "bfb47dfe",
   "metadata": {},
   "outputs": [
    {
     "data": {
      "text/plain": [
       "[1, 2, 3, 4, 5]"
      ]
     },
     "execution_count": 18,
     "metadata": {},
     "output_type": "execute_result"
    }
   ],
   "source": [
    "sorted(ll)"
   ]
  },
  {
   "cell_type": "code",
   "execution_count": 19,
   "id": "645d0a9e",
   "metadata": {},
   "outputs": [
    {
     "data": {
      "text/plain": [
       "[5, 2, 1, 3, 4]"
      ]
     },
     "execution_count": 19,
     "metadata": {},
     "output_type": "execute_result"
    }
   ],
   "source": [
    "ll"
   ]
  },
  {
   "cell_type": "code",
   "execution_count": 20,
   "id": "2988f324",
   "metadata": {},
   "outputs": [
    {
     "ename": "TypeError",
     "evalue": "'<' not supported between instances of 'str' and 'int'",
     "output_type": "error",
     "traceback": [
      "\u001b[1;31m---------------------------------------------------------------------------\u001b[0m",
      "\u001b[1;31mTypeError\u001b[0m                                 Traceback (most recent call last)",
      "Input \u001b[1;32mIn [20]\u001b[0m, in \u001b[0;36m<module>\u001b[1;34m\u001b[0m\n\u001b[1;32m----> 1\u001b[0m \u001b[38;5;28;43msorted\u001b[39;49m\u001b[43m(\u001b[49m\u001b[43m[\u001b[49m\u001b[38;5;241;43m1\u001b[39;49m\u001b[43m,\u001b[49m\u001b[38;5;241;43m4\u001b[39;49m\u001b[43m,\u001b[49m\u001b[38;5;124;43m'\u001b[39;49m\u001b[38;5;124;43ma\u001b[39;49m\u001b[38;5;124;43m'\u001b[39;49m\u001b[43m,\u001b[49m\u001b[38;5;124;43m'\u001b[39;49m\u001b[38;5;124;43mb\u001b[39;49m\u001b[38;5;124;43m'\u001b[39;49m\u001b[43m]\u001b[49m\u001b[43m)\u001b[49m\n",
      "\u001b[1;31mTypeError\u001b[0m: '<' not supported between instances of 'str' and 'int'"
     ]
    }
   ],
   "source": [
    "sorted([1,4,'a','b'])"
   ]
  },
  {
   "cell_type": "code",
   "execution_count": 21,
   "id": "d4d98436",
   "metadata": {},
   "outputs": [],
   "source": [
    "str_lst = ['a','z','aa','aabb','aaa','aab']"
   ]
  },
  {
   "cell_type": "code",
   "execution_count": 22,
   "id": "1a52ea4b",
   "metadata": {},
   "outputs": [
    {
     "data": {
      "text/plain": [
       "['a', 'aa', 'aaa', 'aab', 'aabb', 'z']"
      ]
     },
     "execution_count": 22,
     "metadata": {},
     "output_type": "execute_result"
    }
   ],
   "source": [
    "sorted(str_lst)"
   ]
  },
  {
   "cell_type": "code",
   "execution_count": 23,
   "id": "3ee9f773",
   "metadata": {},
   "outputs": [
    {
     "data": {
      "text/plain": [
       "['z', 'aabb', 'aab', 'aaa', 'aa', 'a']"
      ]
     },
     "execution_count": 23,
     "metadata": {},
     "output_type": "execute_result"
    }
   ],
   "source": [
    "sorted(str_lst, reverse=True)"
   ]
  },
  {
   "cell_type": "code",
   "execution_count": 24,
   "id": "939b48c2",
   "metadata": {},
   "outputs": [
    {
     "data": {
      "text/plain": [
       "['a', 'z', 'aa', 'aaa', 'aab', 'aabb']"
      ]
     },
     "execution_count": 24,
     "metadata": {},
     "output_type": "execute_result"
    }
   ],
   "source": [
    "sorted(str_lst,key=len)"
   ]
  },
  {
   "cell_type": "code",
   "execution_count": 25,
   "id": "8f24b429",
   "metadata": {},
   "outputs": [
    {
     "data": {
      "text/plain": [
       "['a', 'aa', 'aaa', 'aaaa', 'bb']"
      ]
     },
     "execution_count": 25,
     "metadata": {},
     "output_type": "execute_result"
    }
   ],
   "source": [
    "sorted(['a','aaa','aa','bb','aaaa'])"
   ]
  },
  {
   "cell_type": "code",
   "execution_count": 28,
   "id": "fa554af1",
   "metadata": {},
   "outputs": [
    {
     "data": {
      "text/plain": [
       "['a', 'aa', 'bb', 'aaa', 'aaaa']"
      ]
     },
     "execution_count": 28,
     "metadata": {},
     "output_type": "execute_result"
    }
   ],
   "source": [
    "sorted(['a','aaa','aa','bb','aaaa'], key=len)"
   ]
  },
  {
   "cell_type": "markdown",
   "id": "1f886e4e",
   "metadata": {},
   "source": [
    "# Prime Number "
   ]
  },
  {
   "cell_type": "code",
   "execution_count": 1,
   "id": "57a5b21a",
   "metadata": {},
   "outputs": [
    {
     "data": {
      "text/plain": [
       "0"
      ]
     },
     "execution_count": 1,
     "metadata": {},
     "output_type": "execute_result"
    }
   ],
   "source": [
    "5 % 1"
   ]
  },
  {
   "cell_type": "code",
   "execution_count": 2,
   "id": "2135dfcd",
   "metadata": {},
   "outputs": [
    {
     "data": {
      "text/plain": [
       "1"
      ]
     },
     "execution_count": 2,
     "metadata": {},
     "output_type": "execute_result"
    }
   ],
   "source": [
    "5 % 2"
   ]
  },
  {
   "cell_type": "code",
   "execution_count": 3,
   "id": "c4fca910",
   "metadata": {},
   "outputs": [
    {
     "data": {
      "text/plain": [
       "2"
      ]
     },
     "execution_count": 3,
     "metadata": {},
     "output_type": "execute_result"
    }
   ],
   "source": [
    "5 % 3"
   ]
  },
  {
   "cell_type": "code",
   "execution_count": 4,
   "id": "78a0c10e",
   "metadata": {},
   "outputs": [
    {
     "data": {
      "text/plain": [
       "1"
      ]
     },
     "execution_count": 4,
     "metadata": {},
     "output_type": "execute_result"
    }
   ],
   "source": [
    "5 % 4"
   ]
  },
  {
   "cell_type": "code",
   "execution_count": 5,
   "id": "8df1f2d6",
   "metadata": {},
   "outputs": [
    {
     "data": {
      "text/plain": [
       "0"
      ]
     },
     "execution_count": 5,
     "metadata": {},
     "output_type": "execute_result"
    }
   ],
   "source": [
    "5 % 5"
   ]
  },
  {
   "cell_type": "code",
   "execution_count": 6,
   "id": "58a114c7",
   "metadata": {},
   "outputs": [
    {
     "data": {
      "text/plain": [
       "0"
      ]
     },
     "execution_count": 6,
     "metadata": {},
     "output_type": "execute_result"
    }
   ],
   "source": [
    "4%1"
   ]
  },
  {
   "cell_type": "code",
   "execution_count": 7,
   "id": "22f65358",
   "metadata": {},
   "outputs": [
    {
     "data": {
      "text/plain": [
       "0"
      ]
     },
     "execution_count": 7,
     "metadata": {},
     "output_type": "execute_result"
    }
   ],
   "source": [
    "4%2"
   ]
  },
  {
   "cell_type": "code",
   "execution_count": 8,
   "id": "c1b49627",
   "metadata": {},
   "outputs": [
    {
     "data": {
      "text/plain": [
       "1"
      ]
     },
     "execution_count": 8,
     "metadata": {},
     "output_type": "execute_result"
    }
   ],
   "source": [
    "4%3"
   ]
  },
  {
   "cell_type": "code",
   "execution_count": 9,
   "id": "0d7b3283",
   "metadata": {},
   "outputs": [
    {
     "data": {
      "text/plain": [
       "0"
      ]
     },
     "execution_count": 9,
     "metadata": {},
     "output_type": "execute_result"
    }
   ],
   "source": [
    "4%4"
   ]
  },
  {
   "cell_type": "code",
   "execution_count": 20,
   "id": "ce4543eb",
   "metadata": {},
   "outputs": [
    {
     "name": "stdout",
     "output_type": "stream",
     "text": [
      "enter a number to check: 9\n",
      "not a prime number\n"
     ]
    }
   ],
   "source": [
    "num = int(input('enter a number to check: '))\n",
    "\n",
    "for i in range(2,num):  # range(2,6)\n",
    "    if num%i == 0:      # 9 % 3 == 0 -> 0\n",
    "        print('not a prime number')\n",
    "        break\n",
    "else:\n",
    "    print('prime number',num)"
   ]
  },
  {
   "cell_type": "code",
   "execution_count": 21,
   "id": "e2e0c6a5",
   "metadata": {},
   "outputs": [
    {
     "data": {
      "text/plain": [
       "3.0"
      ]
     },
     "execution_count": 21,
     "metadata": {},
     "output_type": "execute_result"
    }
   ],
   "source": [
    "6/2"
   ]
  },
  {
   "cell_type": "code",
   "execution_count": 19,
   "id": "23bb7206",
   "metadata": {},
   "outputs": [
    {
     "data": {
      "text/plain": [
       "0"
      ]
     },
     "execution_count": 19,
     "metadata": {},
     "output_type": "execute_result"
    }
   ],
   "source": [
    "6%2"
   ]
  },
  {
   "cell_type": "markdown",
   "id": "ed9a7f97",
   "metadata": {},
   "source": [
    "# Remove duplicates from a list"
   ]
  },
  {
   "cell_type": "code",
   "execution_count": 1,
   "id": "751aaac0",
   "metadata": {},
   "outputs": [],
   "source": [
    "lst = [1,2,1,3,1,2,1,4,2,1,5]"
   ]
  },
  {
   "cell_type": "code",
   "execution_count": 2,
   "id": "bfff1bb9",
   "metadata": {},
   "outputs": [
    {
     "data": {
      "text/plain": [
       "{1, 2, 3, 4, 5}"
      ]
     },
     "execution_count": 2,
     "metadata": {},
     "output_type": "execute_result"
    }
   ],
   "source": [
    "set(lst)"
   ]
  },
  {
   "cell_type": "code",
   "execution_count": 4,
   "id": "9d138862",
   "metadata": {},
   "outputs": [
    {
     "data": {
      "text/plain": [
       "[1, 2, 3, 4, 5]"
      ]
     },
     "execution_count": 4,
     "metadata": {},
     "output_type": "execute_result"
    }
   ],
   "source": [
    "res = []\n",
    "\n",
    "for value in lst:\n",
    "    if value not in res:\n",
    "        res.append(value)\n",
    "        \n",
    "res"
   ]
  },
  {
   "cell_type": "markdown",
   "id": "f7c38fe2",
   "metadata": {},
   "source": [
    "# enumerate "
   ]
  },
  {
   "cell_type": "code",
   "execution_count": 7,
   "id": "d084ed39",
   "metadata": {},
   "outputs": [],
   "source": [
    "lst = ['mohan','srinu','sai','vasu']"
   ]
  },
  {
   "cell_type": "code",
   "execution_count": 8,
   "id": "fca08052",
   "metadata": {},
   "outputs": [
    {
     "data": {
      "text/plain": [
       "['mohan', 'srinu', 'sai', 'vasu']"
      ]
     },
     "execution_count": 8,
     "metadata": {},
     "output_type": "execute_result"
    }
   ],
   "source": [
    "lst"
   ]
  },
  {
   "cell_type": "code",
   "execution_count": 9,
   "id": "5116d41e",
   "metadata": {},
   "outputs": [
    {
     "name": "stdout",
     "output_type": "stream",
     "text": [
      "mohan\n",
      "srinu\n",
      "sai\n",
      "vasu\n"
     ]
    }
   ],
   "source": [
    "for name in lst:\n",
    "    print(name)"
   ]
  },
  {
   "cell_type": "code",
   "execution_count": 12,
   "id": "793da8a1",
   "metadata": {},
   "outputs": [
    {
     "name": "stdout",
     "output_type": "stream",
     "text": [
      "Index - 0\n",
      "Name -  mohan\n",
      "****************\n",
      "Index - 1\n",
      "Name -  srinu\n",
      "****************\n",
      "Index - 2\n",
      "Name -  sai\n",
      "****************\n",
      "Index - 3\n",
      "Name -  vasu\n",
      "****************\n"
     ]
    }
   ],
   "source": [
    "for i,j in enumerate(lst):\n",
    "    print('Index -',i)\n",
    "    print('Name - ',j)\n",
    "    print('****************')"
   ]
  },
  {
   "cell_type": "markdown",
   "id": "53b36de6",
   "metadata": {},
   "source": [
    "# zip"
   ]
  },
  {
   "cell_type": "code",
   "execution_count": 4,
   "id": "b84fc38d",
   "metadata": {},
   "outputs": [
    {
     "name": "stdout",
     "output_type": "stream",
     "text": [
      "a 1 11.11\n",
      "b 2 12.12\n",
      "c 3 13.13\n",
      "z 4 14.14\n"
     ]
    }
   ],
   "source": [
    "l1 = ['a','b','c','z']\n",
    "l2 = [1,2,3,4]\n",
    "l3 = [11.11,12.12,13.13,14.14]\n",
    "\n",
    "for i,j,k in zip(l1,l2,l3):\n",
    "    print(i,j,k)\n",
    "    "
   ]
  },
  {
   "cell_type": "markdown",
   "id": "23a49084",
   "metadata": {},
   "source": [
    "# How the two loops work"
   ]
  },
  {
   "cell_type": "code",
   "execution_count": 7,
   "id": "6201ed6e",
   "metadata": {},
   "outputs": [
    {
     "name": "stdout",
     "output_type": "stream",
     "text": [
      "1 4\n",
      "1 5\n",
      "1 6\n",
      "1 7\n",
      "1 8\n",
      "**********************\n",
      "2 4\n",
      "2 5\n",
      "2 6\n",
      "2 7\n",
      "2 8\n",
      "**********************\n"
     ]
    }
   ],
   "source": [
    "lst1 = [1,2]\n",
    "lst2 = [4,5,6,7,8]\n",
    "\n",
    "for i in lst1:\n",
    "    for j in lst2:\n",
    "        print(i,j)\n",
    "    print('**********************')"
   ]
  },
  {
   "cell_type": "markdown",
   "id": "838f9d54",
   "metadata": {},
   "source": [
    "# List Sorting "
   ]
  },
  {
   "cell_type": "code",
   "execution_count": 8,
   "id": "cf011a59",
   "metadata": {},
   "outputs": [],
   "source": [
    "lst = [700,200,100,500,300,400,800,600,900]\n",
    "\n",
    "#[1,2,3,4,5,6,7,8,9]"
   ]
  },
  {
   "cell_type": "code",
   "execution_count": 9,
   "id": "3a55cdc5",
   "metadata": {},
   "outputs": [
    {
     "data": {
      "text/plain": [
       "[700, 200, 100, 500, 300, 400, 800, 600, 900]"
      ]
     },
     "execution_count": 9,
     "metadata": {},
     "output_type": "execute_result"
    }
   ],
   "source": [
    "lst"
   ]
  },
  {
   "cell_type": "code",
   "execution_count": 10,
   "id": "18652d98",
   "metadata": {},
   "outputs": [
    {
     "data": {
      "text/plain": [
       "[100, 200, 300, 400, 500, 600, 700, 800, 900]"
      ]
     },
     "execution_count": 10,
     "metadata": {},
     "output_type": "execute_result"
    }
   ],
   "source": [
    "for i in range(len(lst)):\n",
    "    for j in range(i+1,len(lst)):\n",
    "        if lst[i] > lst[j]:\n",
    "            lst[i],lst[j] = lst[j],lst[i]\n",
    "            \n",
    "lst"
   ]
  },
  {
   "cell_type": "code",
   "execution_count": 11,
   "id": "694e9720",
   "metadata": {},
   "outputs": [],
   "source": [
    "a = 100\n",
    "b = 200\n"
   ]
  },
  {
   "cell_type": "code",
   "execution_count": 12,
   "id": "53adc223",
   "metadata": {},
   "outputs": [
    {
     "data": {
      "text/plain": [
       "100"
      ]
     },
     "execution_count": 12,
     "metadata": {},
     "output_type": "execute_result"
    }
   ],
   "source": [
    "a"
   ]
  },
  {
   "cell_type": "code",
   "execution_count": 13,
   "id": "d4ca0886",
   "metadata": {},
   "outputs": [
    {
     "data": {
      "text/plain": [
       "200"
      ]
     },
     "execution_count": 13,
     "metadata": {},
     "output_type": "execute_result"
    }
   ],
   "source": [
    "b"
   ]
  },
  {
   "cell_type": "code",
   "execution_count": 14,
   "id": "08a0d5d4",
   "metadata": {},
   "outputs": [],
   "source": [
    "a,b = b,a"
   ]
  },
  {
   "cell_type": "code",
   "execution_count": 15,
   "id": "a52a28aa",
   "metadata": {},
   "outputs": [
    {
     "data": {
      "text/plain": [
       "200"
      ]
     },
     "execution_count": 15,
     "metadata": {},
     "output_type": "execute_result"
    }
   ],
   "source": [
    "a"
   ]
  },
  {
   "cell_type": "code",
   "execution_count": 16,
   "id": "a5f29c4d",
   "metadata": {},
   "outputs": [
    {
     "data": {
      "text/plain": [
       "100"
      ]
     },
     "execution_count": 16,
     "metadata": {},
     "output_type": "execute_result"
    }
   ],
   "source": [
    "b"
   ]
  },
  {
   "cell_type": "markdown",
   "id": "1ae2bc0b",
   "metadata": {},
   "source": [
    "# Accessing inner List/Tuple"
   ]
  },
  {
   "cell_type": "code",
   "execution_count": 1,
   "id": "699ae81b",
   "metadata": {},
   "outputs": [],
   "source": [
    "lst = [1,2,(3,4)]"
   ]
  },
  {
   "cell_type": "code",
   "execution_count": 2,
   "id": "ab1b3090",
   "metadata": {},
   "outputs": [
    {
     "data": {
      "text/plain": [
       "1"
      ]
     },
     "execution_count": 2,
     "metadata": {},
     "output_type": "execute_result"
    }
   ],
   "source": [
    "lst[0]"
   ]
  },
  {
   "cell_type": "code",
   "execution_count": 3,
   "id": "3ca752bd",
   "metadata": {},
   "outputs": [
    {
     "data": {
      "text/plain": [
       "(3, 4)"
      ]
     },
     "execution_count": 3,
     "metadata": {},
     "output_type": "execute_result"
    }
   ],
   "source": [
    "lst[2]"
   ]
  },
  {
   "cell_type": "code",
   "execution_count": 4,
   "id": "60b60d9a",
   "metadata": {},
   "outputs": [],
   "source": [
    "lst[0] = 100"
   ]
  },
  {
   "cell_type": "code",
   "execution_count": 5,
   "id": "7336a7ae",
   "metadata": {},
   "outputs": [
    {
     "data": {
      "text/plain": [
       "[100, 2, (3, 4)]"
      ]
     },
     "execution_count": 5,
     "metadata": {},
     "output_type": "execute_result"
    }
   ],
   "source": [
    "lst"
   ]
  },
  {
   "cell_type": "code",
   "execution_count": 9,
   "id": "2a287cf8",
   "metadata": {},
   "outputs": [
    {
     "data": {
      "text/plain": [
       "(3, 4)"
      ]
     },
     "execution_count": 9,
     "metadata": {},
     "output_type": "execute_result"
    }
   ],
   "source": [
    "lst[2]"
   ]
  },
  {
   "cell_type": "code",
   "execution_count": 11,
   "id": "33abacc3",
   "metadata": {},
   "outputs": [
    {
     "ename": "TypeError",
     "evalue": "'tuple' object does not support item assignment",
     "output_type": "error",
     "traceback": [
      "\u001b[1;31m---------------------------------------------------------------------------\u001b[0m",
      "\u001b[1;31mTypeError\u001b[0m                                 Traceback (most recent call last)",
      "Input \u001b[1;32mIn [11]\u001b[0m, in \u001b[0;36m<module>\u001b[1;34m\u001b[0m\n\u001b[1;32m----> 1\u001b[0m lst[\u001b[38;5;241m2\u001b[39m][\u001b[38;5;241m0\u001b[39m] \u001b[38;5;241m=\u001b[39m \u001b[38;5;241m300\u001b[39m\n",
      "\u001b[1;31mTypeError\u001b[0m: 'tuple' object does not support item assignment"
     ]
    }
   ],
   "source": [
    "lst[2][0] = 300"
   ]
  },
  {
   "cell_type": "code",
   "execution_count": 13,
   "id": "6b567118",
   "metadata": {},
   "outputs": [],
   "source": [
    "lst[2] = 500"
   ]
  },
  {
   "cell_type": "code",
   "execution_count": 14,
   "id": "00ed1291",
   "metadata": {},
   "outputs": [
    {
     "data": {
      "text/plain": [
       "[100, 2, 500]"
      ]
     },
     "execution_count": 14,
     "metadata": {},
     "output_type": "execute_result"
    }
   ],
   "source": [
    "lst"
   ]
  },
  {
   "cell_type": "code",
   "execution_count": 15,
   "id": "e7ca977c",
   "metadata": {},
   "outputs": [],
   "source": [
    "# tuple"
   ]
  },
  {
   "cell_type": "code",
   "execution_count": 16,
   "id": "43376887",
   "metadata": {},
   "outputs": [],
   "source": [
    "tup = (1,2,[3,4])"
   ]
  },
  {
   "cell_type": "code",
   "execution_count": 17,
   "id": "1e10d511",
   "metadata": {},
   "outputs": [
    {
     "data": {
      "text/plain": [
       "(1, 2, [3, 4])"
      ]
     },
     "execution_count": 17,
     "metadata": {},
     "output_type": "execute_result"
    }
   ],
   "source": [
    "tup"
   ]
  },
  {
   "cell_type": "code",
   "execution_count": 18,
   "id": "701fc591",
   "metadata": {},
   "outputs": [
    {
     "data": {
      "text/plain": [
       "1"
      ]
     },
     "execution_count": 18,
     "metadata": {},
     "output_type": "execute_result"
    }
   ],
   "source": [
    "tup[0]"
   ]
  },
  {
   "cell_type": "code",
   "execution_count": 19,
   "id": "190279bf",
   "metadata": {},
   "outputs": [
    {
     "ename": "TypeError",
     "evalue": "'tuple' object does not support item assignment",
     "output_type": "error",
     "traceback": [
      "\u001b[1;31m---------------------------------------------------------------------------\u001b[0m",
      "\u001b[1;31mTypeError\u001b[0m                                 Traceback (most recent call last)",
      "Input \u001b[1;32mIn [19]\u001b[0m, in \u001b[0;36m<module>\u001b[1;34m\u001b[0m\n\u001b[1;32m----> 1\u001b[0m tup[\u001b[38;5;241m0\u001b[39m]\u001b[38;5;241m=\u001b[39m\u001b[38;5;241m100\u001b[39m\n",
      "\u001b[1;31mTypeError\u001b[0m: 'tuple' object does not support item assignment"
     ]
    }
   ],
   "source": [
    "tup[0]=100"
   ]
  },
  {
   "cell_type": "code",
   "execution_count": 20,
   "id": "8a049618",
   "metadata": {},
   "outputs": [
    {
     "data": {
      "text/plain": [
       "[3, 4]"
      ]
     },
     "execution_count": 20,
     "metadata": {},
     "output_type": "execute_result"
    }
   ],
   "source": [
    "tup[2]"
   ]
  },
  {
   "cell_type": "code",
   "execution_count": 21,
   "id": "e6b5dff6",
   "metadata": {},
   "outputs": [
    {
     "data": {
      "text/plain": [
       "3"
      ]
     },
     "execution_count": 21,
     "metadata": {},
     "output_type": "execute_result"
    }
   ],
   "source": [
    "tup[2][0]"
   ]
  },
  {
   "cell_type": "code",
   "execution_count": 22,
   "id": "e6ff4f07",
   "metadata": {},
   "outputs": [],
   "source": [
    "tup[2][0] = 300"
   ]
  },
  {
   "cell_type": "code",
   "execution_count": 23,
   "id": "c8391532",
   "metadata": {},
   "outputs": [
    {
     "data": {
      "text/plain": [
       "(1, 2, [300, 4])"
      ]
     },
     "execution_count": 23,
     "metadata": {},
     "output_type": "execute_result"
    }
   ],
   "source": [
    "tup"
   ]
  },
  {
   "cell_type": "code",
   "execution_count": 24,
   "id": "4c37d305",
   "metadata": {},
   "outputs": [
    {
     "data": {
      "text/plain": [
       "[300, 4]"
      ]
     },
     "execution_count": 24,
     "metadata": {},
     "output_type": "execute_result"
    }
   ],
   "source": [
    "tup[2]"
   ]
  },
  {
   "cell_type": "code",
   "execution_count": 25,
   "id": "574aca9a",
   "metadata": {},
   "outputs": [
    {
     "ename": "TypeError",
     "evalue": "'tuple' object does not support item assignment",
     "output_type": "error",
     "traceback": [
      "\u001b[1;31m---------------------------------------------------------------------------\u001b[0m",
      "\u001b[1;31mTypeError\u001b[0m                                 Traceback (most recent call last)",
      "Input \u001b[1;32mIn [25]\u001b[0m, in \u001b[0;36m<module>\u001b[1;34m\u001b[0m\n\u001b[1;32m----> 1\u001b[0m tup[\u001b[38;5;241m2\u001b[39m] \u001b[38;5;241m=\u001b[39m \u001b[38;5;241m500\u001b[39m\n",
      "\u001b[1;31mTypeError\u001b[0m: 'tuple' object does not support item assignment"
     ]
    }
   ],
   "source": [
    "tup[2] = 500"
   ]
  },
  {
   "cell_type": "markdown",
   "id": "8f136e43",
   "metadata": {},
   "source": [
    "# Super"
   ]
  },
  {
   "cell_type": "code",
   "execution_count": 1,
   "id": "d402b33a",
   "metadata": {},
   "outputs": [
    {
     "name": "stdout",
     "output_type": "stream",
     "text": [
      "Animal Type: Mammal\n",
      "Mammals give birth directly\n"
     ]
    }
   ],
   "source": [
    "class Animal(object):\n",
    "    def __init__(self, animal_type):\n",
    "        print('Animal Type:', animal_type)\n",
    "    \n",
    "class Mammal(Animal):\n",
    "    def __init__(self):\n",
    "\n",
    "        # call superclass\n",
    "        super().__init__('Mammal')\n",
    "        print('Mammals give birth directly')\n",
    "    \n",
    "    \n",
    "dog = Mammal()"
   ]
  },
  {
   "cell_type": "markdown",
   "id": "4e8e63ef",
   "metadata": {},
   "source": [
    "# Static vs Class methods"
   ]
  },
  {
   "cell_type": "code",
   "execution_count": 27,
   "id": "40686e9b",
   "metadata": {},
   "outputs": [],
   "source": [
    "class MyClass:\n",
    "    \n",
    "    def instancemethod(self):\n",
    "        print(self)\n",
    "        return 'instance method called'\n",
    "\n",
    "    @classmethod\n",
    "    def classmethod(cls,value):\n",
    "        print(cls)\n",
    "        print(value)\n",
    "        return 'class method called'\n",
    "\n",
    "    @staticmethod\n",
    "    def staticmethod(age):\n",
    "        print(age)\n",
    "        return 'static method called'\n",
    "    \n"
   ]
  },
  {
   "cell_type": "code",
   "execution_count": 28,
   "id": "cf59d0f1",
   "metadata": {},
   "outputs": [],
   "source": [
    "obj = MyClass()"
   ]
  },
  {
   "cell_type": "code",
   "execution_count": 29,
   "id": "1b9e9308",
   "metadata": {},
   "outputs": [
    {
     "name": "stdout",
     "output_type": "stream",
     "text": [
      "<__main__.MyClass object at 0x000001FDCF600D00>\n"
     ]
    },
    {
     "data": {
      "text/plain": [
       "'instance method called'"
      ]
     },
     "execution_count": 29,
     "metadata": {},
     "output_type": "execute_result"
    }
   ],
   "source": [
    "obj.instancemethod()"
   ]
  },
  {
   "cell_type": "code",
   "execution_count": 31,
   "id": "80312983",
   "metadata": {},
   "outputs": [
    {
     "name": "stdout",
     "output_type": "stream",
     "text": [
      "<class '__main__.MyClass'>\n",
      "1000\n"
     ]
    },
    {
     "data": {
      "text/plain": [
       "'class method called'"
      ]
     },
     "execution_count": 31,
     "metadata": {},
     "output_type": "execute_result"
    }
   ],
   "source": [
    "obj.classmethod(1000)"
   ]
  },
  {
   "cell_type": "code",
   "execution_count": 32,
   "id": "9c17b44f",
   "metadata": {},
   "outputs": [
    {
     "name": "stdout",
     "output_type": "stream",
     "text": [
      "32\n"
     ]
    },
    {
     "data": {
      "text/plain": [
       "'static method called'"
      ]
     },
     "execution_count": 32,
     "metadata": {},
     "output_type": "execute_result"
    }
   ],
   "source": [
    "obj.staticmethod(32)"
   ]
  },
  {
   "cell_type": "markdown",
   "id": "352b0176",
   "metadata": {},
   "source": [
    "# pickling vs unpickling"
   ]
  },
  {
   "cell_type": "code",
   "execution_count": 38,
   "id": "2ecae20c",
   "metadata": {},
   "outputs": [],
   "source": [
    "import pickle as pk"
   ]
  },
  {
   "cell_type": "code",
   "execution_count": 35,
   "id": "1e963aa6",
   "metadata": {},
   "outputs": [],
   "source": [
    "# dir(pickle)"
   ]
  },
  {
   "cell_type": "code",
   "execution_count": 36,
   "id": "1508cb17",
   "metadata": {},
   "outputs": [],
   "source": [
    "# dump load - to push or pull data from a file\n",
    "# dumps loads - convert python object into string"
   ]
  },
  {
   "cell_type": "code",
   "execution_count": 37,
   "id": "321f5770",
   "metadata": {},
   "outputs": [],
   "source": [
    "dt = {'name':'mohan','age':31}"
   ]
  },
  {
   "cell_type": "code",
   "execution_count": 40,
   "id": "600707fc",
   "metadata": {},
   "outputs": [],
   "source": [
    "byte_data = pk.dumps(dt)"
   ]
  },
  {
   "cell_type": "code",
   "execution_count": 41,
   "id": "4463b7ce",
   "metadata": {},
   "outputs": [
    {
     "data": {
      "text/plain": [
       "b'\\x80\\x04\\x95\\x1c\\x00\\x00\\x00\\x00\\x00\\x00\\x00}\\x94(\\x8c\\x04name\\x94\\x8c\\x05mohan\\x94\\x8c\\x03age\\x94K\\x1fu.'"
      ]
     },
     "execution_count": 41,
     "metadata": {},
     "output_type": "execute_result"
    }
   ],
   "source": [
    "byte_data"
   ]
  },
  {
   "cell_type": "code",
   "execution_count": 43,
   "id": "f57a17de",
   "metadata": {},
   "outputs": [
    {
     "data": {
      "text/plain": [
       "{'name': 'mohan', 'age': 31}"
      ]
     },
     "execution_count": 43,
     "metadata": {},
     "output_type": "execute_result"
    }
   ],
   "source": [
    "pk.loads(byte_data)"
   ]
  },
  {
   "cell_type": "code",
   "execution_count": 47,
   "id": "0fc2d3c0",
   "metadata": {},
   "outputs": [
    {
     "name": "stdout",
     "output_type": "stream",
     "text": [
      "dumpped\n"
     ]
    }
   ],
   "source": [
    "f = open('sample.pkl','wb')\n",
    "pk.dump(dt,f)\n",
    "print('dumpped')"
   ]
  },
  {
   "cell_type": "markdown",
   "id": "5fcff6e9",
   "metadata": {},
   "source": [
    "# Doc String"
   ]
  },
  {
   "cell_type": "code",
   "execution_count": 2,
   "id": "e9c02514",
   "metadata": {},
   "outputs": [],
   "source": [
    "def square(n):\n",
    "    '''Takes in a number n, returns the square of n'''\n",
    "    return n**2"
   ]
  },
  {
   "cell_type": "code",
   "execution_count": 1,
   "id": "05aaea64",
   "metadata": {},
   "outputs": [
    {
     "data": {
      "text/plain": [
       "25"
      ]
     },
     "execution_count": 1,
     "metadata": {},
     "output_type": "execute_result"
    }
   ],
   "source": [
    "5**2"
   ]
  },
  {
   "cell_type": "code",
   "execution_count": 3,
   "id": "dbfc47a2",
   "metadata": {},
   "outputs": [
    {
     "data": {
      "text/plain": [
       "'Takes in a number n, returns the square of n'"
      ]
     },
     "execution_count": 3,
     "metadata": {},
     "output_type": "execute_result"
    }
   ],
   "source": [
    "square.__doc__"
   ]
  },
  {
   "cell_type": "code",
   "execution_count": 7,
   "id": "d8d57a33",
   "metadata": {},
   "outputs": [
    {
     "ename": "IndentationError",
     "evalue": "expected an indented block (4291167622.py, line 7)",
     "output_type": "error",
     "traceback": [
      "\u001b[1;36m  Input \u001b[1;32mIn [7]\u001b[1;36m\u001b[0m\n\u001b[1;33m    def delete():\u001b[0m\n\u001b[1;37m    ^\u001b[0m\n\u001b[1;31mIndentationError\u001b[0m\u001b[1;31m:\u001b[0m expected an indented block\n"
     ]
    }
   ],
   "source": [
    "def insert():\n",
    "    print('implementing')\n",
    "    \n",
    "def update():\n",
    "    \n",
    "\n",
    "def delete():\n",
    "    pass\n",
    "    \n",
    "    \n",
    "insert()\n",
    "update()\n",
    "delete()"
   ]
  },
  {
   "cell_type": "markdown",
   "id": "e097176e",
   "metadata": {},
   "source": [
    "# issubclass"
   ]
  },
  {
   "cell_type": "code",
   "execution_count": 13,
   "id": "92de0ea7",
   "metadata": {},
   "outputs": [],
   "source": [
    "class Father:\n",
    "    pass\n",
    "class Child(Father):\n",
    "    pass\n",
    "\n",
    "obj = Child()"
   ]
  },
  {
   "cell_type": "code",
   "execution_count": 17,
   "id": "5caaf123",
   "metadata": {},
   "outputs": [
    {
     "data": {
      "text/plain": [
       "False"
      ]
     },
     "execution_count": 17,
     "metadata": {},
     "output_type": "execute_result"
    }
   ],
   "source": [
    "issubclass(Father,Child)  # issubclass(subclass, superclass)"
   ]
  },
  {
   "cell_type": "code",
   "execution_count": 18,
   "id": "8d8fa792",
   "metadata": {},
   "outputs": [
    {
     "data": {
      "text/plain": [
       "True"
      ]
     },
     "execution_count": 18,
     "metadata": {},
     "output_type": "execute_result"
    }
   ],
   "source": [
    "issubclass(Child,Father)"
   ]
  },
  {
   "cell_type": "markdown",
   "id": "38d6748d",
   "metadata": {},
   "source": [
    "# isinstance"
   ]
  },
  {
   "cell_type": "code",
   "execution_count": 20,
   "id": "acf7d682",
   "metadata": {},
   "outputs": [
    {
     "data": {
      "text/plain": [
       "True"
      ]
     },
     "execution_count": 20,
     "metadata": {},
     "output_type": "execute_result"
    }
   ],
   "source": [
    "isinstance(10,int)"
   ]
  },
  {
   "cell_type": "code",
   "execution_count": 21,
   "id": "2cb6c462",
   "metadata": {},
   "outputs": [
    {
     "data": {
      "text/plain": [
       "False"
      ]
     },
     "execution_count": 21,
     "metadata": {},
     "output_type": "execute_result"
    }
   ],
   "source": [
    "isinstance(10.0,int)"
   ]
  },
  {
   "cell_type": "code",
   "execution_count": 22,
   "id": "43f83345",
   "metadata": {},
   "outputs": [
    {
     "data": {
      "text/plain": [
       "False"
      ]
     },
     "execution_count": 22,
     "metadata": {},
     "output_type": "execute_result"
    }
   ],
   "source": [
    "isinstance([10.0],int)"
   ]
  },
  {
   "cell_type": "code",
   "execution_count": 23,
   "id": "c9b61eaa",
   "metadata": {},
   "outputs": [
    {
     "data": {
      "text/plain": [
       "True"
      ]
     },
     "execution_count": 23,
     "metadata": {},
     "output_type": "execute_result"
    }
   ],
   "source": [
    "isinstance([10.0],list)"
   ]
  },
  {
   "cell_type": "code",
   "execution_count": 25,
   "id": "641b9b56",
   "metadata": {},
   "outputs": [
    {
     "data": {
      "text/plain": [
       "False"
      ]
     },
     "execution_count": 25,
     "metadata": {},
     "output_type": "execute_result"
    }
   ],
   "source": [
    "isinstance(\"Hello\", (float, int, list, dict, tuple))"
   ]
  },
  {
   "cell_type": "code",
   "execution_count": 27,
   "id": "f9599072",
   "metadata": {},
   "outputs": [
    {
     "data": {
      "text/plain": [
       "False"
      ]
     },
     "execution_count": 27,
     "metadata": {},
     "output_type": "execute_result"
    }
   ],
   "source": [
    "isinstance(\"12.34\", (float, int))"
   ]
  },
  {
   "cell_type": "code",
   "execution_count": null,
   "id": "f01f44ee",
   "metadata": {},
   "outputs": [],
   "source": []
  }
 ],
 "metadata": {
  "kernelspec": {
   "display_name": "Python 3 (ipykernel)",
   "language": "python",
   "name": "python3"
  },
  "language_info": {
   "codemirror_mode": {
    "name": "ipython",
    "version": 3
   },
   "file_extension": ".py",
   "mimetype": "text/x-python",
   "name": "python",
   "nbconvert_exporter": "python",
   "pygments_lexer": "ipython3",
   "version": "3.8.3"
  }
 },
 "nbformat": 4,
 "nbformat_minor": 5
}
