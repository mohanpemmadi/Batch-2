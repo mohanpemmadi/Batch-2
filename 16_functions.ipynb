{
 "cells": [
  {
   "cell_type": "code",
   "execution_count": 1,
   "id": "9f0bf72a",
   "metadata": {},
   "outputs": [],
   "source": [
    "# Function -  It is a block of reusable code"
   ]
  },
  {
   "cell_type": "code",
   "execution_count": 7,
   "id": "1b119b7e",
   "metadata": {},
   "outputs": [],
   "source": [
    "def sum():\n",
    "    a = 100\n",
    "    b = 200\n",
    "    c = a + b\n",
    "    print(c)"
   ]
  },
  {
   "cell_type": "code",
   "execution_count": 8,
   "id": "87139a15",
   "metadata": {},
   "outputs": [
    {
     "name": "stdout",
     "output_type": "stream",
     "text": [
      "300\n"
     ]
    }
   ],
   "source": [
    "sum()"
   ]
  },
  {
   "cell_type": "code",
   "execution_count": 9,
   "id": "94698d29",
   "metadata": {},
   "outputs": [
    {
     "name": "stdout",
     "output_type": "stream",
     "text": [
      "300\n",
      "None\n"
     ]
    }
   ],
   "source": [
    "print(sum())"
   ]
  },
  {
   "cell_type": "code",
   "execution_count": 16,
   "id": "a834872a",
   "metadata": {},
   "outputs": [],
   "source": [
    "def sum_of_two():\n",
    "    a = 100\n",
    "    b = 200\n",
    "    c = a + b\n",
    "    return c"
   ]
  },
  {
   "cell_type": "code",
   "execution_count": 17,
   "id": "2c7e4d58",
   "metadata": {},
   "outputs": [
    {
     "data": {
      "text/plain": [
       "300"
      ]
     },
     "execution_count": 17,
     "metadata": {},
     "output_type": "execute_result"
    }
   ],
   "source": [
    "sum_of_two()"
   ]
  },
  {
   "cell_type": "code",
   "execution_count": 12,
   "id": "7a4cd434",
   "metadata": {},
   "outputs": [],
   "source": [
    "def sum():\n",
    "    a = 100\n",
    "    b = 200\n",
    "    c = a + b\n",
    "    return 'hello python'"
   ]
  },
  {
   "cell_type": "code",
   "execution_count": 18,
   "id": "3eb31a0f",
   "metadata": {},
   "outputs": [
    {
     "name": "stdout",
     "output_type": "stream",
     "text": [
      "hello python\n",
      "hello python\n",
      "hello python\n"
     ]
    },
    {
     "data": {
      "text/plain": [
       "300"
      ]
     },
     "execution_count": 18,
     "metadata": {},
     "output_type": "execute_result"
    }
   ],
   "source": [
    "print(sum())\n",
    "print(sum())\n",
    "print(sum())\n",
    "sum_of_two()"
   ]
  },
  {
   "cell_type": "code",
   "execution_count": 21,
   "id": "75538ade",
   "metadata": {},
   "outputs": [],
   "source": [
    "def sum_of_given_nums(a,b):   # a & b are arguments\n",
    "    print('a -',a)\n",
    "    print('b -',b)\n",
    "    c = a+b\n",
    "    return c"
   ]
  },
  {
   "cell_type": "code",
   "execution_count": 22,
   "id": "62b10c95",
   "metadata": {},
   "outputs": [
    {
     "name": "stdout",
     "output_type": "stream",
     "text": [
      "a - 1\n",
      "b - 2\n"
     ]
    },
    {
     "data": {
      "text/plain": [
       "3"
      ]
     },
     "execution_count": 22,
     "metadata": {},
     "output_type": "execute_result"
    }
   ],
   "source": [
    "sum_of_given_nums(1,2)"
   ]
  },
  {
   "cell_type": "code",
   "execution_count": 23,
   "id": "d7195e49",
   "metadata": {},
   "outputs": [
    {
     "name": "stdout",
     "output_type": "stream",
     "text": [
      "a - 10\n",
      "b - 20\n"
     ]
    },
    {
     "data": {
      "text/plain": [
       "30"
      ]
     },
     "execution_count": 23,
     "metadata": {},
     "output_type": "execute_result"
    }
   ],
   "source": [
    "sum_of_given_nums(10,20)"
   ]
  },
  {
   "cell_type": "code",
   "execution_count": 24,
   "id": "24a479e2",
   "metadata": {},
   "outputs": [
    {
     "name": "stdout",
     "output_type": "stream",
     "text": [
      "a - -10\n",
      "b - 20\n"
     ]
    },
    {
     "data": {
      "text/plain": [
       "10"
      ]
     },
     "execution_count": 24,
     "metadata": {},
     "output_type": "execute_result"
    }
   ],
   "source": [
    "sum_of_given_nums(-10,20)"
   ]
  },
  {
   "cell_type": "code",
   "execution_count": 28,
   "id": "43e8a03a",
   "metadata": {},
   "outputs": [],
   "source": [
    "def sample_sum(a,b):   # a & b are arguments\n",
    "    return a+b"
   ]
  },
  {
   "cell_type": "code",
   "execution_count": 26,
   "id": "e038ea69",
   "metadata": {},
   "outputs": [
    {
     "data": {
      "text/plain": [
       "3"
      ]
     },
     "execution_count": 26,
     "metadata": {},
     "output_type": "execute_result"
    }
   ],
   "source": [
    "sample_sum(1,2)"
   ]
  },
  {
   "cell_type": "code",
   "execution_count": 27,
   "id": "cc582ddd",
   "metadata": {},
   "outputs": [
    {
     "data": {
      "text/plain": [
       "10"
      ]
     },
     "execution_count": 27,
     "metadata": {},
     "output_type": "execute_result"
    }
   ],
   "source": [
    "sample_sum(-10,20)"
   ]
  },
  {
   "cell_type": "code",
   "execution_count": 29,
   "id": "33150465",
   "metadata": {},
   "outputs": [],
   "source": [
    "def to_upper(name):\n",
    "    return name.upper()\n"
   ]
  },
  {
   "cell_type": "code",
   "execution_count": 30,
   "id": "099ad6b6",
   "metadata": {},
   "outputs": [
    {
     "data": {
      "text/plain": [
       "'MOHAN'"
      ]
     },
     "execution_count": 30,
     "metadata": {},
     "output_type": "execute_result"
    }
   ],
   "source": [
    "to_upper('mohan')  # mohan - perameters"
   ]
  },
  {
   "cell_type": "code",
   "execution_count": 31,
   "id": "323802e7",
   "metadata": {},
   "outputs": [
    {
     "data": {
      "text/plain": [
       "'VENKY'"
      ]
     },
     "execution_count": 31,
     "metadata": {},
     "output_type": "execute_result"
    }
   ],
   "source": [
    "to_upper('venky')"
   ]
  },
  {
   "cell_type": "code",
   "execution_count": 37,
   "id": "3ed74ae1",
   "metadata": {},
   "outputs": [],
   "source": [
    "def multiply(a,b,c):\n",
    "    res = sample_sum(a,b)\n",
    "    print('res -',res)\n",
    "    final_value = c * res\n",
    "    print('final value-',final_value)\n",
    "    return final_value\n",
    "\n",
    "  "
   ]
  },
  {
   "cell_type": "code",
   "execution_count": 38,
   "id": "fa21ea56",
   "metadata": {},
   "outputs": [
    {
     "name": "stdout",
     "output_type": "stream",
     "text": [
      "res - 30\n",
      "final value- 900\n"
     ]
    },
    {
     "data": {
      "text/plain": [
       "900"
      ]
     },
     "execution_count": 38,
     "metadata": {},
     "output_type": "execute_result"
    }
   ],
   "source": [
    "multiply(10,20,30) # 10+20 -> 30 * 30"
   ]
  },
  {
   "cell_type": "code",
   "execution_count": 39,
   "id": "086aa6f8",
   "metadata": {},
   "outputs": [],
   "source": [
    "def to_upper(name):\n",
    "    return name.upper()"
   ]
  },
  {
   "cell_type": "code",
   "execution_count": 40,
   "id": "03597da3",
   "metadata": {},
   "outputs": [
    {
     "ename": "TypeError",
     "evalue": "to_upper() takes 1 positional argument but 2 were given",
     "output_type": "error",
     "traceback": [
      "\u001b[1;31m---------------------------------------------------------------------------\u001b[0m",
      "\u001b[1;31mTypeError\u001b[0m                                 Traceback (most recent call last)",
      "Input \u001b[1;32mIn [40]\u001b[0m, in \u001b[0;36m<module>\u001b[1;34m\u001b[0m\n\u001b[1;32m----> 1\u001b[0m \u001b[43mto_upper\u001b[49m\u001b[43m(\u001b[49m\u001b[38;5;124;43m'\u001b[39;49m\u001b[38;5;124;43mvenkat\u001b[39;49m\u001b[38;5;124;43m'\u001b[39;49m\u001b[43m,\u001b[49m\u001b[38;5;124;43m'\u001b[39;49m\u001b[38;5;124;43mravi\u001b[39;49m\u001b[38;5;124;43m'\u001b[39;49m\u001b[43m)\u001b[49m\n",
      "\u001b[1;31mTypeError\u001b[0m: to_upper() takes 1 positional argument but 2 were given"
     ]
    }
   ],
   "source": [
    "to_upper('venkat','ravi')"
   ]
  },
  {
   "cell_type": "code",
   "execution_count": 41,
   "id": "66461725",
   "metadata": {},
   "outputs": [
    {
     "ename": "TypeError",
     "evalue": "to_upper() missing 1 required positional argument: 'name'",
     "output_type": "error",
     "traceback": [
      "\u001b[1;31m---------------------------------------------------------------------------\u001b[0m",
      "\u001b[1;31mTypeError\u001b[0m                                 Traceback (most recent call last)",
      "Input \u001b[1;32mIn [41]\u001b[0m, in \u001b[0;36m<module>\u001b[1;34m\u001b[0m\n\u001b[1;32m----> 1\u001b[0m \u001b[43mto_upper\u001b[49m\u001b[43m(\u001b[49m\u001b[43m)\u001b[49m\n",
      "\u001b[1;31mTypeError\u001b[0m: to_upper() missing 1 required positional argument: 'name'"
     ]
    }
   ],
   "source": [
    "to_upper()"
   ]
  },
  {
   "cell_type": "code",
   "execution_count": 1,
   "id": "f6a8994a",
   "metadata": {},
   "outputs": [],
   "source": [
    "# Positional Argument"
   ]
  },
  {
   "cell_type": "code",
   "execution_count": 3,
   "id": "e5389a44",
   "metadata": {},
   "outputs": [
    {
     "data": {
      "text/plain": [
       "6"
      ]
     },
     "execution_count": 3,
     "metadata": {},
     "output_type": "execute_result"
    }
   ],
   "source": [
    "def sum_of_nums(a,b,c):  # a,b and c are positional arguments\n",
    "    return a+b+c\n",
    "sum_of_nums(1,2,3)"
   ]
  },
  {
   "cell_type": "code",
   "execution_count": 4,
   "id": "06ac99d9",
   "metadata": {},
   "outputs": [],
   "source": [
    "# Keyword arguments"
   ]
  },
  {
   "cell_type": "code",
   "execution_count": 8,
   "id": "f924526c",
   "metadata": {},
   "outputs": [
    {
     "data": {
      "text/plain": [
       "'VENKY'"
      ]
     },
     "execution_count": 8,
     "metadata": {},
     "output_type": "execute_result"
    }
   ],
   "source": [
    "def to_upper(name='mohan'): # keyword arguments\n",
    "    return name.upper()\n",
    "\n",
    "to_upper('venky')"
   ]
  },
  {
   "cell_type": "code",
   "execution_count": 9,
   "id": "3a33e9e0",
   "metadata": {},
   "outputs": [
    {
     "data": {
      "text/plain": [
       "'VENKY'"
      ]
     },
     "execution_count": 9,
     "metadata": {},
     "output_type": "execute_result"
    }
   ],
   "source": [
    "to_upper(name = 'venky')"
   ]
  },
  {
   "cell_type": "code",
   "execution_count": 10,
   "id": "322650ad",
   "metadata": {},
   "outputs": [
    {
     "data": {
      "text/plain": [
       "'MOHAN'"
      ]
     },
     "execution_count": 10,
     "metadata": {},
     "output_type": "execute_result"
    }
   ],
   "source": [
    "to_upper()"
   ]
  },
  {
   "cell_type": "code",
   "execution_count": 12,
   "id": "098309a4",
   "metadata": {},
   "outputs": [],
   "source": [
    "def sample(value,name='sample name'):\n",
    "    print(value)\n",
    "    print(name)"
   ]
  },
  {
   "cell_type": "code",
   "execution_count": 13,
   "id": "fb07e611",
   "metadata": {},
   "outputs": [
    {
     "name": "stdout",
     "output_type": "stream",
     "text": [
      "100\n",
      "sample name\n"
     ]
    }
   ],
   "source": [
    "sample(100)"
   ]
  },
  {
   "cell_type": "code",
   "execution_count": 14,
   "id": "bacbbf32",
   "metadata": {},
   "outputs": [
    {
     "name": "stdout",
     "output_type": "stream",
     "text": [
      "100\n",
      "mohan\n"
     ]
    }
   ],
   "source": [
    "sample(100,'mohan')"
   ]
  },
  {
   "cell_type": "code",
   "execution_count": 15,
   "id": "0f753875",
   "metadata": {},
   "outputs": [
    {
     "name": "stdout",
     "output_type": "stream",
     "text": [
      "100\n",
      "mohan\n"
     ]
    }
   ],
   "source": [
    "sample(100,name='mohan')"
   ]
  },
  {
   "cell_type": "code",
   "execution_count": 18,
   "id": "2e69ac3e",
   "metadata": {},
   "outputs": [
    {
     "ename": "TypeError",
     "evalue": "sample() got an unexpected keyword argument 'first_name'",
     "output_type": "error",
     "traceback": [
      "\u001b[1;31m---------------------------------------------------------------------------\u001b[0m",
      "\u001b[1;31mTypeError\u001b[0m                                 Traceback (most recent call last)",
      "Input \u001b[1;32mIn [18]\u001b[0m, in \u001b[0;36m<module>\u001b[1;34m\u001b[0m\n\u001b[1;32m----> 1\u001b[0m \u001b[43msample\u001b[49m\u001b[43m(\u001b[49m\u001b[38;5;241;43m100\u001b[39;49m\u001b[43m,\u001b[49m\u001b[43mfirst_name\u001b[49m\u001b[38;5;241;43m=\u001b[39;49m\u001b[38;5;124;43m'\u001b[39;49m\u001b[38;5;124;43mmohan\u001b[39;49m\u001b[38;5;124;43m'\u001b[39;49m\u001b[43m)\u001b[49m\n",
      "\u001b[1;31mTypeError\u001b[0m: sample() got an unexpected keyword argument 'first_name'"
     ]
    }
   ],
   "source": [
    "sample(100,first_name='mohan')"
   ]
  },
  {
   "cell_type": "code",
   "execution_count": 19,
   "id": "5b39ebc6",
   "metadata": {},
   "outputs": [
    {
     "ename": "SyntaxError",
     "evalue": "positional argument follows keyword argument (2921776248.py, line 1)",
     "output_type": "error",
     "traceback": [
      "\u001b[1;36m  Input \u001b[1;32mIn [19]\u001b[1;36m\u001b[0m\n\u001b[1;33m    sample(name='mohan',200)\u001b[0m\n\u001b[1;37m                        ^\u001b[0m\n\u001b[1;31mSyntaxError\u001b[0m\u001b[1;31m:\u001b[0m positional argument follows keyword argument\n"
     ]
    }
   ],
   "source": [
    "sample(name='mohan',200)"
   ]
  },
  {
   "cell_type": "markdown",
   "id": "bea8fa8e",
   "metadata": {},
   "source": [
    "# * args vs **kwargs"
   ]
  },
  {
   "cell_type": "code",
   "execution_count": 20,
   "id": "9c54f878",
   "metadata": {},
   "outputs": [],
   "source": [
    "def dummy(*args,**kwargs):\n",
    "    print(args)\n",
    "    print(kwargs)"
   ]
  },
  {
   "cell_type": "code",
   "execution_count": 21,
   "id": "e8cb4cda",
   "metadata": {},
   "outputs": [
    {
     "name": "stdout",
     "output_type": "stream",
     "text": [
      "(100, 200, 'mohan')\n",
      "{'name': 'venkat', 'age': 30}\n"
     ]
    }
   ],
   "source": [
    "dummy(100,200,'mohan',name='venkat',age=30)"
   ]
  },
  {
   "cell_type": "code",
   "execution_count": 23,
   "id": "a90d1434",
   "metadata": {},
   "outputs": [],
   "source": [
    "def dummy2(value,*args,**kwargs):\n",
    "    print(value)\n",
    "    print(args)\n",
    "    print(kwargs)"
   ]
  },
  {
   "cell_type": "code",
   "execution_count": 24,
   "id": "d410b783",
   "metadata": {},
   "outputs": [
    {
     "name": "stdout",
     "output_type": "stream",
     "text": [
      "100\n",
      "(200, 'mohan')\n",
      "{'name': 'venkat', 'age': 30}\n"
     ]
    }
   ],
   "source": [
    "dummy2(100,200,'mohan',name='venkat',age=30)"
   ]
  },
  {
   "cell_type": "code",
   "execution_count": 25,
   "id": "e72f1a38",
   "metadata": {},
   "outputs": [],
   "source": [
    "def dummy3(*pa,**ka):\n",
    "    print(pa)\n",
    "    print(ka)"
   ]
  },
  {
   "cell_type": "code",
   "execution_count": 26,
   "id": "1ed7d79a",
   "metadata": {},
   "outputs": [
    {
     "name": "stdout",
     "output_type": "stream",
     "text": [
      "(100, 200, 'mohan')\n",
      "{'name': 'venkat', 'age': 30}\n"
     ]
    }
   ],
   "source": [
    "dummy3(100,200,'mohan',name='venkat',age=30)"
   ]
  },
  {
   "cell_type": "markdown",
   "id": "d59fcf0b",
   "metadata": {},
   "source": [
    "# Local vs Global Scope"
   ]
  },
  {
   "cell_type": "code",
   "execution_count": 27,
   "id": "dc38605b",
   "metadata": {},
   "outputs": [
    {
     "name": "stdout",
     "output_type": "stream",
     "text": [
      "100\n"
     ]
    }
   ],
   "source": [
    "x = 100 # global variable\n",
    "\n",
    "def demo():\n",
    "    print(x)\n",
    "    \n",
    "demo()"
   ]
  },
  {
   "cell_type": "code",
   "execution_count": 29,
   "id": "517616e0",
   "metadata": {},
   "outputs": [
    {
     "name": "stdout",
     "output_type": "stream",
     "text": [
      "global-  ravi\n",
      "local-  sai\n"
     ]
    }
   ],
   "source": [
    "name = 'ravi'\n",
    "def demo():\n",
    "    name = 'sai'\n",
    "    print('local- ',name)\n",
    "    \n",
    "print('global- ',name)\n",
    "demo()"
   ]
  },
  {
   "cell_type": "code",
   "execution_count": null,
   "id": "5a5147b7",
   "metadata": {},
   "outputs": [],
   "source": []
  }
 ],
 "metadata": {
  "kernelspec": {
   "display_name": "Python 3 (ipykernel)",
   "language": "python",
   "name": "python3"
  },
  "language_info": {
   "codemirror_mode": {
    "name": "ipython",
    "version": 3
   },
   "file_extension": ".py",
   "mimetype": "text/x-python",
   "name": "python",
   "nbconvert_exporter": "python",
   "pygments_lexer": "ipython3",
   "version": "3.8.3"
  }
 },
 "nbformat": 4,
 "nbformat_minor": 5
}
