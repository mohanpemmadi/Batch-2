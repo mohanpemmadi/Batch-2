{
 "cells": [
  {
   "cell_type": "code",
   "execution_count": 1,
   "id": "9f0bf72a",
   "metadata": {},
   "outputs": [],
   "source": [
    "# Function -  It is a block of reusable code"
   ]
  },
  {
   "cell_type": "code",
   "execution_count": 7,
   "id": "1b119b7e",
   "metadata": {},
   "outputs": [],
   "source": [
    "def sum():\n",
    "    a = 100\n",
    "    b = 200\n",
    "    c = a + b\n",
    "    print(c)"
   ]
  },
  {
   "cell_type": "code",
   "execution_count": 8,
   "id": "87139a15",
   "metadata": {},
   "outputs": [
    {
     "name": "stdout",
     "output_type": "stream",
     "text": [
      "300\n"
     ]
    }
   ],
   "source": [
    "sum()"
   ]
  },
  {
   "cell_type": "code",
   "execution_count": 9,
   "id": "94698d29",
   "metadata": {},
   "outputs": [
    {
     "name": "stdout",
     "output_type": "stream",
     "text": [
      "300\n",
      "None\n"
     ]
    }
   ],
   "source": [
    "print(sum())"
   ]
  },
  {
   "cell_type": "code",
   "execution_count": 16,
   "id": "a834872a",
   "metadata": {},
   "outputs": [],
   "source": [
    "def sum_of_two():\n",
    "    a = 100\n",
    "    b = 200\n",
    "    c = a + b\n",
    "    return c"
   ]
  },
  {
   "cell_type": "code",
   "execution_count": 17,
   "id": "2c7e4d58",
   "metadata": {},
   "outputs": [
    {
     "data": {
      "text/plain": [
       "300"
      ]
     },
     "execution_count": 17,
     "metadata": {},
     "output_type": "execute_result"
    }
   ],
   "source": [
    "sum_of_two()"
   ]
  },
  {
   "cell_type": "code",
   "execution_count": 12,
   "id": "7a4cd434",
   "metadata": {},
   "outputs": [],
   "source": [
    "def sum():\n",
    "    a = 100\n",
    "    b = 200\n",
    "    c = a + b\n",
    "    return 'hello python'"
   ]
  },
  {
   "cell_type": "code",
   "execution_count": 18,
   "id": "3eb31a0f",
   "metadata": {},
   "outputs": [
    {
     "name": "stdout",
     "output_type": "stream",
     "text": [
      "hello python\n",
      "hello python\n",
      "hello python\n"
     ]
    },
    {
     "data": {
      "text/plain": [
       "300"
      ]
     },
     "execution_count": 18,
     "metadata": {},
     "output_type": "execute_result"
    }
   ],
   "source": [
    "print(sum())\n",
    "print(sum())\n",
    "print(sum())\n",
    "sum_of_two()"
   ]
  },
  {
   "cell_type": "code",
   "execution_count": 21,
   "id": "75538ade",
   "metadata": {},
   "outputs": [],
   "source": [
    "def sum_of_given_nums(a,b):   # a & b are arguments\n",
    "    print('a -',a)\n",
    "    print('b -',b)\n",
    "    c = a+b\n",
    "    return c"
   ]
  },
  {
   "cell_type": "code",
   "execution_count": 22,
   "id": "62b10c95",
   "metadata": {},
   "outputs": [
    {
     "name": "stdout",
     "output_type": "stream",
     "text": [
      "a - 1\n",
      "b - 2\n"
     ]
    },
    {
     "data": {
      "text/plain": [
       "3"
      ]
     },
     "execution_count": 22,
     "metadata": {},
     "output_type": "execute_result"
    }
   ],
   "source": [
    "sum_of_given_nums(1,2)"
   ]
  },
  {
   "cell_type": "code",
   "execution_count": 23,
   "id": "d7195e49",
   "metadata": {},
   "outputs": [
    {
     "name": "stdout",
     "output_type": "stream",
     "text": [
      "a - 10\n",
      "b - 20\n"
     ]
    },
    {
     "data": {
      "text/plain": [
       "30"
      ]
     },
     "execution_count": 23,
     "metadata": {},
     "output_type": "execute_result"
    }
   ],
   "source": [
    "sum_of_given_nums(10,20)"
   ]
  },
  {
   "cell_type": "code",
   "execution_count": 24,
   "id": "24a479e2",
   "metadata": {},
   "outputs": [
    {
     "name": "stdout",
     "output_type": "stream",
     "text": [
      "a - -10\n",
      "b - 20\n"
     ]
    },
    {
     "data": {
      "text/plain": [
       "10"
      ]
     },
     "execution_count": 24,
     "metadata": {},
     "output_type": "execute_result"
    }
   ],
   "source": [
    "sum_of_given_nums(-10,20)"
   ]
  },
  {
   "cell_type": "code",
   "execution_count": 28,
   "id": "43e8a03a",
   "metadata": {},
   "outputs": [],
   "source": [
    "def sample_sum(a,b):   # a & b are arguments\n",
    "    return a+b"
   ]
  },
  {
   "cell_type": "code",
   "execution_count": 26,
   "id": "e038ea69",
   "metadata": {},
   "outputs": [
    {
     "data": {
      "text/plain": [
       "3"
      ]
     },
     "execution_count": 26,
     "metadata": {},
     "output_type": "execute_result"
    }
   ],
   "source": [
    "sample_sum(1,2)"
   ]
  },
  {
   "cell_type": "code",
   "execution_count": 27,
   "id": "cc582ddd",
   "metadata": {},
   "outputs": [
    {
     "data": {
      "text/plain": [
       "10"
      ]
     },
     "execution_count": 27,
     "metadata": {},
     "output_type": "execute_result"
    }
   ],
   "source": [
    "sample_sum(-10,20)"
   ]
  },
  {
   "cell_type": "code",
   "execution_count": 29,
   "id": "33150465",
   "metadata": {},
   "outputs": [],
   "source": [
    "def to_upper(name):\n",
    "    return name.upper()\n"
   ]
  },
  {
   "cell_type": "code",
   "execution_count": 30,
   "id": "099ad6b6",
   "metadata": {},
   "outputs": [
    {
     "data": {
      "text/plain": [
       "'MOHAN'"
      ]
     },
     "execution_count": 30,
     "metadata": {},
     "output_type": "execute_result"
    }
   ],
   "source": [
    "to_upper('mohan')  # mohan - perameters"
   ]
  },
  {
   "cell_type": "code",
   "execution_count": 31,
   "id": "323802e7",
   "metadata": {},
   "outputs": [
    {
     "data": {
      "text/plain": [
       "'VENKY'"
      ]
     },
     "execution_count": 31,
     "metadata": {},
     "output_type": "execute_result"
    }
   ],
   "source": [
    "to_upper('venky')"
   ]
  },
  {
   "cell_type": "code",
   "execution_count": 37,
   "id": "3ed74ae1",
   "metadata": {},
   "outputs": [],
   "source": [
    "def multiply(a,b,c):\n",
    "    res = sample_sum(a,b)\n",
    "    print('res -',res)\n",
    "    final_value = c * res\n",
    "    print('final value-',final_value)\n",
    "    return final_value\n",
    "\n",
    "  "
   ]
  },
  {
   "cell_type": "code",
   "execution_count": 38,
   "id": "fa21ea56",
   "metadata": {},
   "outputs": [
    {
     "name": "stdout",
     "output_type": "stream",
     "text": [
      "res - 30\n",
      "final value- 900\n"
     ]
    },
    {
     "data": {
      "text/plain": [
       "900"
      ]
     },
     "execution_count": 38,
     "metadata": {},
     "output_type": "execute_result"
    }
   ],
   "source": [
    "multiply(10,20,30) # 10+20 -> 30 * 30"
   ]
  },
  {
   "cell_type": "code",
   "execution_count": 39,
   "id": "086aa6f8",
   "metadata": {},
   "outputs": [],
   "source": [
    "def to_upper(name):\n",
    "    return name.upper()"
   ]
  },
  {
   "cell_type": "code",
   "execution_count": 40,
   "id": "03597da3",
   "metadata": {},
   "outputs": [
    {
     "ename": "TypeError",
     "evalue": "to_upper() takes 1 positional argument but 2 were given",
     "output_type": "error",
     "traceback": [
      "\u001b[1;31m---------------------------------------------------------------------------\u001b[0m",
      "\u001b[1;31mTypeError\u001b[0m                                 Traceback (most recent call last)",
      "Input \u001b[1;32mIn [40]\u001b[0m, in \u001b[0;36m<module>\u001b[1;34m\u001b[0m\n\u001b[1;32m----> 1\u001b[0m \u001b[43mto_upper\u001b[49m\u001b[43m(\u001b[49m\u001b[38;5;124;43m'\u001b[39;49m\u001b[38;5;124;43mvenkat\u001b[39;49m\u001b[38;5;124;43m'\u001b[39;49m\u001b[43m,\u001b[49m\u001b[38;5;124;43m'\u001b[39;49m\u001b[38;5;124;43mravi\u001b[39;49m\u001b[38;5;124;43m'\u001b[39;49m\u001b[43m)\u001b[49m\n",
      "\u001b[1;31mTypeError\u001b[0m: to_upper() takes 1 positional argument but 2 were given"
     ]
    }
   ],
   "source": [
    "to_upper('venkat','ravi')"
   ]
  },
  {
   "cell_type": "code",
   "execution_count": 41,
   "id": "66461725",
   "metadata": {},
   "outputs": [
    {
     "ename": "TypeError",
     "evalue": "to_upper() missing 1 required positional argument: 'name'",
     "output_type": "error",
     "traceback": [
      "\u001b[1;31m---------------------------------------------------------------------------\u001b[0m",
      "\u001b[1;31mTypeError\u001b[0m                                 Traceback (most recent call last)",
      "Input \u001b[1;32mIn [41]\u001b[0m, in \u001b[0;36m<module>\u001b[1;34m\u001b[0m\n\u001b[1;32m----> 1\u001b[0m \u001b[43mto_upper\u001b[49m\u001b[43m(\u001b[49m\u001b[43m)\u001b[49m\n",
      "\u001b[1;31mTypeError\u001b[0m: to_upper() missing 1 required positional argument: 'name'"
     ]
    }
   ],
   "source": [
    "to_upper()"
   ]
  },
  {
   "cell_type": "code",
   "execution_count": null,
   "id": "0b19011c",
   "metadata": {},
   "outputs": [],
   "source": []
  }
 ],
 "metadata": {
  "kernelspec": {
   "display_name": "Python 3 (ipykernel)",
   "language": "python",
   "name": "python3"
  },
  "language_info": {
   "codemirror_mode": {
    "name": "ipython",
    "version": 3
   },
   "file_extension": ".py",
   "mimetype": "text/x-python",
   "name": "python",
   "nbconvert_exporter": "python",
   "pygments_lexer": "ipython3",
   "version": "3.8.3"
  }
 },
 "nbformat": 4,
 "nbformat_minor": 5
}
