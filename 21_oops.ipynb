{
 "cells": [
  {
   "cell_type": "code",
   "execution_count": null,
   "id": "02d1a531",
   "metadata": {},
   "outputs": [],
   "source": [
    "\"\"\" Class - collection of variables and methods \"\"\""
   ]
  },
  {
   "cell_type": "code",
   "execution_count": null,
   "id": "c0108a74",
   "metadata": {},
   "outputs": [],
   "source": [
    "\"\"\" Object - Blue print of a class \"\"\""
   ]
  },
  {
   "cell_type": "code",
   "execution_count": 1,
   "id": "f2a88bbf",
   "metadata": {},
   "outputs": [],
   "source": [
    "class Car:\n",
    "    pass"
   ]
  },
  {
   "cell_type": "code",
   "execution_count": 2,
   "id": "80fadef5",
   "metadata": {},
   "outputs": [],
   "source": [
    "bmw = Car()"
   ]
  },
  {
   "cell_type": "code",
   "execution_count": 3,
   "id": "e1a50543",
   "metadata": {},
   "outputs": [
    {
     "name": "stdout",
     "output_type": "stream",
     "text": [
      "<__main__.Car object at 0x00000213BAC8B820>\n"
     ]
    }
   ],
   "source": [
    "print(bmw)"
   ]
  },
  {
   "cell_type": "code",
   "execution_count": 4,
   "id": "56a9b25f",
   "metadata": {},
   "outputs": [],
   "source": [
    "audi = Car()"
   ]
  },
  {
   "cell_type": "code",
   "execution_count": 5,
   "id": "5ec5aee4",
   "metadata": {},
   "outputs": [
    {
     "data": {
      "text/plain": [
       "<__main__.Car at 0x213bac76d00>"
      ]
     },
     "execution_count": 5,
     "metadata": {},
     "output_type": "execute_result"
    }
   ],
   "source": [
    "audi"
   ]
  },
  {
   "cell_type": "code",
   "execution_count": 6,
   "id": "61330e19",
   "metadata": {},
   "outputs": [],
   "source": [
    "class Car:\n",
    "    price = 100000 "
   ]
  },
  {
   "cell_type": "code",
   "execution_count": 7,
   "id": "a39e781a",
   "metadata": {},
   "outputs": [],
   "source": [
    "audi = Car()"
   ]
  },
  {
   "cell_type": "code",
   "execution_count": 8,
   "id": "b7e09a98",
   "metadata": {},
   "outputs": [
    {
     "data": {
      "text/plain": [
       "100000"
      ]
     },
     "execution_count": 8,
     "metadata": {},
     "output_type": "execute_result"
    }
   ],
   "source": [
    "audi.price"
   ]
  },
  {
   "cell_type": "code",
   "execution_count": 9,
   "id": "e7cb3dc7",
   "metadata": {},
   "outputs": [],
   "source": [
    "bmw = Car()"
   ]
  },
  {
   "cell_type": "code",
   "execution_count": 10,
   "id": "8ad05fe4",
   "metadata": {},
   "outputs": [
    {
     "data": {
      "text/plain": [
       "100000"
      ]
     },
     "execution_count": 10,
     "metadata": {},
     "output_type": "execute_result"
    }
   ],
   "source": [
    "bmw.price"
   ]
  },
  {
   "cell_type": "code",
   "execution_count": null,
   "id": "a8a3b8b8",
   "metadata": {},
   "outputs": [],
   "source": [
    "# Constuctor (__init__) -> it onvokes automatically and allocate memory to varibales when the object is created"
   ]
  },
  {
   "cell_type": "code",
   "execution_count": 11,
   "id": "4cd9e307",
   "metadata": {},
   "outputs": [],
   "source": [
    "class Person:\n",
    "    def __init__(self,first_name,last_name):\n",
    "        self.fname = first_name\n",
    "        self.lname = last_name\n",
    "        "
   ]
  },
  {
   "cell_type": "code",
   "execution_count": 12,
   "id": "699d25fb",
   "metadata": {},
   "outputs": [],
   "source": [
    "obj1 = Person('mohan','pemmadi')"
   ]
  },
  {
   "cell_type": "code",
   "execution_count": 13,
   "id": "fef97355",
   "metadata": {},
   "outputs": [
    {
     "data": {
      "text/plain": [
       "'mohan'"
      ]
     },
     "execution_count": 13,
     "metadata": {},
     "output_type": "execute_result"
    }
   ],
   "source": [
    "obj1.fname"
   ]
  },
  {
   "cell_type": "code",
   "execution_count": 14,
   "id": "5219617b",
   "metadata": {},
   "outputs": [
    {
     "data": {
      "text/plain": [
       "'pemmadi'"
      ]
     },
     "execution_count": 14,
     "metadata": {},
     "output_type": "execute_result"
    }
   ],
   "source": [
    "obj1.lname"
   ]
  },
  {
   "cell_type": "code",
   "execution_count": 15,
   "id": "cceaa698",
   "metadata": {},
   "outputs": [],
   "source": [
    "obj2 = Person('abc','xyz')"
   ]
  },
  {
   "cell_type": "code",
   "execution_count": 16,
   "id": "a36ecb96",
   "metadata": {},
   "outputs": [
    {
     "data": {
      "text/plain": [
       "'abc'"
      ]
     },
     "execution_count": 16,
     "metadata": {},
     "output_type": "execute_result"
    }
   ],
   "source": [
    "obj2.fname"
   ]
  },
  {
   "cell_type": "code",
   "execution_count": 17,
   "id": "af109abb",
   "metadata": {},
   "outputs": [
    {
     "data": {
      "text/plain": [
       "'xyz'"
      ]
     },
     "execution_count": 17,
     "metadata": {},
     "output_type": "execute_result"
    }
   ],
   "source": [
    "obj2.lname"
   ]
  },
  {
   "cell_type": "code",
   "execution_count": 18,
   "id": "f5e2cc5d",
   "metadata": {},
   "outputs": [],
   "source": [
    "class Person:\n",
    "    def __init__(self,first_name,last_name):\n",
    "        print('init called')\n",
    "        self.fname = first_name\n",
    "        self.lname = last_name\n",
    "        print('self',self)\n",
    "    def get_email(self):\n",
    "        return self.fname + '.' + self.lname +'@gmail.com'\n",
    "    "
   ]
  },
  {
   "cell_type": "code",
   "execution_count": 19,
   "id": "aaa06ad2",
   "metadata": {},
   "outputs": [
    {
     "name": "stdout",
     "output_type": "stream",
     "text": [
      "init called\n",
      "self <__main__.Person object at 0x00000213BAC8B7C0>\n"
     ]
    }
   ],
   "source": [
    "mp = Person('mohan','pemmadi')"
   ]
  },
  {
   "cell_type": "code",
   "execution_count": 21,
   "id": "d576ee9f",
   "metadata": {},
   "outputs": [
    {
     "name": "stdout",
     "output_type": "stream",
     "text": [
      "<__main__.Person object at 0x00000213BAC8B7C0>\n"
     ]
    }
   ],
   "source": [
    "print(mp)"
   ]
  },
  {
   "cell_type": "code",
   "execution_count": 22,
   "id": "112299f5",
   "metadata": {},
   "outputs": [
    {
     "name": "stdout",
     "output_type": "stream",
     "text": [
      "init called\n",
      "self <__main__.Person object at 0x00000213BAC81940>\n"
     ]
    }
   ],
   "source": [
    "vj = Person('vasu','jonna')"
   ]
  },
  {
   "cell_type": "code",
   "execution_count": 23,
   "id": "768dcea5",
   "metadata": {},
   "outputs": [
    {
     "data": {
      "text/plain": [
       "'mohan'"
      ]
     },
     "execution_count": 23,
     "metadata": {},
     "output_type": "execute_result"
    }
   ],
   "source": [
    "mp.fname"
   ]
  },
  {
   "cell_type": "code",
   "execution_count": 24,
   "id": "6e902d0b",
   "metadata": {},
   "outputs": [
    {
     "data": {
      "text/plain": [
       "'pemmadi'"
      ]
     },
     "execution_count": 24,
     "metadata": {},
     "output_type": "execute_result"
    }
   ],
   "source": [
    "mp.lname"
   ]
  },
  {
   "cell_type": "code",
   "execution_count": 25,
   "id": "23db1ed8",
   "metadata": {},
   "outputs": [
    {
     "data": {
      "text/plain": [
       "'vasu'"
      ]
     },
     "execution_count": 25,
     "metadata": {},
     "output_type": "execute_result"
    }
   ],
   "source": [
    "vj.fname"
   ]
  },
  {
   "cell_type": "code",
   "execution_count": 26,
   "id": "7af3cd20",
   "metadata": {},
   "outputs": [
    {
     "data": {
      "text/plain": [
       "'jonna'"
      ]
     },
     "execution_count": 26,
     "metadata": {},
     "output_type": "execute_result"
    }
   ],
   "source": [
    "vj.lname"
   ]
  },
  {
   "cell_type": "code",
   "execution_count": 27,
   "id": "465a3257",
   "metadata": {},
   "outputs": [
    {
     "data": {
      "text/plain": [
       "'mohan.pemmadi@gmail.com'"
      ]
     },
     "execution_count": 27,
     "metadata": {},
     "output_type": "execute_result"
    }
   ],
   "source": [
    "mp.get_email()"
   ]
  },
  {
   "cell_type": "code",
   "execution_count": 28,
   "id": "eb4d9b12",
   "metadata": {},
   "outputs": [
    {
     "data": {
      "text/plain": [
       "'vasu.jonna@gmail.com'"
      ]
     },
     "execution_count": 28,
     "metadata": {},
     "output_type": "execute_result"
    }
   ],
   "source": [
    "vj.get_email()"
   ]
  },
  {
   "cell_type": "code",
   "execution_count": 31,
   "id": "9a32abc0",
   "metadata": {},
   "outputs": [],
   "source": [
    "class Person:\n",
    "    def __init__(self,first_name,last_name):\n",
    "        print('init called')\n",
    "        fname = first_name\n",
    "        lname = last_name\n",
    "        print('self',self)\n",
    "    def get_email(self):\n",
    "        return fname + '.' + lname +'@gmail.com'"
   ]
  },
  {
   "cell_type": "code",
   "execution_count": 32,
   "id": "999dc382",
   "metadata": {},
   "outputs": [
    {
     "name": "stdout",
     "output_type": "stream",
     "text": [
      "init called\n",
      "self <__main__.Person object at 0x00000213BAC81100>\n"
     ]
    }
   ],
   "source": [
    "obj = Person('abc','xyz')"
   ]
  },
  {
   "cell_type": "code",
   "execution_count": 33,
   "id": "f4b99df5",
   "metadata": {},
   "outputs": [
    {
     "ename": "NameError",
     "evalue": "name 'fname' is not defined",
     "output_type": "error",
     "traceback": [
      "\u001b[1;31m---------------------------------------------------------------------------\u001b[0m",
      "\u001b[1;31mNameError\u001b[0m                                 Traceback (most recent call last)",
      "Input \u001b[1;32mIn [33]\u001b[0m, in \u001b[0;36m<module>\u001b[1;34m\u001b[0m\n\u001b[1;32m----> 1\u001b[0m \u001b[43mobj\u001b[49m\u001b[38;5;241;43m.\u001b[39;49m\u001b[43mget_email\u001b[49m\u001b[43m(\u001b[49m\u001b[43m)\u001b[49m\n",
      "Input \u001b[1;32mIn [31]\u001b[0m, in \u001b[0;36mPerson.get_email\u001b[1;34m(self)\u001b[0m\n\u001b[0;32m      7\u001b[0m \u001b[38;5;28;01mdef\u001b[39;00m \u001b[38;5;21mget_email\u001b[39m(\u001b[38;5;28mself\u001b[39m):\n\u001b[1;32m----> 8\u001b[0m     \u001b[38;5;28;01mreturn\u001b[39;00m \u001b[43mfname\u001b[49m \u001b[38;5;241m+\u001b[39m \u001b[38;5;124m'\u001b[39m\u001b[38;5;124m.\u001b[39m\u001b[38;5;124m'\u001b[39m \u001b[38;5;241m+\u001b[39m lname \u001b[38;5;241m+\u001b[39m\u001b[38;5;124m'\u001b[39m\u001b[38;5;124m@gmail.com\u001b[39m\u001b[38;5;124m'\u001b[39m\n",
      "\u001b[1;31mNameError\u001b[0m: name 'fname' is not defined"
     ]
    }
   ],
   "source": [
    "obj.get_email()"
   ]
  },
  {
   "cell_type": "code",
   "execution_count": null,
   "id": "5f1eff48",
   "metadata": {},
   "outputs": [],
   "source": []
  }
 ],
 "metadata": {
  "kernelspec": {
   "display_name": "Python 3 (ipykernel)",
   "language": "python",
   "name": "python3"
  },
  "language_info": {
   "codemirror_mode": {
    "name": "ipython",
    "version": 3
   },
   "file_extension": ".py",
   "mimetype": "text/x-python",
   "name": "python",
   "nbconvert_exporter": "python",
   "pygments_lexer": "ipython3",
   "version": "3.8.3"
  }
 },
 "nbformat": 4,
 "nbformat_minor": 5
}
