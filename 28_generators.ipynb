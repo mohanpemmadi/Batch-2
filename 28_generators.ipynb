{
 "cells": [
  {
   "cell_type": "markdown",
   "id": "53210669",
   "metadata": {},
   "source": [
    "# A generator is a function that returns an generator object which we can iterate over.Generator function contains yield keyword instead of return"
   ]
  },
  {
   "cell_type": "code",
   "execution_count": 2,
   "id": "7f360f52",
   "metadata": {},
   "outputs": [],
   "source": [
    "def fun():\n",
    "    return "
   ]
  },
  {
   "cell_type": "code",
   "execution_count": 3,
   "id": "08c82b75",
   "metadata": {},
   "outputs": [],
   "source": [
    "def gen():\n",
    "    yield"
   ]
  },
  {
   "cell_type": "code",
   "execution_count": 7,
   "id": "8823edac",
   "metadata": {},
   "outputs": [],
   "source": [
    "f = fun()"
   ]
  },
  {
   "cell_type": "code",
   "execution_count": 8,
   "id": "83c58364",
   "metadata": {},
   "outputs": [],
   "source": [
    "g = gen()"
   ]
  },
  {
   "cell_type": "code",
   "execution_count": 9,
   "id": "83717526",
   "metadata": {},
   "outputs": [],
   "source": [
    "f"
   ]
  },
  {
   "cell_type": "code",
   "execution_count": 10,
   "id": "8dc45b31",
   "metadata": {},
   "outputs": [
    {
     "data": {
      "text/plain": [
       "<generator object gen at 0x0000026E175FEF20>"
      ]
     },
     "execution_count": 10,
     "metadata": {},
     "output_type": "execute_result"
    }
   ],
   "source": [
    "g"
   ]
  },
  {
   "cell_type": "code",
   "execution_count": 23,
   "id": "a351e268",
   "metadata": {},
   "outputs": [],
   "source": [
    "def demo():\n",
    "    for i in [1,2,3,4,5]:\n",
    "        return i + 10"
   ]
  },
  {
   "cell_type": "code",
   "execution_count": 24,
   "id": "2db4e158",
   "metadata": {},
   "outputs": [
    {
     "data": {
      "text/plain": [
       "11"
      ]
     },
     "execution_count": 24,
     "metadata": {},
     "output_type": "execute_result"
    }
   ],
   "source": [
    "demo()"
   ]
  },
  {
   "cell_type": "code",
   "execution_count": 25,
   "id": "18972e92",
   "metadata": {},
   "outputs": [],
   "source": [
    "def gen_demo():\n",
    "    for i in [1,2,3,4,5]:\n",
    "        yield i + 10\n",
    "    yield 'mohan'\n",
    "    yield True\n",
    "    yield 'Done'"
   ]
  },
  {
   "cell_type": "code",
   "execution_count": 26,
   "id": "833cd808",
   "metadata": {},
   "outputs": [],
   "source": [
    "g = gen_demo()"
   ]
  },
  {
   "cell_type": "code",
   "execution_count": 27,
   "id": "574fce0d",
   "metadata": {},
   "outputs": [
    {
     "data": {
      "text/plain": [
       "<generator object gen_demo at 0x0000026E1762ECF0>"
      ]
     },
     "execution_count": 27,
     "metadata": {},
     "output_type": "execute_result"
    }
   ],
   "source": [
    "g"
   ]
  },
  {
   "cell_type": "code",
   "execution_count": 28,
   "id": "d368fa9f",
   "metadata": {},
   "outputs": [
    {
     "name": "stdout",
     "output_type": "stream",
     "text": [
      "11\n",
      "12\n",
      "13\n",
      "14\n",
      "15\n",
      "mohan\n",
      "True\n",
      "Done\n"
     ]
    }
   ],
   "source": [
    "for i in g:\n",
    "    print(i)"
   ]
  },
  {
   "cell_type": "code",
   "execution_count": 29,
   "id": "59b86adb",
   "metadata": {},
   "outputs": [],
   "source": [
    "def gen_dem():\n",
    "    for i in [1,2,3,4,5]:\n",
    "        yield i*i"
   ]
  },
  {
   "cell_type": "code",
   "execution_count": 30,
   "id": "44052eaf",
   "metadata": {},
   "outputs": [],
   "source": [
    "gen = gen_dem()"
   ]
  },
  {
   "cell_type": "code",
   "execution_count": 31,
   "id": "2cf9a8f0",
   "metadata": {},
   "outputs": [
    {
     "data": {
      "text/plain": [
       "<generator object gen_dem at 0x0000026E17639890>"
      ]
     },
     "execution_count": 31,
     "metadata": {},
     "output_type": "execute_result"
    }
   ],
   "source": [
    "gen"
   ]
  },
  {
   "cell_type": "code",
   "execution_count": 32,
   "id": "0e187f9a",
   "metadata": {},
   "outputs": [
    {
     "data": {
      "text/plain": [
       "1"
      ]
     },
     "execution_count": 32,
     "metadata": {},
     "output_type": "execute_result"
    }
   ],
   "source": [
    "next(gen)"
   ]
  },
  {
   "cell_type": "code",
   "execution_count": 33,
   "id": "230131af",
   "metadata": {},
   "outputs": [
    {
     "data": {
      "text/plain": [
       "4"
      ]
     },
     "execution_count": 33,
     "metadata": {},
     "output_type": "execute_result"
    }
   ],
   "source": [
    "next(gen)"
   ]
  },
  {
   "cell_type": "code",
   "execution_count": 34,
   "id": "e28f7686",
   "metadata": {},
   "outputs": [
    {
     "data": {
      "text/plain": [
       "9"
      ]
     },
     "execution_count": 34,
     "metadata": {},
     "output_type": "execute_result"
    }
   ],
   "source": [
    "next(gen)"
   ]
  },
  {
   "cell_type": "code",
   "execution_count": 35,
   "id": "c2359bba",
   "metadata": {},
   "outputs": [
    {
     "data": {
      "text/plain": [
       "16"
      ]
     },
     "execution_count": 35,
     "metadata": {},
     "output_type": "execute_result"
    }
   ],
   "source": [
    "next(gen)"
   ]
  },
  {
   "cell_type": "code",
   "execution_count": 36,
   "id": "096e339e",
   "metadata": {},
   "outputs": [
    {
     "data": {
      "text/plain": [
       "25"
      ]
     },
     "execution_count": 36,
     "metadata": {},
     "output_type": "execute_result"
    }
   ],
   "source": [
    "next(gen)"
   ]
  },
  {
   "cell_type": "code",
   "execution_count": 37,
   "id": "e19c373a",
   "metadata": {},
   "outputs": [
    {
     "ename": "StopIteration",
     "evalue": "",
     "output_type": "error",
     "traceback": [
      "\u001b[1;31m---------------------------------------------------------------------------\u001b[0m",
      "\u001b[1;31mStopIteration\u001b[0m                             Traceback (most recent call last)",
      "Input \u001b[1;32mIn [37]\u001b[0m, in \u001b[0;36m<module>\u001b[1;34m\u001b[0m\n\u001b[1;32m----> 1\u001b[0m \u001b[38;5;28;43mnext\u001b[39;49m\u001b[43m(\u001b[49m\u001b[43mgen\u001b[49m\u001b[43m)\u001b[49m\n",
      "\u001b[1;31mStopIteration\u001b[0m: "
     ]
    }
   ],
   "source": [
    "next(gen)"
   ]
  },
  {
   "cell_type": "code",
   "execution_count": null,
   "id": "4010ec55",
   "metadata": {},
   "outputs": [],
   "source": []
  }
 ],
 "metadata": {
  "kernelspec": {
   "display_name": "Python 3 (ipykernel)",
   "language": "python",
   "name": "python3"
  },
  "language_info": {
   "codemirror_mode": {
    "name": "ipython",
    "version": 3
   },
   "file_extension": ".py",
   "mimetype": "text/x-python",
   "name": "python",
   "nbconvert_exporter": "python",
   "pygments_lexer": "ipython3",
   "version": "3.8.3"
  }
 },
 "nbformat": 4,
 "nbformat_minor": 5
}
