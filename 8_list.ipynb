{
 "cells": [
  {
   "cell_type": "code",
   "execution_count": 6,
   "id": "bd29a05e",
   "metadata": {},
   "outputs": [
    {
     "data": {
      "text/plain": [
       "'\\nList - list is a collection of ordered elements and it is a mutable object\\n\\n'"
      ]
     },
     "execution_count": 6,
     "metadata": {},
     "output_type": "execute_result"
    }
   ],
   "source": [
    "\"\"\"\n",
    "List - list is a collection of ordered elements and it is a mutable object\n",
    "\n",
    "\"\"\"\n",
    "\n",
    "# mutable object -> we can apply crud operations \n",
    "#crud - create,read,update and delete"
   ]
  },
  {
   "cell_type": "code",
   "execution_count": 7,
   "id": "4049310c",
   "metadata": {},
   "outputs": [],
   "source": [
    "lst = []"
   ]
  },
  {
   "cell_type": "code",
   "execution_count": 2,
   "id": "316086e2",
   "metadata": {},
   "outputs": [
    {
     "data": {
      "text/plain": [
       "list"
      ]
     },
     "execution_count": 2,
     "metadata": {},
     "output_type": "execute_result"
    }
   ],
   "source": [
    "type(lst)"
   ]
  },
  {
   "cell_type": "code",
   "execution_count": 4,
   "id": "21b8dbf8",
   "metadata": {},
   "outputs": [],
   "source": [
    "lst1 = list()"
   ]
  },
  {
   "cell_type": "code",
   "execution_count": 5,
   "id": "679fc150",
   "metadata": {},
   "outputs": [
    {
     "data": {
      "text/plain": [
       "list"
      ]
     },
     "execution_count": 5,
     "metadata": {},
     "output_type": "execute_result"
    }
   ],
   "source": [
    "type(lst1)"
   ]
  },
  {
   "cell_type": "code",
   "execution_count": 10,
   "id": "fa316283",
   "metadata": {},
   "outputs": [],
   "source": [
    "lst = [100,'mohan',200,123.45,'python',300]"
   ]
  },
  {
   "cell_type": "code",
   "execution_count": 12,
   "id": "2003327e",
   "metadata": {},
   "outputs": [
    {
     "data": {
      "text/plain": [
       "[100, 'mohan', 200, 123.45, 'python', 300]"
      ]
     },
     "execution_count": 12,
     "metadata": {},
     "output_type": "execute_result"
    }
   ],
   "source": [
    "lst"
   ]
  },
  {
   "cell_type": "code",
   "execution_count": 11,
   "id": "5f5b3eaa",
   "metadata": {},
   "outputs": [
    {
     "data": {
      "text/plain": [
       "100"
      ]
     },
     "execution_count": 11,
     "metadata": {},
     "output_type": "execute_result"
    }
   ],
   "source": [
    "lst[0]"
   ]
  },
  {
   "cell_type": "code",
   "execution_count": 13,
   "id": "29be05b1",
   "metadata": {},
   "outputs": [
    {
     "data": {
      "text/plain": [
       "'mohan'"
      ]
     },
     "execution_count": 13,
     "metadata": {},
     "output_type": "execute_result"
    }
   ],
   "source": [
    "lst[1]"
   ]
  },
  {
   "cell_type": "code",
   "execution_count": 14,
   "id": "644b8996",
   "metadata": {},
   "outputs": [
    {
     "data": {
      "text/plain": [
       "300"
      ]
     },
     "execution_count": 14,
     "metadata": {},
     "output_type": "execute_result"
    }
   ],
   "source": [
    "lst[-1]"
   ]
  },
  {
   "cell_type": "code",
   "execution_count": 15,
   "id": "1fb8f025",
   "metadata": {},
   "outputs": [
    {
     "data": {
      "text/plain": [
       "[200, 123.45, 'python']"
      ]
     },
     "execution_count": 15,
     "metadata": {},
     "output_type": "execute_result"
    }
   ],
   "source": [
    "lst[2:5]"
   ]
  },
  {
   "cell_type": "code",
   "execution_count": 16,
   "id": "85c29282",
   "metadata": {},
   "outputs": [
    {
     "data": {
      "text/plain": [
       "100"
      ]
     },
     "execution_count": 16,
     "metadata": {},
     "output_type": "execute_result"
    }
   ],
   "source": [
    "lst[0]"
   ]
  },
  {
   "cell_type": "code",
   "execution_count": 17,
   "id": "6d6060c3",
   "metadata": {},
   "outputs": [],
   "source": [
    "lst[0] = 999"
   ]
  },
  {
   "cell_type": "code",
   "execution_count": 18,
   "id": "fb832d3a",
   "metadata": {},
   "outputs": [
    {
     "data": {
      "text/plain": [
       "[999, 'mohan', 200, 123.45, 'python', 300]"
      ]
     },
     "execution_count": 18,
     "metadata": {},
     "output_type": "execute_result"
    }
   ],
   "source": [
    "lst"
   ]
  },
  {
   "cell_type": "code",
   "execution_count": 22,
   "id": "0cc575b5",
   "metadata": {},
   "outputs": [],
   "source": [
    "lst.append(777)"
   ]
  },
  {
   "cell_type": "code",
   "execution_count": 23,
   "id": "468cdf90",
   "metadata": {},
   "outputs": [
    {
     "data": {
      "text/plain": [
       "[999, 'mohan', 200, 123.45, 'python', 300, 777]"
      ]
     },
     "execution_count": 23,
     "metadata": {},
     "output_type": "execute_result"
    }
   ],
   "source": [
    "lst"
   ]
  },
  {
   "cell_type": "code",
   "execution_count": 25,
   "id": "437d529f",
   "metadata": {},
   "outputs": [],
   "source": [
    "# dir(lst)"
   ]
  },
  {
   "cell_type": "code",
   "execution_count": null,
   "id": "9811d73a",
   "metadata": {},
   "outputs": [],
   "source": [
    "#  'append',\n",
    "#  'clear',\n",
    "#  'copy',\n",
    "#  'count',\n",
    "#  'extend',\n",
    "#  'index',\n",
    "#  'insert',\n",
    "#  'pop',\n",
    "#  'remove',\n",
    "#  'reverse',\n",
    "#  'sort'"
   ]
  },
  {
   "cell_type": "code",
   "execution_count": 26,
   "id": "b4944990",
   "metadata": {},
   "outputs": [],
   "source": [
    "# append"
   ]
  },
  {
   "cell_type": "code",
   "execution_count": 27,
   "id": "acf6443d",
   "metadata": {},
   "outputs": [
    {
     "data": {
      "text/plain": [
       "[999, 'mohan', 200, 123.45, 'python', 300, 777]"
      ]
     },
     "execution_count": 27,
     "metadata": {},
     "output_type": "execute_result"
    }
   ],
   "source": [
    "lst"
   ]
  },
  {
   "cell_type": "code",
   "execution_count": 28,
   "id": "9ac328e5",
   "metadata": {},
   "outputs": [],
   "source": [
    "lst.append(111)"
   ]
  },
  {
   "cell_type": "code",
   "execution_count": 29,
   "id": "baaf6ea7",
   "metadata": {},
   "outputs": [
    {
     "data": {
      "text/plain": [
       "[999, 'mohan', 200, 123.45, 'python', 300, 777, 111]"
      ]
     },
     "execution_count": 29,
     "metadata": {},
     "output_type": "execute_result"
    }
   ],
   "source": [
    "lst"
   ]
  },
  {
   "cell_type": "code",
   "execution_count": 30,
   "id": "899035e9",
   "metadata": {},
   "outputs": [],
   "source": [
    "lst.append('abc')"
   ]
  },
  {
   "cell_type": "code",
   "execution_count": 31,
   "id": "27d77211",
   "metadata": {},
   "outputs": [
    {
     "data": {
      "text/plain": [
       "[999, 'mohan', 200, 123.45, 'python', 300, 777, 111, 'abc']"
      ]
     },
     "execution_count": 31,
     "metadata": {},
     "output_type": "execute_result"
    }
   ],
   "source": [
    "lst"
   ]
  },
  {
   "cell_type": "code",
   "execution_count": 32,
   "id": "c078ae1e",
   "metadata": {},
   "outputs": [],
   "source": [
    "# insert"
   ]
  },
  {
   "cell_type": "code",
   "execution_count": 33,
   "id": "d68740fc",
   "metadata": {},
   "outputs": [],
   "source": [
    "lst.insert(1,222)"
   ]
  },
  {
   "cell_type": "code",
   "execution_count": 34,
   "id": "cce4f358",
   "metadata": {},
   "outputs": [
    {
     "data": {
      "text/plain": [
       "[999, 222, 'mohan', 200, 123.45, 'python', 300, 777, 111, 'abc']"
      ]
     },
     "execution_count": 34,
     "metadata": {},
     "output_type": "execute_result"
    }
   ],
   "source": [
    "lst"
   ]
  },
  {
   "cell_type": "code",
   "execution_count": 35,
   "id": "d9a8f512",
   "metadata": {},
   "outputs": [],
   "source": [
    "# extend"
   ]
  },
  {
   "cell_type": "code",
   "execution_count": 36,
   "id": "7d4fc512",
   "metadata": {},
   "outputs": [],
   "source": [
    "lst.extend([33,22])"
   ]
  },
  {
   "cell_type": "code",
   "execution_count": 37,
   "id": "4e177263",
   "metadata": {},
   "outputs": [
    {
     "data": {
      "text/plain": [
       "[999, 222, 'mohan', 200, 123.45, 'python', 300, 777, 111, 'abc', 33, 22]"
      ]
     },
     "execution_count": 37,
     "metadata": {},
     "output_type": "execute_result"
    }
   ],
   "source": [
    "lst"
   ]
  },
  {
   "cell_type": "code",
   "execution_count": 38,
   "id": "42319bbe",
   "metadata": {},
   "outputs": [],
   "source": [
    "lst.append([33,22])"
   ]
  },
  {
   "cell_type": "code",
   "execution_count": 39,
   "id": "36061595",
   "metadata": {},
   "outputs": [
    {
     "data": {
      "text/plain": [
       "[999,\n",
       " 222,\n",
       " 'mohan',\n",
       " 200,\n",
       " 123.45,\n",
       " 'python',\n",
       " 300,\n",
       " 777,\n",
       " 111,\n",
       " 'abc',\n",
       " 33,\n",
       " 22,\n",
       " [33, 22]]"
      ]
     },
     "execution_count": 39,
     "metadata": {},
     "output_type": "execute_result"
    }
   ],
   "source": [
    "lst"
   ]
  },
  {
   "cell_type": "code",
   "execution_count": 40,
   "id": "deb58a56",
   "metadata": {},
   "outputs": [],
   "source": [
    "l = [100,200,'abc']"
   ]
  },
  {
   "cell_type": "code",
   "execution_count": 41,
   "id": "e37c5aec",
   "metadata": {},
   "outputs": [],
   "source": [
    "l.extend([1,2]) "
   ]
  },
  {
   "cell_type": "code",
   "execution_count": 42,
   "id": "cb902f97",
   "metadata": {},
   "outputs": [
    {
     "data": {
      "text/plain": [
       "[100, 200, 'abc', 1, 2]"
      ]
     },
     "execution_count": 42,
     "metadata": {},
     "output_type": "execute_result"
    }
   ],
   "source": [
    "l"
   ]
  },
  {
   "cell_type": "code",
   "execution_count": 43,
   "id": "24793014",
   "metadata": {},
   "outputs": [],
   "source": [
    "l.append([1,2])"
   ]
  },
  {
   "cell_type": "code",
   "execution_count": 44,
   "id": "cb668576",
   "metadata": {},
   "outputs": [
    {
     "data": {
      "text/plain": [
       "[100, 200, 'abc', 1, 2, [1, 2]]"
      ]
     },
     "execution_count": 44,
     "metadata": {},
     "output_type": "execute_result"
    }
   ],
   "source": [
    "l"
   ]
  },
  {
   "cell_type": "code",
   "execution_count": 45,
   "id": "594b931c",
   "metadata": {},
   "outputs": [
    {
     "data": {
      "text/plain": [
       "[100, 200, 'abc', 1, 2, [1, 2]]"
      ]
     },
     "execution_count": 45,
     "metadata": {},
     "output_type": "execute_result"
    }
   ],
   "source": [
    "l"
   ]
  },
  {
   "cell_type": "code",
   "execution_count": 46,
   "id": "e7e1ed52",
   "metadata": {},
   "outputs": [
    {
     "data": {
      "text/plain": [
       "[100, 200, 'abc', 1, 2, [1, 2], 22, 33]"
      ]
     },
     "execution_count": 46,
     "metadata": {},
     "output_type": "execute_result"
    }
   ],
   "source": [
    "l + [22,33]"
   ]
  },
  {
   "cell_type": "code",
   "execution_count": 47,
   "id": "6175cfff",
   "metadata": {},
   "outputs": [
    {
     "data": {
      "text/plain": [
       "[100, 200, 'abc', 1, 2, [1, 2]]"
      ]
     },
     "execution_count": 47,
     "metadata": {},
     "output_type": "execute_result"
    }
   ],
   "source": [
    "l"
   ]
  },
  {
   "cell_type": "code",
   "execution_count": 49,
   "id": "c02a66f4",
   "metadata": {},
   "outputs": [],
   "source": [
    "lst1 = [100,'mohan',100,200,'mohan',1,12.34,100]"
   ]
  },
  {
   "cell_type": "code",
   "execution_count": 50,
   "id": "3a16ae58",
   "metadata": {},
   "outputs": [],
   "source": [
    "# count"
   ]
  },
  {
   "cell_type": "code",
   "execution_count": 51,
   "id": "5dfd8047",
   "metadata": {},
   "outputs": [
    {
     "data": {
      "text/plain": [
       "3"
      ]
     },
     "execution_count": 51,
     "metadata": {},
     "output_type": "execute_result"
    }
   ],
   "source": [
    "lst1.count(100)"
   ]
  },
  {
   "cell_type": "code",
   "execution_count": 52,
   "id": "77526821",
   "metadata": {},
   "outputs": [
    {
     "data": {
      "text/plain": [
       "1"
      ]
     },
     "execution_count": 52,
     "metadata": {},
     "output_type": "execute_result"
    }
   ],
   "source": [
    "lst1.count(12.34)"
   ]
  },
  {
   "cell_type": "code",
   "execution_count": 53,
   "id": "ec1fb068",
   "metadata": {},
   "outputs": [],
   "source": [
    "# index"
   ]
  },
  {
   "cell_type": "code",
   "execution_count": 54,
   "id": "e622ccd1",
   "metadata": {},
   "outputs": [
    {
     "data": {
      "text/plain": [
       "3"
      ]
     },
     "execution_count": 54,
     "metadata": {},
     "output_type": "execute_result"
    }
   ],
   "source": [
    "lst1.index(200)"
   ]
  },
  {
   "cell_type": "code",
   "execution_count": 55,
   "id": "ea653908",
   "metadata": {},
   "outputs": [
    {
     "data": {
      "text/plain": [
       "5"
      ]
     },
     "execution_count": 55,
     "metadata": {},
     "output_type": "execute_result"
    }
   ],
   "source": [
    "lst1.index(1)"
   ]
  },
  {
   "cell_type": "code",
   "execution_count": 56,
   "id": "94ec5a96",
   "metadata": {},
   "outputs": [
    {
     "data": {
      "text/plain": [
       "0"
      ]
     },
     "execution_count": 56,
     "metadata": {},
     "output_type": "execute_result"
    }
   ],
   "source": [
    "lst1.index(100)"
   ]
  },
  {
   "cell_type": "code",
   "execution_count": 57,
   "id": "8745182e",
   "metadata": {},
   "outputs": [
    {
     "data": {
      "text/plain": [
       "1"
      ]
     },
     "execution_count": 57,
     "metadata": {},
     "output_type": "execute_result"
    }
   ],
   "source": [
    "lst1.index('mohan')"
   ]
  },
  {
   "cell_type": "code",
   "execution_count": 58,
   "id": "9e7247b3",
   "metadata": {},
   "outputs": [],
   "source": [
    "# pop"
   ]
  },
  {
   "cell_type": "code",
   "execution_count": 61,
   "id": "fcbc6178",
   "metadata": {},
   "outputs": [
    {
     "data": {
      "text/plain": [
       "[100, 'mohan', 100, 200, 'mohan', 1, 12.34]"
      ]
     },
     "execution_count": 61,
     "metadata": {},
     "output_type": "execute_result"
    }
   ],
   "source": [
    "lst1"
   ]
  },
  {
   "cell_type": "code",
   "execution_count": 60,
   "id": "64078462",
   "metadata": {},
   "outputs": [
    {
     "data": {
      "text/plain": [
       "100"
      ]
     },
     "execution_count": 60,
     "metadata": {},
     "output_type": "execute_result"
    }
   ],
   "source": [
    "lst1.pop()"
   ]
  },
  {
   "cell_type": "code",
   "execution_count": 62,
   "id": "6b59e7a7",
   "metadata": {},
   "outputs": [
    {
     "data": {
      "text/plain": [
       "[100, 'mohan', 100, 200, 'mohan', 1, 12.34]"
      ]
     },
     "execution_count": 62,
     "metadata": {},
     "output_type": "execute_result"
    }
   ],
   "source": [
    "lst1"
   ]
  },
  {
   "cell_type": "code",
   "execution_count": 63,
   "id": "9a461feb",
   "metadata": {},
   "outputs": [
    {
     "data": {
      "text/plain": [
       "12.34"
      ]
     },
     "execution_count": 63,
     "metadata": {},
     "output_type": "execute_result"
    }
   ],
   "source": [
    "lst1.pop()"
   ]
  },
  {
   "cell_type": "code",
   "execution_count": 64,
   "id": "61cf6f55",
   "metadata": {},
   "outputs": [
    {
     "data": {
      "text/plain": [
       "[100, 'mohan', 100, 200, 'mohan', 1]"
      ]
     },
     "execution_count": 64,
     "metadata": {},
     "output_type": "execute_result"
    }
   ],
   "source": [
    "lst1"
   ]
  },
  {
   "cell_type": "code",
   "execution_count": 65,
   "id": "6659ba0b",
   "metadata": {},
   "outputs": [
    {
     "data": {
      "text/plain": [
       "100"
      ]
     },
     "execution_count": 65,
     "metadata": {},
     "output_type": "execute_result"
    }
   ],
   "source": [
    "lst1.pop(0)"
   ]
  },
  {
   "cell_type": "code",
   "execution_count": 66,
   "id": "3960cffb",
   "metadata": {},
   "outputs": [
    {
     "data": {
      "text/plain": [
       "['mohan', 100, 200, 'mohan', 1]"
      ]
     },
     "execution_count": 66,
     "metadata": {},
     "output_type": "execute_result"
    }
   ],
   "source": [
    "lst1"
   ]
  },
  {
   "cell_type": "code",
   "execution_count": 67,
   "id": "8011ab4c",
   "metadata": {},
   "outputs": [
    {
     "data": {
      "text/plain": [
       "'mohan'"
      ]
     },
     "execution_count": 67,
     "metadata": {},
     "output_type": "execute_result"
    }
   ],
   "source": [
    "lst1.pop(3)"
   ]
  },
  {
   "cell_type": "code",
   "execution_count": 68,
   "id": "f7deb253",
   "metadata": {},
   "outputs": [
    {
     "data": {
      "text/plain": [
       "['mohan', 100, 200, 1]"
      ]
     },
     "execution_count": 68,
     "metadata": {},
     "output_type": "execute_result"
    }
   ],
   "source": [
    "lst1"
   ]
  },
  {
   "cell_type": "code",
   "execution_count": 69,
   "id": "a94e3ae9",
   "metadata": {},
   "outputs": [],
   "source": [
    "# remove"
   ]
  },
  {
   "cell_type": "code",
   "execution_count": 70,
   "id": "da7aba5a",
   "metadata": {},
   "outputs": [
    {
     "data": {
      "text/plain": [
       "['mohan', 100, 200, 1]"
      ]
     },
     "execution_count": 70,
     "metadata": {},
     "output_type": "execute_result"
    }
   ],
   "source": [
    "lst1"
   ]
  },
  {
   "cell_type": "code",
   "execution_count": 72,
   "id": "545f1727",
   "metadata": {},
   "outputs": [],
   "source": [
    "lst1.remove(200)"
   ]
  },
  {
   "cell_type": "code",
   "execution_count": 73,
   "id": "f05a7205",
   "metadata": {},
   "outputs": [
    {
     "data": {
      "text/plain": [
       "['mohan', 100, 1]"
      ]
     },
     "execution_count": 73,
     "metadata": {},
     "output_type": "execute_result"
    }
   ],
   "source": [
    "lst1"
   ]
  },
  {
   "cell_type": "code",
   "execution_count": 74,
   "id": "dfc4908a",
   "metadata": {},
   "outputs": [],
   "source": [
    "lst1.remove('mohan')"
   ]
  },
  {
   "cell_type": "code",
   "execution_count": 75,
   "id": "25018974",
   "metadata": {},
   "outputs": [
    {
     "data": {
      "text/plain": [
       "[100, 1]"
      ]
     },
     "execution_count": 75,
     "metadata": {},
     "output_type": "execute_result"
    }
   ],
   "source": [
    "lst1"
   ]
  },
  {
   "cell_type": "code",
   "execution_count": 76,
   "id": "89ee9d33",
   "metadata": {},
   "outputs": [],
   "source": [
    "lst = ['mohan',100,200,100,200,100,12.35]"
   ]
  },
  {
   "cell_type": "code",
   "execution_count": 77,
   "id": "19e09a27",
   "metadata": {},
   "outputs": [
    {
     "data": {
      "text/plain": [
       "['mohan', 100, 200, 100, 200, 100, 12.35]"
      ]
     },
     "execution_count": 77,
     "metadata": {},
     "output_type": "execute_result"
    }
   ],
   "source": [
    "lst"
   ]
  },
  {
   "cell_type": "code",
   "execution_count": 78,
   "id": "604cc3f6",
   "metadata": {},
   "outputs": [],
   "source": [
    "lst.remove(100)"
   ]
  },
  {
   "cell_type": "code",
   "execution_count": 79,
   "id": "578c89e0",
   "metadata": {},
   "outputs": [
    {
     "data": {
      "text/plain": [
       "['mohan', 200, 100, 200, 100, 12.35]"
      ]
     },
     "execution_count": 79,
     "metadata": {},
     "output_type": "execute_result"
    }
   ],
   "source": [
    "lst"
   ]
  },
  {
   "cell_type": "code",
   "execution_count": 82,
   "id": "dd5c3220",
   "metadata": {},
   "outputs": [],
   "source": [
    "# reverse"
   ]
  },
  {
   "cell_type": "code",
   "execution_count": 80,
   "id": "138d0c5e",
   "metadata": {},
   "outputs": [],
   "source": [
    "lst.reverse()"
   ]
  },
  {
   "cell_type": "code",
   "execution_count": 81,
   "id": "9aaa6231",
   "metadata": {},
   "outputs": [
    {
     "data": {
      "text/plain": [
       "[12.35, 100, 200, 100, 200, 'mohan']"
      ]
     },
     "execution_count": 81,
     "metadata": {},
     "output_type": "execute_result"
    }
   ],
   "source": [
    "lst"
   ]
  },
  {
   "cell_type": "code",
   "execution_count": 83,
   "id": "d2a4f06f",
   "metadata": {},
   "outputs": [],
   "source": [
    "# sort"
   ]
  },
  {
   "cell_type": "code",
   "execution_count": 84,
   "id": "7a266708",
   "metadata": {},
   "outputs": [
    {
     "ename": "TypeError",
     "evalue": "'<' not supported between instances of 'str' and 'int'",
     "output_type": "error",
     "traceback": [
      "\u001b[1;31m---------------------------------------------------------------------------\u001b[0m",
      "\u001b[1;31mTypeError\u001b[0m                                 Traceback (most recent call last)",
      "Input \u001b[1;32mIn [84]\u001b[0m, in \u001b[0;36m<module>\u001b[1;34m\u001b[0m\n\u001b[1;32m----> 1\u001b[0m \u001b[43mlst\u001b[49m\u001b[38;5;241;43m.\u001b[39;49m\u001b[43msort\u001b[49m\u001b[43m(\u001b[49m\u001b[43m)\u001b[49m\n",
      "\u001b[1;31mTypeError\u001b[0m: '<' not supported between instances of 'str' and 'int'"
     ]
    }
   ],
   "source": [
    "lst.sort()"
   ]
  },
  {
   "cell_type": "code",
   "execution_count": 85,
   "id": "97e69a34",
   "metadata": {},
   "outputs": [],
   "source": [
    "lst_int = [100,23,12.35,200]"
   ]
  },
  {
   "cell_type": "code",
   "execution_count": 86,
   "id": "e028e23a",
   "metadata": {},
   "outputs": [],
   "source": [
    "lst_int.sort()"
   ]
  },
  {
   "cell_type": "code",
   "execution_count": 87,
   "id": "09fc245c",
   "metadata": {},
   "outputs": [
    {
     "data": {
      "text/plain": [
       "[12.35, 23, 100, 200]"
      ]
     },
     "execution_count": 87,
     "metadata": {},
     "output_type": "execute_result"
    }
   ],
   "source": [
    "lst_int"
   ]
  },
  {
   "cell_type": "code",
   "execution_count": 88,
   "id": "1ab97c87",
   "metadata": {},
   "outputs": [],
   "source": [
    "lst_str = ['mohan','ravi','bhargav','venky','abc']"
   ]
  },
  {
   "cell_type": "code",
   "execution_count": 89,
   "id": "03667d70",
   "metadata": {},
   "outputs": [],
   "source": [
    "lst_str.sort()"
   ]
  },
  {
   "cell_type": "code",
   "execution_count": 90,
   "id": "726be7cd",
   "metadata": {},
   "outputs": [
    {
     "data": {
      "text/plain": [
       "['abc', 'bhargav', 'mohan', 'ravi', 'venky']"
      ]
     },
     "execution_count": 90,
     "metadata": {},
     "output_type": "execute_result"
    }
   ],
   "source": [
    "lst_str"
   ]
  },
  {
   "cell_type": "code",
   "execution_count": 93,
   "id": "904665c0",
   "metadata": {},
   "outputs": [],
   "source": [
    "lst_str.sort(reverse=False)"
   ]
  },
  {
   "cell_type": "code",
   "execution_count": 94,
   "id": "8e8ad3e0",
   "metadata": {},
   "outputs": [
    {
     "data": {
      "text/plain": [
       "['abc', 'bhargav', 'mohan', 'ravi', 'venky']"
      ]
     },
     "execution_count": 94,
     "metadata": {},
     "output_type": "execute_result"
    }
   ],
   "source": [
    "lst_str"
   ]
  },
  {
   "cell_type": "code",
   "execution_count": 95,
   "id": "b697b448",
   "metadata": {},
   "outputs": [],
   "source": [
    "lst_int.sort()"
   ]
  },
  {
   "cell_type": "code",
   "execution_count": 96,
   "id": "23c74005",
   "metadata": {},
   "outputs": [
    {
     "data": {
      "text/plain": [
       "[12.35, 23, 100, 200]"
      ]
     },
     "execution_count": 96,
     "metadata": {},
     "output_type": "execute_result"
    }
   ],
   "source": [
    "lst_int"
   ]
  },
  {
   "cell_type": "code",
   "execution_count": 97,
   "id": "0de55f1d",
   "metadata": {},
   "outputs": [],
   "source": [
    "lst_int.sort(reverse=True)"
   ]
  },
  {
   "cell_type": "code",
   "execution_count": 98,
   "id": "f08f1050",
   "metadata": {},
   "outputs": [
    {
     "data": {
      "text/plain": [
       "[200, 100, 23, 12.35]"
      ]
     },
     "execution_count": 98,
     "metadata": {},
     "output_type": "execute_result"
    }
   ],
   "source": [
    "lst_int"
   ]
  },
  {
   "cell_type": "code",
   "execution_count": 99,
   "id": "89cb9e73",
   "metadata": {},
   "outputs": [],
   "source": [
    "lst_len = ['a','ba','abb','zaaaa','aaaaaaaaaaaa']"
   ]
  },
  {
   "cell_type": "code",
   "execution_count": 100,
   "id": "1fdb1797",
   "metadata": {},
   "outputs": [],
   "source": [
    "lst_len.sort()"
   ]
  },
  {
   "cell_type": "code",
   "execution_count": 103,
   "id": "8c8d6c29",
   "metadata": {},
   "outputs": [
    {
     "data": {
      "text/plain": [
       "['a', 'aaaaaaaaaaaa', 'abb', 'ba', 'zaaaa']"
      ]
     },
     "execution_count": 103,
     "metadata": {},
     "output_type": "execute_result"
    }
   ],
   "source": [
    "lst_len"
   ]
  },
  {
   "cell_type": "code",
   "execution_count": 104,
   "id": "78e06220",
   "metadata": {},
   "outputs": [
    {
     "data": {
      "text/plain": [
       "[12.35, 100, 100, 200, 200, 'mohan']"
      ]
     },
     "execution_count": 104,
     "metadata": {},
     "output_type": "execute_result"
    }
   ],
   "source": [
    "lst"
   ]
  },
  {
   "cell_type": "code",
   "execution_count": 109,
   "id": "99649974",
   "metadata": {},
   "outputs": [],
   "source": [
    "# copy"
   ]
  },
  {
   "cell_type": "code",
   "execution_count": 106,
   "id": "c64a68f3",
   "metadata": {},
   "outputs": [],
   "source": [
    "lst2 = lst.copy()"
   ]
  },
  {
   "cell_type": "code",
   "execution_count": 110,
   "id": "ae5cb768",
   "metadata": {},
   "outputs": [
    {
     "data": {
      "text/plain": [
       "[12.35, 100, 100, 200, 200, 'mohan']"
      ]
     },
     "execution_count": 110,
     "metadata": {},
     "output_type": "execute_result"
    }
   ],
   "source": [
    "lst2"
   ]
  },
  {
   "cell_type": "code",
   "execution_count": 111,
   "id": "8ce2c456",
   "metadata": {},
   "outputs": [
    {
     "data": {
      "text/plain": [
       "[12.35, 100, 100, 200, 200, 'mohan']"
      ]
     },
     "execution_count": 111,
     "metadata": {},
     "output_type": "execute_result"
    }
   ],
   "source": [
    "lst"
   ]
  },
  {
   "cell_type": "code",
   "execution_count": 112,
   "id": "2eb2dd08",
   "metadata": {},
   "outputs": [],
   "source": [
    "# clear"
   ]
  },
  {
   "cell_type": "code",
   "execution_count": 113,
   "id": "334db7df",
   "metadata": {},
   "outputs": [
    {
     "data": {
      "text/plain": [
       "[12.35, 100, 100, 200, 200, 'mohan']"
      ]
     },
     "execution_count": 113,
     "metadata": {},
     "output_type": "execute_result"
    }
   ],
   "source": [
    "lst2"
   ]
  },
  {
   "cell_type": "code",
   "execution_count": 114,
   "id": "36c63643",
   "metadata": {},
   "outputs": [],
   "source": [
    "lst2.clear()"
   ]
  },
  {
   "cell_type": "code",
   "execution_count": 115,
   "id": "18a18d75",
   "metadata": {},
   "outputs": [
    {
     "data": {
      "text/plain": [
       "[]"
      ]
     },
     "execution_count": 115,
     "metadata": {},
     "output_type": "execute_result"
    }
   ],
   "source": [
    "lst2"
   ]
  },
  {
   "cell_type": "code",
   "execution_count": null,
   "id": "e630765a",
   "metadata": {},
   "outputs": [],
   "source": []
  }
 ],
 "metadata": {
  "kernelspec": {
   "display_name": "Python 3 (ipykernel)",
   "language": "python",
   "name": "python3"
  },
  "language_info": {
   "codemirror_mode": {
    "name": "ipython",
    "version": 3
   },
   "file_extension": ".py",
   "mimetype": "text/x-python",
   "name": "python",
   "nbconvert_exporter": "python",
   "pygments_lexer": "ipython3",
   "version": "3.8.3"
  }
 },
 "nbformat": 4,
 "nbformat_minor": 5
}
