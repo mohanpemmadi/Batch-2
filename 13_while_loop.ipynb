{
 "cells": [
  {
   "cell_type": "code",
   "execution_count": 1,
   "id": "0887cee4",
   "metadata": {},
   "outputs": [],
   "source": [
    "# syntax\n",
    "\n",
    "# value assignment\n",
    "\n",
    "# while condition:\n",
    "#     logic\n",
    "#     increment\n",
    "    "
   ]
  },
  {
   "cell_type": "code",
   "execution_count": 3,
   "id": "7248d2fc",
   "metadata": {},
   "outputs": [
    {
     "name": "stdout",
     "output_type": "stream",
     "text": [
      "1\n",
      "current value - 2\n",
      "2\n",
      "current value - 3\n",
      "3\n",
      "current value - 4\n",
      "4\n",
      "current value - 5\n",
      "5\n",
      "current value - 6\n",
      "6\n",
      "current value - 7\n",
      "7\n",
      "current value - 8\n",
      "8\n",
      "current value - 9\n",
      "9\n",
      "current value - 10\n"
     ]
    }
   ],
   "source": [
    "value = 1\n",
    "\n",
    "while value < 10: # 2<10\n",
    "    print(value)\n",
    "    value = value+1 # value +=1\n",
    "    print('current value -',value)"
   ]
  },
  {
   "cell_type": "code",
   "execution_count": 5,
   "id": "00913ead",
   "metadata": {},
   "outputs": [
    {
     "name": "stdout",
     "output_type": "stream",
     "text": [
      "1\n",
      "2\n",
      "3\n",
      "4\n",
      "5\n"
     ]
    }
   ],
   "source": [
    "value = 1\n",
    "\n",
    "while value <= 5:\n",
    "    print(value)\n",
    "    value = value+1 "
   ]
  },
  {
   "cell_type": "code",
   "execution_count": 8,
   "id": "4c6df6cd",
   "metadata": {},
   "outputs": [
    {
     "name": "stdout",
     "output_type": "stream",
     "text": [
      "101\n",
      "current value - 2\n",
      "102\n",
      "current value - 3\n",
      "103\n",
      "current value - 4\n",
      "104\n",
      "current value - 5\n",
      "105\n",
      "current value - 6\n"
     ]
    }
   ],
   "source": [
    "value = 1\n",
    "\n",
    "while value <= 5:  # 6 <= 5\n",
    "    print(value + 100)\n",
    "    value = value+1 \n",
    "    print('current value -',value)\n",
    "    "
   ]
  },
  {
   "cell_type": "code",
   "execution_count": 9,
   "id": "2b97bffc",
   "metadata": {},
   "outputs": [],
   "source": [
    "value = 100"
   ]
  },
  {
   "cell_type": "code",
   "execution_count": 10,
   "id": "c90d83cc",
   "metadata": {},
   "outputs": [
    {
     "data": {
      "text/plain": [
       "True"
      ]
     },
     "execution_count": 10,
     "metadata": {},
     "output_type": "execute_result"
    }
   ],
   "source": [
    "value <= 200  # 100 <= 200"
   ]
  },
  {
   "cell_type": "code",
   "execution_count": 11,
   "id": "fd7e29d5",
   "metadata": {},
   "outputs": [
    {
     "data": {
      "text/plain": [
       "True"
      ]
     },
     "execution_count": 11,
     "metadata": {},
     "output_type": "execute_result"
    }
   ],
   "source": [
    "value <= 100"
   ]
  },
  {
   "cell_type": "code",
   "execution_count": 13,
   "id": "26f6c25d",
   "metadata": {},
   "outputs": [
    {
     "data": {
      "text/plain": [
       "False"
      ]
     },
     "execution_count": 13,
     "metadata": {},
     "output_type": "execute_result"
    }
   ],
   "source": [
    "value <= 99  #100<=99"
   ]
  },
  {
   "cell_type": "code",
   "execution_count": 17,
   "id": "7267598e",
   "metadata": {},
   "outputs": [
    {
     "name": "stdout",
     "output_type": "stream",
     "text": [
      "python\n",
      "python\n",
      "python\n",
      "python\n",
      "python\n",
      "python\n",
      "python\n",
      "python\n",
      "python\n",
      "python\n"
     ]
    }
   ],
   "source": [
    "value = 1\n",
    "while True:\n",
    "    print('python')\n",
    "    if value == 10:\n",
    "        break\n",
    "    value = value + 1"
   ]
  },
  {
   "cell_type": "code",
   "execution_count": null,
   "id": "4bc5eaa4",
   "metadata": {},
   "outputs": [],
   "source": []
  }
 ],
 "metadata": {
  "kernelspec": {
   "display_name": "Python 3 (ipykernel)",
   "language": "python",
   "name": "python3"
  },
  "language_info": {
   "codemirror_mode": {
    "name": "ipython",
    "version": 3
   },
   "file_extension": ".py",
   "mimetype": "text/x-python",
   "name": "python",
   "nbconvert_exporter": "python",
   "pygments_lexer": "ipython3",
   "version": "3.8.3"
  }
 },
 "nbformat": 4,
 "nbformat_minor": 5
}
