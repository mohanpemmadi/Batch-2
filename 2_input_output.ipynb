{
 "cells": [
  {
   "cell_type": "code",
   "execution_count": null,
   "id": "b3427ff1",
   "metadata": {},
   "outputs": [],
   "source": [
    "\"\"\" input - to take input from keyboard \"\"\""
   ]
  },
  {
   "cell_type": "code",
   "execution_count": 1,
   "id": "1de07c06",
   "metadata": {},
   "outputs": [
    {
     "name": "stdout",
     "output_type": "stream",
     "text": [
      "enter a value: 100\n"
     ]
    }
   ],
   "source": [
    "value = input(\"enter a value: \")"
   ]
  },
  {
   "cell_type": "code",
   "execution_count": 2,
   "id": "850ab9eb",
   "metadata": {},
   "outputs": [
    {
     "data": {
      "text/plain": [
       "'100'"
      ]
     },
     "execution_count": 2,
     "metadata": {},
     "output_type": "execute_result"
    }
   ],
   "source": [
    "value"
   ]
  },
  {
   "cell_type": "code",
   "execution_count": 3,
   "id": "701a4db9",
   "metadata": {},
   "outputs": [
    {
     "data": {
      "text/plain": [
       "str"
      ]
     },
     "execution_count": 3,
     "metadata": {},
     "output_type": "execute_result"
    }
   ],
   "source": [
    "type(value)"
   ]
  },
  {
   "cell_type": "code",
   "execution_count": 4,
   "id": "d9a46d01",
   "metadata": {},
   "outputs": [
    {
     "data": {
      "text/plain": [
       "100"
      ]
     },
     "execution_count": 4,
     "metadata": {},
     "output_type": "execute_result"
    }
   ],
   "source": [
    "int(value)"
   ]
  },
  {
   "cell_type": "code",
   "execution_count": 19,
   "id": "b681da2a",
   "metadata": {},
   "outputs": [
    {
     "name": "stdout",
     "output_type": "stream",
     "text": [
      "enter a value1: 100\n",
      "enter a value2: 200\n"
     ]
    }
   ],
   "source": [
    "value1 = int(input('enter a value1: '))\n",
    "value2 = int(input('enter a value2: '))"
   ]
  },
  {
   "cell_type": "code",
   "execution_count": 20,
   "id": "0999f693",
   "metadata": {},
   "outputs": [
    {
     "data": {
      "text/plain": [
       "100"
      ]
     },
     "execution_count": 20,
     "metadata": {},
     "output_type": "execute_result"
    }
   ],
   "source": [
    "value1"
   ]
  },
  {
   "cell_type": "code",
   "execution_count": 21,
   "id": "5e048461",
   "metadata": {},
   "outputs": [
    {
     "data": {
      "text/plain": [
       "int"
      ]
     },
     "execution_count": 21,
     "metadata": {},
     "output_type": "execute_result"
    }
   ],
   "source": [
    "type(value1)"
   ]
  },
  {
   "cell_type": "code",
   "execution_count": 7,
   "id": "bfd4c7c8",
   "metadata": {},
   "outputs": [
    {
     "data": {
      "text/plain": [
       "200"
      ]
     },
     "execution_count": 7,
     "metadata": {},
     "output_type": "execute_result"
    }
   ],
   "source": [
    "value2"
   ]
  },
  {
   "cell_type": "code",
   "execution_count": 8,
   "id": "2dc69e9e",
   "metadata": {},
   "outputs": [
    {
     "data": {
      "text/plain": [
       "300"
      ]
     },
     "execution_count": 8,
     "metadata": {},
     "output_type": "execute_result"
    }
   ],
   "source": [
    "value1+value2"
   ]
  },
  {
   "cell_type": "code",
   "execution_count": 13,
   "id": "c47c9d34",
   "metadata": {},
   "outputs": [
    {
     "name": "stdout",
     "output_type": "stream",
     "text": [
      "enter a value1: 12.34\n",
      "enter a value2: 13.45\n"
     ]
    }
   ],
   "source": [
    "value1 = float(input('enter a value1: '))\n",
    "value2 = float(input('enter a value2: '))\n"
   ]
  },
  {
   "cell_type": "code",
   "execution_count": 14,
   "id": "71ab588d",
   "metadata": {},
   "outputs": [
    {
     "data": {
      "text/plain": [
       "12.34"
      ]
     },
     "execution_count": 14,
     "metadata": {},
     "output_type": "execute_result"
    }
   ],
   "source": [
    "value1"
   ]
  },
  {
   "cell_type": "code",
   "execution_count": 15,
   "id": "722e4cb3",
   "metadata": {},
   "outputs": [
    {
     "data": {
      "text/plain": [
       "13.45"
      ]
     },
     "execution_count": 15,
     "metadata": {},
     "output_type": "execute_result"
    }
   ],
   "source": [
    "value2"
   ]
  },
  {
   "cell_type": "code",
   "execution_count": 16,
   "id": "79cc94a6",
   "metadata": {},
   "outputs": [
    {
     "data": {
      "text/plain": [
       "25.79"
      ]
     },
     "execution_count": 16,
     "metadata": {},
     "output_type": "execute_result"
    }
   ],
   "source": [
    "value1+value2"
   ]
  },
  {
   "cell_type": "code",
   "execution_count": 17,
   "id": "9195c763",
   "metadata": {},
   "outputs": [
    {
     "data": {
      "text/plain": [
       "float"
      ]
     },
     "execution_count": 17,
     "metadata": {},
     "output_type": "execute_result"
    }
   ],
   "source": [
    "type(value1)"
   ]
  },
  {
   "cell_type": "code",
   "execution_count": null,
   "id": "bda37ab8",
   "metadata": {},
   "outputs": [],
   "source": [
    "# output - display someting on screen"
   ]
  },
  {
   "cell_type": "code",
   "execution_count": 22,
   "id": "9a783577",
   "metadata": {},
   "outputs": [
    {
     "name": "stdout",
     "output_type": "stream",
     "text": [
      "100\n"
     ]
    }
   ],
   "source": [
    "print(value)"
   ]
  },
  {
   "cell_type": "code",
   "execution_count": 23,
   "id": "ddb50518",
   "metadata": {},
   "outputs": [],
   "source": [
    "name = 'mohan'"
   ]
  },
  {
   "cell_type": "code",
   "execution_count": 24,
   "id": "5218a86c",
   "metadata": {},
   "outputs": [
    {
     "name": "stdout",
     "output_type": "stream",
     "text": [
      "mohan\n"
     ]
    }
   ],
   "source": [
    "print(name)"
   ]
  },
  {
   "cell_type": "code",
   "execution_count": null,
   "id": "903d8d4a",
   "metadata": {},
   "outputs": [],
   "source": []
  }
 ],
 "metadata": {
  "kernelspec": {
   "display_name": "Python 3 (ipykernel)",
   "language": "python",
   "name": "python3"
  },
  "language_info": {
   "codemirror_mode": {
    "name": "ipython",
    "version": 3
   },
   "file_extension": ".py",
   "mimetype": "text/x-python",
   "name": "python",
   "nbconvert_exporter": "python",
   "pygments_lexer": "ipython3",
   "version": "3.8.3"
  }
 },
 "nbformat": 4,
 "nbformat_minor": 5
}
