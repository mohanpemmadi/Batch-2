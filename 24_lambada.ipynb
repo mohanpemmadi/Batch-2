{
 "cells": [
  {
   "cell_type": "markdown",
   "id": "8e2d2e5e",
   "metadata": {},
   "source": [
    "# Lambda is an anonymous function in Python,we use lambda fuctions when we require a nameless function for a short period of time"
   ]
  },
  {
   "cell_type": "code",
   "execution_count": 1,
   "id": "8a5600ef",
   "metadata": {},
   "outputs": [],
   "source": [
    "def demo(num):\n",
    "    return num*num"
   ]
  },
  {
   "cell_type": "code",
   "execution_count": 2,
   "id": "dbc79c43",
   "metadata": {},
   "outputs": [
    {
     "data": {
      "text/plain": [
       "10000"
      ]
     },
     "execution_count": 2,
     "metadata": {},
     "output_type": "execute_result"
    }
   ],
   "source": [
    "demo(100)"
   ]
  },
  {
   "cell_type": "code",
   "execution_count": 3,
   "id": "fe10701a",
   "metadata": {},
   "outputs": [
    {
     "data": {
      "text/plain": [
       "4"
      ]
     },
     "execution_count": 3,
     "metadata": {},
     "output_type": "execute_result"
    }
   ],
   "source": [
    "demo(2)"
   ]
  },
  {
   "cell_type": "code",
   "execution_count": null,
   "id": "ef69379b",
   "metadata": {},
   "outputs": [],
   "source": [
    "# Syntax\n",
    "\n",
    "# lambda argument: logic"
   ]
  },
  {
   "cell_type": "code",
   "execution_count": 5,
   "id": "50a7a585",
   "metadata": {},
   "outputs": [],
   "source": [
    "res = lambda num:num*num"
   ]
  },
  {
   "cell_type": "code",
   "execution_count": 6,
   "id": "6f5b096b",
   "metadata": {},
   "outputs": [
    {
     "data": {
      "text/plain": [
       "<function __main__.<lambda>(num)>"
      ]
     },
     "execution_count": 6,
     "metadata": {},
     "output_type": "execute_result"
    }
   ],
   "source": [
    "res"
   ]
  },
  {
   "cell_type": "code",
   "execution_count": 7,
   "id": "48b69b96",
   "metadata": {},
   "outputs": [
    {
     "data": {
      "text/plain": [
       "100"
      ]
     },
     "execution_count": 7,
     "metadata": {},
     "output_type": "execute_result"
    }
   ],
   "source": [
    "res(10)"
   ]
  },
  {
   "cell_type": "code",
   "execution_count": 8,
   "id": "154e50fb",
   "metadata": {},
   "outputs": [
    {
     "data": {
      "text/plain": [
       "9"
      ]
     },
     "execution_count": 8,
     "metadata": {},
     "output_type": "execute_result"
    }
   ],
   "source": [
    "res(3)"
   ]
  },
  {
   "cell_type": "code",
   "execution_count": null,
   "id": "7f646ace",
   "metadata": {},
   "outputs": [],
   "source": []
  }
 ],
 "metadata": {
  "kernelspec": {
   "display_name": "Python 3 (ipykernel)",
   "language": "python",
   "name": "python3"
  },
  "language_info": {
   "codemirror_mode": {
    "name": "ipython",
    "version": 3
   },
   "file_extension": ".py",
   "mimetype": "text/x-python",
   "name": "python",
   "nbconvert_exporter": "python",
   "pygments_lexer": "ipython3",
   "version": "3.8.3"
  }
 },
 "nbformat": 4,
 "nbformat_minor": 5
}
