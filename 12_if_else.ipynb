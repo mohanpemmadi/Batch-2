{
 "cells": [
  {
   "cell_type": "code",
   "execution_count": 1,
   "id": "0ace2ff4",
   "metadata": {},
   "outputs": [
    {
     "name": "stdout",
     "output_type": "stream",
     "text": [
      "if statement\n"
     ]
    }
   ],
   "source": [
    "if True:\n",
    "    print('if statement')"
   ]
  },
  {
   "cell_type": "code",
   "execution_count": 2,
   "id": "f7e68024",
   "metadata": {},
   "outputs": [],
   "source": [
    "if False:\n",
    "    print('False statement')"
   ]
  },
  {
   "cell_type": "code",
   "execution_count": 3,
   "id": "bb993a32",
   "metadata": {},
   "outputs": [],
   "source": [
    "db_username = 'mohan'"
   ]
  },
  {
   "cell_type": "code",
   "execution_count": 10,
   "id": "dcfa0b40",
   "metadata": {},
   "outputs": [
    {
     "name": "stdout",
     "output_type": "stream",
     "text": [
      "Enter a user name: mohan\n"
     ]
    }
   ],
   "source": [
    "user_name = input('Enter a user name: ')"
   ]
  },
  {
   "cell_type": "code",
   "execution_count": 11,
   "id": "947c3a24",
   "metadata": {},
   "outputs": [
    {
     "data": {
      "text/plain": [
       "'mohan'"
      ]
     },
     "execution_count": 11,
     "metadata": {},
     "output_type": "execute_result"
    }
   ],
   "source": [
    "db_username"
   ]
  },
  {
   "cell_type": "code",
   "execution_count": 12,
   "id": "aafe83e0",
   "metadata": {},
   "outputs": [
    {
     "data": {
      "text/plain": [
       "'mohan'"
      ]
     },
     "execution_count": 12,
     "metadata": {},
     "output_type": "execute_result"
    }
   ],
   "source": [
    "user_name"
   ]
  },
  {
   "cell_type": "code",
   "execution_count": 13,
   "id": "845a534e",
   "metadata": {},
   "outputs": [
    {
     "name": "stdout",
     "output_type": "stream",
     "text": [
      "User valid\n"
     ]
    }
   ],
   "source": [
    "if db_username == user_name: # 'mohan' == 'ravi'\n",
    "    print('User valid')"
   ]
  },
  {
   "cell_type": "code",
   "execution_count": 8,
   "id": "e2f20501",
   "metadata": {},
   "outputs": [
    {
     "data": {
      "text/plain": [
       "False"
      ]
     },
     "execution_count": 8,
     "metadata": {},
     "output_type": "execute_result"
    }
   ],
   "source": [
    "'mohan' == 'ravi'"
   ]
  },
  {
   "cell_type": "code",
   "execution_count": 9,
   "id": "ac85d350",
   "metadata": {},
   "outputs": [
    {
     "data": {
      "text/plain": [
       "True"
      ]
     },
     "execution_count": 9,
     "metadata": {},
     "output_type": "execute_result"
    }
   ],
   "source": [
    "'mohan' == 'mohan'"
   ]
  },
  {
   "cell_type": "code",
   "execution_count": 14,
   "id": "20e87f42",
   "metadata": {},
   "outputs": [],
   "source": [
    "a = 100\n",
    "b = 100\n",
    "c = 200"
   ]
  },
  {
   "cell_type": "code",
   "execution_count": 17,
   "id": "7620dc1d",
   "metadata": {},
   "outputs": [
    {
     "name": "stdout",
     "output_type": "stream",
     "text": [
      "a and b are same\n"
     ]
    }
   ],
   "source": [
    "if a==b:\n",
    "    print('a and b are same')"
   ]
  },
  {
   "cell_type": "code",
   "execution_count": 18,
   "id": "ed72e70c",
   "metadata": {},
   "outputs": [],
   "source": [
    "if a==c:\n",
    "    print('a and c are same')"
   ]
  },
  {
   "cell_type": "code",
   "execution_count": 20,
   "id": "b69996cb",
   "metadata": {},
   "outputs": [],
   "source": [
    "db_username = 'venkat'\n",
    "db_password = 'password123'"
   ]
  },
  {
   "cell_type": "code",
   "execution_count": 28,
   "id": "535af97d",
   "metadata": {},
   "outputs": [],
   "source": [
    "front_end_username = 'venkata'\n",
    "front_end_password = 'password123'"
   ]
  },
  {
   "cell_type": "code",
   "execution_count": 29,
   "id": "04f46f63",
   "metadata": {},
   "outputs": [],
   "source": [
    "if front_end_username == db_username:\n",
    "    print('user is valid')\n",
    "    if front_end_password == db_password:\n",
    "        print('password valid')"
   ]
  },
  {
   "cell_type": "code",
   "execution_count": 33,
   "id": "a609b590",
   "metadata": {},
   "outputs": [
    {
     "name": "stdout",
     "output_type": "stream",
     "text": [
      "numbers are not same\n"
     ]
    }
   ],
   "source": [
    "value1 = 100\n",
    "value2 = 200\n",
    "\n",
    "if value1 == value2:\n",
    "    print('numbers are same')\n",
    "else:\n",
    "    print('numbers are not same')"
   ]
  },
  {
   "cell_type": "code",
   "execution_count": 34,
   "id": "c7549ac1",
   "metadata": {},
   "outputs": [
    {
     "data": {
      "text/plain": [
       "False"
      ]
     },
     "execution_count": 34,
     "metadata": {},
     "output_type": "execute_result"
    }
   ],
   "source": [
    "value1 == value2"
   ]
  },
  {
   "cell_type": "code",
   "execution_count": 35,
   "id": "b355985e",
   "metadata": {},
   "outputs": [],
   "source": [
    "# Intendation"
   ]
  },
  {
   "cell_type": "code",
   "execution_count": 37,
   "id": "c9f5cea7",
   "metadata": {},
   "outputs": [],
   "source": [
    "# if,for,while,def and class\n",
    "\n",
    "# if condition:\n",
    "#     print('a')"
   ]
  },
  {
   "cell_type": "code",
   "execution_count": 43,
   "id": "b0d94dbb",
   "metadata": {
    "scrolled": true
   },
   "outputs": [
    {
     "name": "stdout",
     "output_type": "stream",
     "text": [
      "one\n",
      "two\n",
      "three\n",
      "four else\n"
     ]
    }
   ],
   "source": [
    "name = 'sai'\n",
    "\n",
    "if name == 'sai':\n",
    "    print('one')\n",
    "if name == 'sai':\n",
    "    print('two')\n",
    "if name == 'sai':\n",
    "    print('three')\n",
    "if name == 'sais':\n",
    "    print('four')\n",
    "else:\n",
    "    print('four else')"
   ]
  },
  {
   "cell_type": "code",
   "execution_count": 45,
   "id": "3cde3706",
   "metadata": {},
   "outputs": [
    {
     "name": "stdout",
     "output_type": "stream",
     "text": [
      "one\n"
     ]
    }
   ],
   "source": [
    "value = 100\n",
    "\n",
    "if value == 100:\n",
    "    print('one')\n",
    "elif value == 200:\n",
    "    print('two')\n",
    "elif value == 300:\n",
    "    print('three')\n",
    "elif value == 100:\n",
    "    print('four')\n",
    "else:\n",
    "    print('else')"
   ]
  },
  {
   "cell_type": "code",
   "execution_count": 46,
   "id": "d4eaafa4",
   "metadata": {},
   "outputs": [
    {
     "name": "stdout",
     "output_type": "stream",
     "text": [
      "four\n"
     ]
    }
   ],
   "source": [
    "value = 100\n",
    "\n",
    "if value == 400:\n",
    "    print('one')\n",
    "elif value == 200:\n",
    "    print('two')\n",
    "elif value == 300:\n",
    "    print('three')\n",
    "elif value == 100:\n",
    "    print('four')\n",
    "else:\n",
    "    print('else')"
   ]
  },
  {
   "cell_type": "code",
   "execution_count": 49,
   "id": "e1f80270",
   "metadata": {},
   "outputs": [
    {
     "name": "stdout",
     "output_type": "stream",
     "text": [
      "three\n"
     ]
    }
   ],
   "source": [
    "value = 100\n",
    "\n",
    "if value == 1000:\n",
    "    print('one')\n",
    "elif value == 200:\n",
    "    print('two')\n",
    "elif value == 100:\n",
    "    print('three')\n",
    "elif value == 200:\n",
    "    print('four')\n",
    "else:\n",
    "    print('else')"
   ]
  },
  {
   "cell_type": "code",
   "execution_count": 57,
   "id": "6d79df17",
   "metadata": {},
   "outputs": [
    {
     "name": "stdout",
     "output_type": "stream",
     "text": [
      "VENKAT logged-in sucessfully\n"
     ]
    }
   ],
   "source": [
    "name = 'venkat'\n",
    "password = 'pass123'\n",
    "\n",
    "db_name = 'venkat'\n",
    "db_password = 'pass123'\n",
    "\n",
    "if name == db_name and password == db_password:\n",
    "    print('{} logged-in sucessfully'.format(name.upper()))\n",
    "else:\n",
    "    print(\"Please check username and password\")"
   ]
  },
  {
   "cell_type": "code",
   "execution_count": 52,
   "id": "be5352b8",
   "metadata": {},
   "outputs": [
    {
     "name": "stdout",
     "output_type": "stream",
     "text": [
      "ok\n"
     ]
    }
   ],
   "source": [
    "if True and True:\n",
    "    print('ok')\n",
    "else:\n",
    "    print('not ok')"
   ]
  },
  {
   "cell_type": "code",
   "execution_count": 53,
   "id": "75b257f7",
   "metadata": {},
   "outputs": [
    {
     "name": "stdout",
     "output_type": "stream",
     "text": [
      "not ok\n"
     ]
    }
   ],
   "source": [
    "if True and False:\n",
    "    print('ok')\n",
    "else:\n",
    "    print('not ok')"
   ]
  },
  {
   "cell_type": "code",
   "execution_count": 58,
   "id": "6df61fa9",
   "metadata": {},
   "outputs": [],
   "source": [
    "# # for \n",
    "# # while\n",
    "# # class\n",
    "# # def\n",
    "# # with\n",
    "# abc"
   ]
  },
  {
   "cell_type": "code",
   "execution_count": 65,
   "id": "7a787af7",
   "metadata": {},
   "outputs": [
    {
     "name": "stdout",
     "output_type": "stream",
     "text": [
      "User does not exist\n"
     ]
    }
   ],
   "source": [
    "name = 'venkat'\n",
    "password = 'pass123'\n",
    "\n",
    "db_name = 'venkata'\n",
    "db_password = 'pass123'\n",
    "\n",
    "if name == db_name:\n",
    "    if password == db_password:\n",
    "        print('User logged-in sucessfully')\n",
    "    else:\n",
    "        print('Wrong password')\n",
    "else:\n",
    "    print('User does not exist')\n",
    "    "
   ]
  },
  {
   "cell_type": "code",
   "execution_count": 66,
   "id": "2cae1631",
   "metadata": {},
   "outputs": [
    {
     "data": {
      "text/plain": [
       "True"
      ]
     },
     "execution_count": 66,
     "metadata": {},
     "output_type": "execute_result"
    }
   ],
   "source": [
    "'p' in 'python'"
   ]
  },
  {
   "cell_type": "code",
   "execution_count": 67,
   "id": "dbe6d15e",
   "metadata": {},
   "outputs": [
    {
     "data": {
      "text/plain": [
       "False"
      ]
     },
     "execution_count": 67,
     "metadata": {},
     "output_type": "execute_result"
    }
   ],
   "source": [
    "'q' in 'python'"
   ]
  },
  {
   "cell_type": "code",
   "execution_count": 68,
   "id": "812113fc",
   "metadata": {},
   "outputs": [
    {
     "name": "stdout",
     "output_type": "stream",
     "text": [
      "character exists\n"
     ]
    }
   ],
   "source": [
    "if 'p' in 'python':\n",
    "    print('character exists')"
   ]
  },
  {
   "cell_type": "code",
   "execution_count": 69,
   "id": "aa6bad0b",
   "metadata": {},
   "outputs": [
    {
     "name": "stdout",
     "output_type": "stream",
     "text": [
      "character does not exists\n"
     ]
    }
   ],
   "source": [
    "if 'q' in 'python':\n",
    "    print('character exists')\n",
    "else:\n",
    "    print('character does not exists')"
   ]
  },
  {
   "cell_type": "code",
   "execution_count": 70,
   "id": "b11b7df5",
   "metadata": {},
   "outputs": [
    {
     "data": {
      "text/plain": [
       "True"
      ]
     },
     "execution_count": 70,
     "metadata": {},
     "output_type": "execute_result"
    }
   ],
   "source": [
    "100 in [100,200,'mohan']"
   ]
  },
  {
   "cell_type": "code",
   "execution_count": 71,
   "id": "70c670b7",
   "metadata": {},
   "outputs": [
    {
     "name": "stderr",
     "output_type": "stream",
     "text": [
      "<>:1: SyntaxWarning: \"is\" with a literal. Did you mean \"==\"?\n",
      "<>:1: SyntaxWarning: \"is\" with a literal. Did you mean \"==\"?\n",
      "C:\\Users\\nanip\\AppData\\Local\\Temp\\ipykernel_1360\\738435217.py:1: SyntaxWarning: \"is\" with a literal. Did you mean \"==\"?\n",
      "  100 is 100\n"
     ]
    },
    {
     "data": {
      "text/plain": [
       "True"
      ]
     },
     "execution_count": 71,
     "metadata": {},
     "output_type": "execute_result"
    }
   ],
   "source": [
    "100 is 100"
   ]
  },
  {
   "cell_type": "code",
   "execution_count": 74,
   "id": "e9488f93",
   "metadata": {},
   "outputs": [
    {
     "data": {
      "text/plain": [
       "False"
      ]
     },
     "execution_count": 74,
     "metadata": {},
     "output_type": "execute_result"
    }
   ],
   "source": [
    "101 in range(1,100)"
   ]
  },
  {
   "cell_type": "code",
   "execution_count": 75,
   "id": "085cd476",
   "metadata": {},
   "outputs": [],
   "source": [
    "dt = {'name':'venkat','age':31}"
   ]
  },
  {
   "cell_type": "code",
   "execution_count": 76,
   "id": "2eff1052",
   "metadata": {},
   "outputs": [
    {
     "data": {
      "text/plain": [
       "True"
      ]
     },
     "execution_count": 76,
     "metadata": {},
     "output_type": "execute_result"
    }
   ],
   "source": [
    "'name' in dt"
   ]
  },
  {
   "cell_type": "code",
   "execution_count": 77,
   "id": "987e3866",
   "metadata": {},
   "outputs": [
    {
     "data": {
      "text/plain": [
       "False"
      ]
     },
     "execution_count": 77,
     "metadata": {},
     "output_type": "execute_result"
    }
   ],
   "source": [
    "'venkat' in dt"
   ]
  },
  {
   "cell_type": "code",
   "execution_count": 78,
   "id": "d8d58055",
   "metadata": {},
   "outputs": [
    {
     "name": "stdout",
     "output_type": "stream",
     "text": [
      "Key exists\n"
     ]
    }
   ],
   "source": [
    "if 'age' in dt:\n",
    "    print('Key exists')\n",
    "    "
   ]
  },
  {
   "cell_type": "code",
   "execution_count": 79,
   "id": "b4838c1c",
   "metadata": {},
   "outputs": [
    {
     "name": "stdout",
     "output_type": "stream",
     "text": [
      "hello\n"
     ]
    }
   ],
   "source": [
    "if 100>20:\n",
    "    print('hello')"
   ]
  },
  {
   "cell_type": "code",
   "execution_count": null,
   "id": "a61050dc",
   "metadata": {},
   "outputs": [],
   "source": []
  }
 ],
 "metadata": {
  "kernelspec": {
   "display_name": "Python 3 (ipykernel)",
   "language": "python",
   "name": "python3"
  },
  "language_info": {
   "codemirror_mode": {
    "name": "ipython",
    "version": 3
   },
   "file_extension": ".py",
   "mimetype": "text/x-python",
   "name": "python",
   "nbconvert_exporter": "python",
   "pygments_lexer": "ipython3",
   "version": "3.8.3"
  }
 },
 "nbformat": 4,
 "nbformat_minor": 5
}
