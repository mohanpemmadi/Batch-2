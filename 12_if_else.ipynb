{
 "cells": [
  {
   "cell_type": "code",
   "execution_count": 1,
   "id": "f322362f",
   "metadata": {},
   "outputs": [
    {
     "name": "stdout",
     "output_type": "stream",
     "text": [
      "if statement\n"
     ]
    }
   ],
   "source": [
    "if True:\n",
    "    print('if statement')"
   ]
  },
  {
   "cell_type": "code",
   "execution_count": 2,
   "id": "cc3d9bb3",
   "metadata": {},
   "outputs": [],
   "source": [
    "if False:\n",
    "    print('False statement')"
   ]
  },
  {
   "cell_type": "code",
   "execution_count": 3,
   "id": "f58991d1",
   "metadata": {},
   "outputs": [],
   "source": [
    "db_username = 'mohan'"
   ]
  },
  {
   "cell_type": "code",
   "execution_count": 10,
   "id": "a595a06f",
   "metadata": {},
   "outputs": [
    {
     "name": "stdout",
     "output_type": "stream",
     "text": [
      "Enter a user name: mohan\n"
     ]
    }
   ],
   "source": [
    "user_name = input('Enter a user name: ')"
   ]
  },
  {
   "cell_type": "code",
   "execution_count": 11,
   "id": "b3c33129",
   "metadata": {},
   "outputs": [
    {
     "data": {
      "text/plain": [
       "'mohan'"
      ]
     },
     "execution_count": 11,
     "metadata": {},
     "output_type": "execute_result"
    }
   ],
   "source": [
    "db_username"
   ]
  },
  {
   "cell_type": "code",
   "execution_count": 12,
   "id": "c12ec7cf",
   "metadata": {},
   "outputs": [
    {
     "data": {
      "text/plain": [
       "'mohan'"
      ]
     },
     "execution_count": 12,
     "metadata": {},
     "output_type": "execute_result"
    }
   ],
   "source": [
    "user_name"
   ]
  },
  {
   "cell_type": "code",
   "execution_count": 13,
   "id": "079f8689",
   "metadata": {},
   "outputs": [
    {
     "name": "stdout",
     "output_type": "stream",
     "text": [
      "User valid\n"
     ]
    }
   ],
   "source": [
    "if db_username == user_name: # 'mohan' == 'ravi'\n",
    "    print('User valid')"
   ]
  },
  {
   "cell_type": "code",
   "execution_count": 8,
   "id": "46907052",
   "metadata": {},
   "outputs": [
    {
     "data": {
      "text/plain": [
       "False"
      ]
     },
     "execution_count": 8,
     "metadata": {},
     "output_type": "execute_result"
    }
   ],
   "source": [
    "'mohan' == 'ravi'"
   ]
  },
  {
   "cell_type": "code",
   "execution_count": 9,
   "id": "3c10aae5",
   "metadata": {},
   "outputs": [
    {
     "data": {
      "text/plain": [
       "True"
      ]
     },
     "execution_count": 9,
     "metadata": {},
     "output_type": "execute_result"
    }
   ],
   "source": [
    "'mohan' == 'mohan'"
   ]
  },
  {
   "cell_type": "code",
   "execution_count": 14,
   "id": "478f6d5f",
   "metadata": {},
   "outputs": [],
   "source": [
    "a = 100\n",
    "b = 100\n",
    "c = 200"
   ]
  },
  {
   "cell_type": "code",
   "execution_count": 17,
   "id": "89b74932",
   "metadata": {},
   "outputs": [
    {
     "name": "stdout",
     "output_type": "stream",
     "text": [
      "a and b are same\n"
     ]
    }
   ],
   "source": [
    "if a==b:\n",
    "    print('a and b are same')"
   ]
  },
  {
   "cell_type": "code",
   "execution_count": 18,
   "id": "7c54b0a1",
   "metadata": {},
   "outputs": [],
   "source": [
    "if a==c:\n",
    "    print('a and c are same')"
   ]
  },
  {
   "cell_type": "code",
   "execution_count": 20,
   "id": "b9b81ca6",
   "metadata": {},
   "outputs": [],
   "source": [
    "db_username = 'venkat'\n",
    "db_password = 'password123'"
   ]
  },
  {
   "cell_type": "code",
   "execution_count": 28,
   "id": "c4ad658b",
   "metadata": {},
   "outputs": [],
   "source": [
    "front_end_username = 'venkata'\n",
    "front_end_password = 'password123'"
   ]
  },
  {
   "cell_type": "code",
   "execution_count": 29,
   "id": "1efd5d66",
   "metadata": {},
   "outputs": [],
   "source": [
    "if front_end_username == db_username:\n",
    "    print('user is valid')\n",
    "    if front_end_password == db_password:\n",
    "        print('password valid')"
   ]
  },
  {
   "cell_type": "code",
   "execution_count": 33,
   "id": "4b0bbb55",
   "metadata": {},
   "outputs": [
    {
     "name": "stdout",
     "output_type": "stream",
     "text": [
      "numbers are not same\n"
     ]
    }
   ],
   "source": [
    "value1 = 100\n",
    "value2 = 200\n",
    "\n",
    "if value1 == value2:\n",
    "    print('numbers are same')\n",
    "else:\n",
    "    print('numbers are not same')"
   ]
  },
  {
   "cell_type": "code",
   "execution_count": 34,
   "id": "8e989f1e",
   "metadata": {},
   "outputs": [
    {
     "data": {
      "text/plain": [
       "False"
      ]
     },
     "execution_count": 34,
     "metadata": {},
     "output_type": "execute_result"
    }
   ],
   "source": [
    "value1 == value2"
   ]
  },
  {
   "cell_type": "code",
   "execution_count": 35,
   "id": "5a712c94",
   "metadata": {},
   "outputs": [],
   "source": [
    "# Intendation"
   ]
  },
  {
   "cell_type": "code",
   "execution_count": 37,
   "id": "80bc1eec",
   "metadata": {},
   "outputs": [],
   "source": [
    "# if,for,while,def and class\n",
    "\n",
    "# if condition:\n",
    "#     print('a')"
   ]
  },
  {
   "cell_type": "code",
   "execution_count": 43,
   "id": "0b6ccc45",
   "metadata": {
    "scrolled": true
   },
   "outputs": [
    {
     "name": "stdout",
     "output_type": "stream",
     "text": [
      "one\n",
      "two\n",
      "three\n",
      "four else\n"
     ]
    }
   ],
   "source": [
    "name = 'sai'\n",
    "\n",
    "if name == 'sai':\n",
    "    print('one')\n",
    "if name == 'sai':\n",
    "    print('two')\n",
    "if name == 'sai':\n",
    "    print('three')\n",
    "if name == 'sais':\n",
    "    print('four')\n",
    "else:\n",
    "    print('four else')"
   ]
  },
  {
   "cell_type": "code",
   "execution_count": 45,
   "id": "4a0c9c00",
   "metadata": {},
   "outputs": [
    {
     "name": "stdout",
     "output_type": "stream",
     "text": [
      "one\n"
     ]
    }
   ],
   "source": [
    "value = 100\n",
    "\n",
    "if value == 100:\n",
    "    print('one')\n",
    "elif value == 200:\n",
    "    print('two')\n",
    "elif value == 300:\n",
    "    print('three')\n",
    "elif value == 100:\n",
    "    print('four')\n",
    "else:\n",
    "    print('else')"
   ]
  },
  {
   "cell_type": "code",
   "execution_count": 46,
   "id": "883ec1e1",
   "metadata": {},
   "outputs": [
    {
     "name": "stdout",
     "output_type": "stream",
     "text": [
      "four\n"
     ]
    }
   ],
   "source": [
    "value = 100\n",
    "\n",
    "if value == 400:\n",
    "    print('one')\n",
    "elif value == 200:\n",
    "    print('two')\n",
    "elif value == 300:\n",
    "    print('three')\n",
    "elif value == 100:\n",
    "    print('four')\n",
    "else:\n",
    "    print('else')"
   ]
  },
  {
   "cell_type": "code",
   "execution_count": 49,
   "id": "515e6781",
   "metadata": {},
   "outputs": [
    {
     "name": "stdout",
     "output_type": "stream",
     "text": [
      "three\n"
     ]
    }
   ],
   "source": [
    "value = 100\n",
    "\n",
    "if value == 1000:\n",
    "    print('one')\n",
    "elif value == 200:\n",
    "    print('two')\n",
    "elif value == 100:\n",
    "    print('three')\n",
    "elif value == 200:\n",
    "    print('four')\n",
    "else:\n",
    "    print('else')"
   ]
  },
  {
   "cell_type": "code",
   "execution_count": 57,
   "id": "8fa5e58d",
   "metadata": {},
   "outputs": [
    {
     "name": "stdout",
     "output_type": "stream",
     "text": [
      "VENKAT logged-in sucessfully\n"
     ]
    }
   ],
   "source": [
    "name = 'venkat'\n",
    "password = 'pass123'\n",
    "\n",
    "db_name = 'venkat'\n",
    "db_password = 'pass123'\n",
    "\n",
    "if name == db_name and password == db_password:\n",
    "    print('{} logged-in sucessfully'.format(name.upper()))\n",
    "else:\n",
    "    print(\"Please check username and password\")"
   ]
  },
  {
   "cell_type": "code",
   "execution_count": 52,
   "id": "3cdaef07",
   "metadata": {},
   "outputs": [
    {
     "name": "stdout",
     "output_type": "stream",
     "text": [
      "ok\n"
     ]
    }
   ],
   "source": [
    "if True and True:\n",
    "    print('ok')\n",
    "else:\n",
    "    print('not ok')"
   ]
  },
  {
   "cell_type": "code",
   "execution_count": 53,
   "id": "26c0819e",
   "metadata": {},
   "outputs": [
    {
     "name": "stdout",
     "output_type": "stream",
     "text": [
      "not ok\n"
     ]
    }
   ],
   "source": [
    "if True and False:\n",
    "    print('ok')\n",
    "else:\n",
    "    print('not ok')"
   ]
  },
  {
   "cell_type": "code",
   "execution_count": 58,
   "id": "3c1b2680",
   "metadata": {},
   "outputs": [],
   "source": [
    "# # for \n",
    "# # while\n",
    "# # class\n",
    "# # def\n",
    "# # with\n",
    "# abc"
   ]
  },
  {
   "cell_type": "code",
   "execution_count": 65,
   "id": "7ddf8e89",
   "metadata": {},
   "outputs": [
    {
     "name": "stdout",
     "output_type": "stream",
     "text": [
      "User does not exist\n"
     ]
    }
   ],
   "source": [
    "name = 'venkat'\n",
    "password = 'pass123'\n",
    "\n",
    "db_name = 'venkata'\n",
    "db_password = 'pass123'\n",
    "\n",
    "if name == db_name:\n",
    "    if password == db_password:\n",
    "        print('User logged-in sucessfully')\n",
    "    else:\n",
    "        print('Wrong password')\n",
    "else:\n",
    "    print('User does not exist')\n",
    "    "
   ]
  },
  {
   "cell_type": "code",
   "execution_count": 66,
   "id": "5fb3d465",
   "metadata": {},
   "outputs": [
    {
     "data": {
      "text/plain": [
       "True"
      ]
     },
     "execution_count": 66,
     "metadata": {},
     "output_type": "execute_result"
    }
   ],
   "source": [
    "'p' in 'python'"
   ]
  },
  {
   "cell_type": "code",
   "execution_count": 67,
   "id": "6f237233",
   "metadata": {},
   "outputs": [
    {
     "data": {
      "text/plain": [
       "False"
      ]
     },
     "execution_count": 67,
     "metadata": {},
     "output_type": "execute_result"
    }
   ],
   "source": [
    "'q' in 'python'"
   ]
  },
  {
   "cell_type": "code",
   "execution_count": 68,
   "id": "eaf8e0cd",
   "metadata": {},
   "outputs": [
    {
     "name": "stdout",
     "output_type": "stream",
     "text": [
      "character exists\n"
     ]
    }
   ],
   "source": [
    "if 'p' in 'python':\n",
    "    print('character exists')"
   ]
  },
  {
   "cell_type": "code",
   "execution_count": 69,
   "id": "ce62780b",
   "metadata": {},
   "outputs": [
    {
     "name": "stdout",
     "output_type": "stream",
     "text": [
      "character does not exists\n"
     ]
    }
   ],
   "source": [
    "if 'q' in 'python':\n",
    "    print('character exists')\n",
    "else:\n",
    "    print('character does not exists')"
   ]
  },
  {
   "cell_type": "code",
   "execution_count": 70,
   "id": "4f83a0db",
   "metadata": {},
   "outputs": [
    {
     "data": {
      "text/plain": [
       "True"
      ]
     },
     "execution_count": 70,
     "metadata": {},
     "output_type": "execute_result"
    }
   ],
   "source": [
    "100 in [100,200,'mohan']"
   ]
  },
  {
   "cell_type": "code",
   "execution_count": 71,
   "id": "fa00f0dd",
   "metadata": {},
   "outputs": [
    {
     "name": "stderr",
     "output_type": "stream",
     "text": [
      "<>:1: SyntaxWarning: \"is\" with a literal. Did you mean \"==\"?\n",
      "<>:1: SyntaxWarning: \"is\" with a literal. Did you mean \"==\"?\n",
      "C:\\Users\\nanip\\AppData\\Local\\Temp\\ipykernel_1360\\738435217.py:1: SyntaxWarning: \"is\" with a literal. Did you mean \"==\"?\n",
      "  100 is 100\n"
     ]
    },
    {
     "data": {
      "text/plain": [
       "True"
      ]
     },
     "execution_count": 71,
     "metadata": {},
     "output_type": "execute_result"
    }
   ],
   "source": [
    "100 is 100"
   ]
  },
  {
   "cell_type": "code",
   "execution_count": 74,
   "id": "a472a09c",
   "metadata": {},
   "outputs": [
    {
     "data": {
      "text/plain": [
       "False"
      ]
     },
     "execution_count": 74,
     "metadata": {},
     "output_type": "execute_result"
    }
   ],
   "source": [
    "101 in range(1,100)"
   ]
  },
  {
   "cell_type": "code",
   "execution_count": 75,
   "id": "d5b608d8",
   "metadata": {},
   "outputs": [],
   "source": [
    "dt = {'name':'venkat','age':31}"
   ]
  },
  {
   "cell_type": "code",
   "execution_count": 76,
   "id": "f7064694",
   "metadata": {},
   "outputs": [
    {
     "data": {
      "text/plain": [
       "True"
      ]
     },
     "execution_count": 76,
     "metadata": {},
     "output_type": "execute_result"
    }
   ],
   "source": [
    "'name' in dt"
   ]
  },
  {
   "cell_type": "code",
   "execution_count": 77,
   "id": "c665e4be",
   "metadata": {},
   "outputs": [
    {
     "data": {
      "text/plain": [
       "False"
      ]
     },
     "execution_count": 77,
     "metadata": {},
     "output_type": "execute_result"
    }
   ],
   "source": [
    "'venkat' in dt"
   ]
  },
  {
   "cell_type": "code",
   "execution_count": 78,
   "id": "fa7d97c1",
   "metadata": {},
   "outputs": [
    {
     "name": "stdout",
     "output_type": "stream",
     "text": [
      "Key exists\n"
     ]
    }
   ],
   "source": [
    "if 'age' in dt:\n",
    "    print('Key exists')\n",
    "    "
   ]
  },
  {
   "cell_type": "code",
   "execution_count": 79,
   "id": "ea145d21",
   "metadata": {},
   "outputs": [
    {
     "name": "stdout",
     "output_type": "stream",
     "text": [
      "hello\n"
     ]
    }
   ],
   "source": [
    "if 100>20:\n",
    "    print('hello')"
   ]
  },
  {
   "cell_type": "code",
   "execution_count": null,
   "id": "7bcf6a33",
   "metadata": {},
   "outputs": [],
   "source": []
  }
 ],
 "metadata": {
  "kernelspec": {
   "display_name": "Python 3 (ipykernel)",
   "language": "python",
   "name": "python3"
  },
  "language_info": {
   "codemirror_mode": {
    "name": "ipython",
    "version": 3
   },
   "file_extension": ".py",
   "mimetype": "text/x-python",
   "name": "python",
   "nbconvert_exporter": "python",
   "pygments_lexer": "ipython3",
   "version": "3.8.3"
  }
 },
 "nbformat": 4,
 "nbformat_minor": 5
}
