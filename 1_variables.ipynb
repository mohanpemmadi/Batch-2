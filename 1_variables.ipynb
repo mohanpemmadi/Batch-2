{
 "cells": [
  {
   "cell_type": "code",
   "execution_count": 1,
   "id": "e881681a",
   "metadata": {},
   "outputs": [],
   "source": [
    "''' Variable - Name of a memory location '''"
   ]
  },
  {
   "cell_type": "code",
   "execution_count": 8,
   "id": "ce5a4617",
   "metadata": {},
   "outputs": [],
   "source": [
    "a = 100"
   ]
  },
  {
   "cell_type": "code",
   "execution_count": 6,
   "id": "bce7479c",
   "metadata": {},
   "outputs": [
    {
     "data": {
      "text/plain": [
       "100"
      ]
     },
     "execution_count": 6,
     "metadata": {},
     "output_type": "execute_result"
    }
   ],
   "source": [
    "a"
   ]
  },
  {
   "cell_type": "code",
   "execution_count": 9,
   "id": "a1185ebe",
   "metadata": {},
   "outputs": [],
   "source": [
    "b = 100"
   ]
  },
  {
   "cell_type": "code",
   "execution_count": 10,
   "id": "37567e12",
   "metadata": {},
   "outputs": [],
   "source": [
    "c = 200"
   ]
  },
  {
   "cell_type": "code",
   "execution_count": 11,
   "id": "f9108ce3",
   "metadata": {},
   "outputs": [],
   "source": [
    "value = 12.34"
   ]
  },
  {
   "cell_type": "code",
   "execution_count": 12,
   "id": "77b5fa73",
   "metadata": {},
   "outputs": [],
   "source": [
    "name = 'mohan' # \"mohan\""
   ]
  },
  {
   "cell_type": "code",
   "execution_count": 14,
   "id": "c89acc1a",
   "metadata": {},
   "outputs": [
    {
     "data": {
      "text/plain": [
       "100"
      ]
     },
     "execution_count": 14,
     "metadata": {},
     "output_type": "execute_result"
    }
   ],
   "source": [
    "b"
   ]
  },
  {
   "cell_type": "code",
   "execution_count": 15,
   "id": "b4834ddd",
   "metadata": {},
   "outputs": [
    {
     "data": {
      "text/plain": [
       "200"
      ]
     },
     "execution_count": 15,
     "metadata": {},
     "output_type": "execute_result"
    }
   ],
   "source": [
    "c"
   ]
  },
  {
   "cell_type": "code",
   "execution_count": 16,
   "id": "de3c9498",
   "metadata": {},
   "outputs": [
    {
     "data": {
      "text/plain": [
       "12.34"
      ]
     },
     "execution_count": 16,
     "metadata": {},
     "output_type": "execute_result"
    }
   ],
   "source": [
    "value"
   ]
  },
  {
   "cell_type": "code",
   "execution_count": 17,
   "id": "71831ce9",
   "metadata": {},
   "outputs": [
    {
     "data": {
      "text/plain": [
       "'mohan'"
      ]
     },
     "execution_count": 17,
     "metadata": {},
     "output_type": "execute_result"
    }
   ],
   "source": [
    "name"
   ]
  },
  {
   "cell_type": "code",
   "execution_count": 18,
   "id": "148c069b",
   "metadata": {},
   "outputs": [],
   "source": [
    "# memory locations"
   ]
  },
  {
   "cell_type": "code",
   "execution_count": 19,
   "id": "af02a5a5",
   "metadata": {},
   "outputs": [
    {
     "data": {
      "text/plain": [
       "140735740519168"
      ]
     },
     "execution_count": 19,
     "metadata": {},
     "output_type": "execute_result"
    }
   ],
   "source": [
    "id(a)"
   ]
  },
  {
   "cell_type": "code",
   "execution_count": 20,
   "id": "6b7358a9",
   "metadata": {},
   "outputs": [
    {
     "data": {
      "text/plain": [
       "140735740519168"
      ]
     },
     "execution_count": 20,
     "metadata": {},
     "output_type": "execute_result"
    }
   ],
   "source": [
    "id(b)"
   ]
  },
  {
   "cell_type": "code",
   "execution_count": 21,
   "id": "5cbfdc8d",
   "metadata": {},
   "outputs": [
    {
     "data": {
      "text/plain": [
       "140735740522368"
      ]
     },
     "execution_count": 21,
     "metadata": {},
     "output_type": "execute_result"
    }
   ],
   "source": [
    "id(c)"
   ]
  },
  {
   "cell_type": "code",
   "execution_count": 22,
   "id": "d5405c03",
   "metadata": {},
   "outputs": [
    {
     "data": {
      "text/plain": [
       "1654174789552"
      ]
     },
     "execution_count": 22,
     "metadata": {},
     "output_type": "execute_result"
    }
   ],
   "source": [
    "id(value)"
   ]
  },
  {
   "cell_type": "code",
   "execution_count": 23,
   "id": "730dd05f",
   "metadata": {},
   "outputs": [
    {
     "data": {
      "text/plain": [
       "1654174407408"
      ]
     },
     "execution_count": 23,
     "metadata": {},
     "output_type": "execute_result"
    }
   ],
   "source": [
    "id(name)"
   ]
  },
  {
   "cell_type": "code",
   "execution_count": 26,
   "id": "a2454c8e",
   "metadata": {},
   "outputs": [],
   "source": [
    "name = 100"
   ]
  },
  {
   "cell_type": "code",
   "execution_count": 25,
   "id": "99db9ed7",
   "metadata": {},
   "outputs": [
    {
     "data": {
      "text/plain": [
       "140735740519168"
      ]
     },
     "execution_count": 25,
     "metadata": {},
     "output_type": "execute_result"
    }
   ],
   "source": [
    "id(name)"
   ]
  },
  {
   "cell_type": "code",
   "execution_count": 27,
   "id": "f2c15c39",
   "metadata": {},
   "outputs": [],
   "source": [
    "x,y,z = 100,500,1000"
   ]
  },
  {
   "cell_type": "code",
   "execution_count": 28,
   "id": "5f112e3e",
   "metadata": {},
   "outputs": [
    {
     "data": {
      "text/plain": [
       "100"
      ]
     },
     "execution_count": 28,
     "metadata": {},
     "output_type": "execute_result"
    }
   ],
   "source": [
    "x"
   ]
  },
  {
   "cell_type": "code",
   "execution_count": 29,
   "id": "798eee10",
   "metadata": {},
   "outputs": [
    {
     "data": {
      "text/plain": [
       "500"
      ]
     },
     "execution_count": 29,
     "metadata": {},
     "output_type": "execute_result"
    }
   ],
   "source": [
    "y"
   ]
  },
  {
   "cell_type": "code",
   "execution_count": 30,
   "id": "230c0223",
   "metadata": {},
   "outputs": [
    {
     "data": {
      "text/plain": [
       "1000"
      ]
     },
     "execution_count": 30,
     "metadata": {},
     "output_type": "execute_result"
    }
   ],
   "source": [
    "z"
   ]
  },
  {
   "cell_type": "code",
   "execution_count": 35,
   "id": "dc30f683",
   "metadata": {},
   "outputs": [],
   "source": [
    "x = y = z = q = 999"
   ]
  },
  {
   "cell_type": "code",
   "execution_count": 32,
   "id": "c4a04d30",
   "metadata": {},
   "outputs": [
    {
     "data": {
      "text/plain": [
       "999"
      ]
     },
     "execution_count": 32,
     "metadata": {},
     "output_type": "execute_result"
    }
   ],
   "source": [
    "x"
   ]
  },
  {
   "cell_type": "code",
   "execution_count": 33,
   "id": "82e27556",
   "metadata": {},
   "outputs": [
    {
     "data": {
      "text/plain": [
       "999"
      ]
     },
     "execution_count": 33,
     "metadata": {},
     "output_type": "execute_result"
    }
   ],
   "source": [
    "y"
   ]
  },
  {
   "cell_type": "code",
   "execution_count": 34,
   "id": "f24449f6",
   "metadata": {},
   "outputs": [
    {
     "data": {
      "text/plain": [
       "999"
      ]
     },
     "execution_count": 34,
     "metadata": {},
     "output_type": "execute_result"
    }
   ],
   "source": [
    "z"
   ]
  },
  {
   "cell_type": "code",
   "execution_count": 36,
   "id": "f0d5234e",
   "metadata": {},
   "outputs": [
    {
     "data": {
      "text/plain": [
       "999"
      ]
     },
     "execution_count": 36,
     "metadata": {},
     "output_type": "execute_result"
    }
   ],
   "source": [
    "q"
   ]
  },
  {
   "cell_type": "code",
   "execution_count": null,
   "id": "101c506d",
   "metadata": {},
   "outputs": [],
   "source": []
  }
 ],
 "metadata": {
  "kernelspec": {
   "display_name": "Python 3 (ipykernel)",
   "language": "python",
   "name": "python3"
  },
  "language_info": {
   "codemirror_mode": {
    "name": "ipython",
    "version": 3
   },
   "file_extension": ".py",
   "mimetype": "text/x-python",
   "name": "python",
   "nbconvert_exporter": "python",
   "pygments_lexer": "ipython3",
   "version": "3.8.3"
  }
 },
 "nbformat": 4,
 "nbformat_minor": 5
}
