{
 "cells": [
  {
   "cell_type": "code",
   "execution_count": null,
   "id": "6179c8bd",
   "metadata": {},
   "outputs": [],
   "source": [
    "# install virtual environment\n",
    "\n",
    "pip install virtualenv\n",
    "\n",
    "\n",
    "# create virtual environment\n",
    "\n",
    "python -m venv  'env name'\n",
    "\n",
    "# activate environment\n",
    "\n",
    "./env name/Scripts/activate"
   ]
  },
  {
   "cell_type": "markdown",
   "id": "a53bb6c8",
   "metadata": {},
   "source": [
    "# A virtual environment is a tool that helps to keep dependencies required by different projects separate by creating isolated python virtual environments for them."
   ]
  },
  {
   "cell_type": "code",
   "execution_count": null,
   "id": "fa8ea22a",
   "metadata": {},
   "outputs": [],
   "source": []
  }
 ],
 "metadata": {
  "kernelspec": {
   "display_name": "Python 3 (ipykernel)",
   "language": "python",
   "name": "python3"
  },
  "language_info": {
   "codemirror_mode": {
    "name": "ipython",
    "version": 3
   },
   "file_extension": ".py",
   "mimetype": "text/x-python",
   "name": "python",
   "nbconvert_exporter": "python",
   "pygments_lexer": "ipython3",
   "version": "3.8.3"
  }
 },
 "nbformat": 4,
 "nbformat_minor": 5
}
