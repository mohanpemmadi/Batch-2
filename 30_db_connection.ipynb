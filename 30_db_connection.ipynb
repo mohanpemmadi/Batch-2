{
 "cells": [
  {
   "cell_type": "code",
   "execution_count": 1,
   "id": "7deeec55",
   "metadata": {},
   "outputs": [],
   "source": [
    "# Datbase Server - Postgresql, Mysql,oracle,SQL server, Mongodb\n",
    "\n",
    "# PgAdmin (optional) -> Interface to communicate with databases and tables\n",
    "\n",
    "# psycopg2 -> It is a python module to communicate with Databses and Tables"
   ]
  },
  {
   "cell_type": "code",
   "execution_count": 4,
   "id": "ce0d1c54",
   "metadata": {},
   "outputs": [],
   "source": [
    "import psycopg2"
   ]
  },
  {
   "cell_type": "code",
   "execution_count": 8,
   "id": "9c8fb7ac",
   "metadata": {},
   "outputs": [],
   "source": [
    "conn = psycopg2.connect(host='127.0.0.1',user='postgres',password='root',port=5432,database='python')\n",
    "cur = conn.cursor() # cursor is a mediator to transfor queries"
   ]
  },
  {
   "cell_type": "markdown",
   "id": "bd3fb841",
   "metadata": {},
   "source": [
    "# Create a table"
   ]
  },
  {
   "cell_type": "code",
   "execution_count": 7,
   "id": "c4a6c8ad",
   "metadata": {},
   "outputs": [
    {
     "name": "stdout",
     "output_type": "stream",
     "text": [
      "Table created\n"
     ]
    }
   ],
   "source": [
    "cur.execute('create table aadhar(aadhar_id int,name varchar(100),age int,city varchar(100))')\n",
    "conn.commit()\n",
    "print('Table created')"
   ]
  },
  {
   "cell_type": "markdown",
   "id": "a2394a6d",
   "metadata": {},
   "source": [
    "# Insert into a table"
   ]
  },
  {
   "cell_type": "code",
   "execution_count": 20,
   "id": "dfc7127f",
   "metadata": {},
   "outputs": [
    {
     "name": "stdout",
     "output_type": "stream",
     "text": [
      "data inserted\n"
     ]
    }
   ],
   "source": [
    "insert_query = \"insert into aadhar(aadhar_id,name,age,city) values('12349','srinu',41,'guntur')\"\n",
    "cur.execute(insert_query)\n",
    "conn.commit()\n",
    "print('data inserted')"
   ]
  },
  {
   "cell_type": "markdown",
   "id": "f6113cd9",
   "metadata": {},
   "source": [
    "# Select all data from a table"
   ]
  },
  {
   "cell_type": "code",
   "execution_count": 13,
   "id": "fb0601eb",
   "metadata": {},
   "outputs": [
    {
     "data": {
      "text/plain": [
       "[(12345, 'mohan', 31, 'guntur'),\n",
       " (12346, 'vasu', 35, 'guntur'),\n",
       " (12347, 'sree', 31, 'hyderabad'),\n",
       " (12348, 'ravi', 32, 'vijayawada')]"
      ]
     },
     "execution_count": 13,
     "metadata": {},
     "output_type": "execute_result"
    }
   ],
   "source": [
    "cur.execute(\"select * from aadhar\")\n",
    "data = cur.fetchall()\n",
    "data"
   ]
  },
  {
   "cell_type": "code",
   "execution_count": 15,
   "id": "5c1b6099",
   "metadata": {},
   "outputs": [
    {
     "name": "stdout",
     "output_type": "stream",
     "text": [
      "mohan\n",
      "vasu\n",
      "sree\n",
      "ravi\n"
     ]
    }
   ],
   "source": [
    "for row in data:\n",
    "    print(row[1])"
   ]
  },
  {
   "cell_type": "markdown",
   "id": "c4a14eaf",
   "metadata": {},
   "source": [
    "# Select data based on the condition"
   ]
  },
  {
   "cell_type": "code",
   "execution_count": 17,
   "id": "c144ba7e",
   "metadata": {},
   "outputs": [
    {
     "data": {
      "text/plain": [
       "(12345, 'mohan', 31, 'guntur')"
      ]
     },
     "execution_count": 17,
     "metadata": {},
     "output_type": "execute_result"
    }
   ],
   "source": [
    "cur.execute(\"select * from aadhar where aadhar_id='12345'\")\n",
    "data_ids = cur.fetchone()\n",
    "data_ids"
   ]
  },
  {
   "cell_type": "code",
   "execution_count": 18,
   "id": "8e391a32",
   "metadata": {},
   "outputs": [
    {
     "data": {
      "text/plain": [
       "[(12345, 'mohan', 31, 'guntur'), (12346, 'vasu', 35, 'guntur')]"
      ]
     },
     "execution_count": 18,
     "metadata": {},
     "output_type": "execute_result"
    }
   ],
   "source": [
    "cur.execute(\"select * from aadhar where city='guntur'\")\n",
    "data_city = cur.fetchall()\n",
    "data_city"
   ]
  },
  {
   "cell_type": "code",
   "execution_count": 19,
   "id": "5ad288a8",
   "metadata": {},
   "outputs": [
    {
     "data": {
      "text/plain": [
       "(12345, 'mohan', 31, 'guntur')"
      ]
     },
     "execution_count": 19,
     "metadata": {},
     "output_type": "execute_result"
    }
   ],
   "source": [
    "cur.execute(\"select * from aadhar where city='guntur'\")\n",
    "data_city = cur.fetchone()\n",
    "data_city"
   ]
  },
  {
   "cell_type": "code",
   "execution_count": 22,
   "id": "1e6225f7",
   "metadata": {},
   "outputs": [
    {
     "data": {
      "text/plain": [
       "[(12345, 'mohan', 31, 'guntur'),\n",
       " (12346, 'vasu', 35, 'guntur'),\n",
       " (12349, 'srinu', 41, 'guntur')]"
      ]
     },
     "execution_count": 22,
     "metadata": {},
     "output_type": "execute_result"
    }
   ],
   "source": [
    "cur.execute(\"select * from aadhar where city='guntur' and age<45\")\n",
    "data_city = cur.fetchall()\n",
    "data_city"
   ]
  },
  {
   "cell_type": "markdown",
   "id": "a81f22b7",
   "metadata": {},
   "source": [
    "# delete from a table"
   ]
  },
  {
   "cell_type": "code",
   "execution_count": 23,
   "id": "ce57a069",
   "metadata": {},
   "outputs": [
    {
     "name": "stdout",
     "output_type": "stream",
     "text": [
      "data deleted\n"
     ]
    }
   ],
   "source": [
    "cur.execute(\"delete from aadhar where age=41\")\n",
    "conn.commit()\n",
    "print('data deleted')"
   ]
  },
  {
   "cell_type": "markdown",
   "id": "5ee57184",
   "metadata": {},
   "source": [
    "# update data"
   ]
  },
  {
   "cell_type": "code",
   "execution_count": 24,
   "id": "5bf58bf2",
   "metadata": {},
   "outputs": [
    {
     "name": "stdout",
     "output_type": "stream",
     "text": [
      "data updated\n"
     ]
    }
   ],
   "source": [
    "cur.execute(\"update aadhar set age=33 where name='mohan'\")\n",
    "conn.commit()\n",
    "print('data updated')\n"
   ]
  },
  {
   "cell_type": "code",
   "execution_count": 25,
   "id": "ce6dc973",
   "metadata": {},
   "outputs": [
    {
     "name": "stdout",
     "output_type": "stream",
     "text": [
      "data updated\n"
     ]
    }
   ],
   "source": [
    "cur.execute(\"update aadhar set age=40\")\n",
    "conn.commit()\n",
    "print('data updated')"
   ]
  },
  {
   "cell_type": "code",
   "execution_count": null,
   "id": "938e31f0",
   "metadata": {},
   "outputs": [],
   "source": []
  }
 ],
 "metadata": {
  "kernelspec": {
   "display_name": "Python 3 (ipykernel)",
   "language": "python",
   "name": "python3"
  },
  "language_info": {
   "codemirror_mode": {
    "name": "ipython",
    "version": 3
   },
   "file_extension": ".py",
   "mimetype": "text/x-python",
   "name": "python",
   "nbconvert_exporter": "python",
   "pygments_lexer": "ipython3",
   "version": "3.8.3"
  }
 },
 "nbformat": 4,
 "nbformat_minor": 5
}
